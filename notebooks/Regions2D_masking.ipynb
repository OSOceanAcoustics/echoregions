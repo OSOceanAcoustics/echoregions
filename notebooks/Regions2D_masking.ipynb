{
 "cells": [
  {
   "cell_type": "markdown",
   "metadata": {
    "id": "-zCSjwt8rLwh"
   },
   "source": [
    "[![Open In Colab](https://colab.research.google.com/assets/colab-badge.svg)](https://colab.research.google.com/drive/1Gt9RZOtY9KF0_IfokOjeyyCEZtBS5XpQ)"
   ]
  },
  {
   "cell_type": "markdown",
   "metadata": {
    "id": "AKf2xd043neN"
   },
   "source": [
    "# Echoregions Regions2D Plotting Demonstration"
   ]
  },
  {
   "cell_type": "markdown",
   "metadata": {
    "id": "aLY87Xsi5BEa"
   },
   "source": [
    "This notebook demonstrates some of the functionalities of `echoregions` to read Echoview region `.evr` files and visualize regions."
   ]
  },
  {
   "cell_type": "code",
   "execution_count": 92,
   "metadata": {
    "id": "T3CW9Wrn4o0N"
   },
   "outputs": [
    {
     "name": "stdout",
     "output_type": "stream",
     "text": [
      "Collecting git+https://github.com/OSOceanAcoustics/echoregions@04f0cf15baf727efdb82c6f07d16fe239b0b405d\n",
      "  Cloning https://github.com/OSOceanAcoustics/echoregions (to revision 04f0cf15baf727efdb82c6f07d16fe239b0b405d) to /private/var/folders/fq/3s4jskh93cv0__zlk6lw0l780000gn/T/pip-req-build-m05034s1\n",
      "  Running command git clone -q https://github.com/OSOceanAcoustics/echoregions /private/var/folders/fq/3s4jskh93cv0__zlk6lw0l780000gn/T/pip-req-build-m05034s1\n",
      "  Running command git rev-parse -q --verify 'sha^04f0cf15baf727efdb82c6f07d16fe239b0b405d'\n",
      "  Running command git fetch -q https://github.com/OSOceanAcoustics/echoregions 04f0cf15baf727efdb82c6f07d16fe239b0b405d\n",
      "  Running command git checkout -q 04f0cf15baf727efdb82c6f07d16fe239b0b405d\n",
      "  Resolved https://github.com/OSOceanAcoustics/echoregions to commit 04f0cf15baf727efdb82c6f07d16fe239b0b405d\n",
      "Requirement already satisfied: numpy in /Users/valentina/anaconda/envs/echoregions/lib/python3.9/site-packages (from echoregions==0.1) (1.22.3)\n",
      "Requirement already satisfied: pandas in /Users/valentina/anaconda/envs/echoregions/lib/python3.9/site-packages (from echoregions==0.1) (1.4.2)\n",
      "Requirement already satisfied: matplotlib in /Users/valentina/anaconda/envs/echoregions/lib/python3.9/site-packages (from echoregions==0.1) (3.5.2)\n",
      "Requirement already satisfied: python-dateutil>=2.7 in /Users/valentina/anaconda/envs/echoregions/lib/python3.9/site-packages (from matplotlib->echoregions==0.1) (2.8.2)\n",
      "Requirement already satisfied: fonttools>=4.22.0 in /Users/valentina/anaconda/envs/echoregions/lib/python3.9/site-packages (from matplotlib->echoregions==0.1) (4.33.3)\n",
      "Requirement already satisfied: kiwisolver>=1.0.1 in /Users/valentina/anaconda/envs/echoregions/lib/python3.9/site-packages (from matplotlib->echoregions==0.1) (1.4.2)\n",
      "Requirement already satisfied: cycler>=0.10 in /Users/valentina/anaconda/envs/echoregions/lib/python3.9/site-packages (from matplotlib->echoregions==0.1) (0.11.0)\n",
      "Requirement already satisfied: pyparsing>=2.2.1 in /Users/valentina/anaconda/envs/echoregions/lib/python3.9/site-packages (from matplotlib->echoregions==0.1) (3.0.4)\n",
      "Requirement already satisfied: packaging>=20.0 in /Users/valentina/anaconda/envs/echoregions/lib/python3.9/site-packages (from matplotlib->echoregions==0.1) (21.3)\n",
      "Requirement already satisfied: pillow>=6.2.0 in /Users/valentina/anaconda/envs/echoregions/lib/python3.9/site-packages (from matplotlib->echoregions==0.1) (9.1.0)\n",
      "Requirement already satisfied: six>=1.5 in /Users/valentina/anaconda/envs/echoregions/lib/python3.9/site-packages (from python-dateutil>=2.7->matplotlib->echoregions==0.1) (1.16.0)\n",
      "Requirement already satisfied: pytz>=2020.1 in /Users/valentina/anaconda/envs/echoregions/lib/python3.9/site-packages (from pandas->echoregions==0.1) (2022.1)\n",
      "Building wheels for collected packages: echoregions\n",
      "  Building wheel for echoregions (setup.py) ... \u001b[?25ldone\n",
      "\u001b[?25h  Created wheel for echoregions: filename=echoregions-0.1-py3-none-any.whl size=21737 sha256=a22306bd9d613e5d53b4b2e41120b35f9c5c7862b27e6ba91a48023fb23be77b\n",
      "  Stored in directory: /Users/valentina/Library/Caches/pip/wheels/2d/0a/21/1116f282513287417aa5da08cff35ffb2aa89a52386eb915e6\n",
      "Successfully built echoregions\n",
      "Installing collected packages: echoregions\n",
      "  Attempting uninstall: echoregions\n",
      "    Found existing installation: echoregions 0.1\n",
      "    Uninstalling echoregions-0.1:\n",
      "      Successfully uninstalled echoregions-0.1\n",
      "Successfully installed echoregions-0.1\n"
     ]
    }
   ],
   "source": [
    "# install echoregions package (I should fix to the current version in the repo?)\n",
    "!pip install git+https://github.com/OSOceanAcoustics/echoregions@04f0cf15baf727efdb82c6f07d16fe239b0b405d"
   ]
  },
  {
   "cell_type": "code",
   "execution_count": 94,
   "metadata": {
    "id": "sONE45Q8J0iL"
   },
   "outputs": [],
   "source": [
    "# install echopype to read echousounder files\n",
    "!pip install -q echopype==0.5.5"
   ]
  },
  {
   "cell_type": "code",
   "execution_count": 95,
   "metadata": {},
   "outputs": [
    {
     "name": "stdout",
     "output_type": "stream",
     "text": [
      "Requirement already satisfied: gdown in /Users/valentina/anaconda/envs/echoregions/lib/python3.9/site-packages (4.4.0)\n",
      "Requirement already satisfied: beautifulsoup4 in /Users/valentina/anaconda/envs/echoregions/lib/python3.9/site-packages (from gdown) (4.11.1)\n",
      "Requirement already satisfied: requests[socks] in /Users/valentina/anaconda/envs/echoregions/lib/python3.9/site-packages (from gdown) (2.27.1)\n",
      "Requirement already satisfied: six in /Users/valentina/anaconda/envs/echoregions/lib/python3.9/site-packages (from gdown) (1.16.0)\n",
      "Requirement already satisfied: filelock in /Users/valentina/anaconda/envs/echoregions/lib/python3.9/site-packages (from gdown) (3.6.0)\n",
      "Requirement already satisfied: tqdm in /Users/valentina/anaconda/envs/echoregions/lib/python3.9/site-packages (from gdown) (4.64.0)\n",
      "Requirement already satisfied: soupsieve>1.2 in /Users/valentina/anaconda/envs/echoregions/lib/python3.9/site-packages (from beautifulsoup4->gdown) (2.3.1)\n",
      "Requirement already satisfied: urllib3<1.27,>=1.21.1 in /Users/valentina/anaconda/envs/echoregions/lib/python3.9/site-packages (from requests[socks]->gdown) (1.26.9)\n",
      "Requirement already satisfied: certifi>=2017.4.17 in /Users/valentina/anaconda/envs/echoregions/lib/python3.9/site-packages (from requests[socks]->gdown) (2021.10.8)\n",
      "Requirement already satisfied: idna<4,>=2.5 in /Users/valentina/anaconda/envs/echoregions/lib/python3.9/site-packages (from requests[socks]->gdown) (3.3)\n",
      "Requirement already satisfied: charset-normalizer~=2.0.0 in /Users/valentina/anaconda/envs/echoregions/lib/python3.9/site-packages (from requests[socks]->gdown) (2.0.12)\n",
      "Requirement already satisfied: PySocks!=1.5.7,>=1.5.6 in /Users/valentina/anaconda/envs/echoregions/lib/python3.9/site-packages (from requests[socks]->gdown) (1.7.1)\n"
     ]
    }
   ],
   "source": [
    "!pip install gdown"
   ]
  },
  {
   "cell_type": "code",
   "execution_count": null,
   "metadata": {},
   "outputs": [],
   "source": []
  },
  {
   "cell_type": "code",
   "execution_count": 96,
   "metadata": {
    "id": "_VAZbCCW3neS"
   },
   "outputs": [],
   "source": [
    "import matplotlib.pyplot as plt\n",
    "import xarray as xr\n",
    "import os\n",
    "import numpy as np\n",
    "import pandas as pd"
   ]
  },
  {
   "cell_type": "code",
   "execution_count": 97,
   "metadata": {},
   "outputs": [],
   "source": [
    "import regionmask"
   ]
  },
  {
   "cell_type": "code",
   "execution_count": 98,
   "metadata": {
    "id": "oHWulGhLoHX8"
   },
   "outputs": [],
   "source": [
    "import warnings\n",
    "warnings.filterwarnings(\"ignore\", category=DeprecationWarning)"
   ]
  },
  {
   "cell_type": "code",
   "execution_count": 99,
   "metadata": {
    "id": "S1Fpr-l84hot"
   },
   "outputs": [],
   "source": [
    "import echoregions as er"
   ]
  },
  {
   "cell_type": "code",
   "execution_count": 100,
   "metadata": {
    "colab": {
     "base_uri": "https://localhost:8080/"
    },
    "id": "Wtv-4K2w4C6r",
    "outputId": "ac6166d4-8653-408f-a7e9-989086c69e64"
   },
   "outputs": [
    {
     "name": "stdout",
     "output_type": "stream",
     "text": [
      "--2022-06-14 03:58:32--  https://raw.githubusercontent.com/OSOceanAcoustics/echoregions/main/echoregions/test_data/x1.evr\n",
      "Resolving raw.githubusercontent.com (raw.githubusercontent.com)... 185.199.108.133, 185.199.109.133, 185.199.110.133, ...\n",
      "Connecting to raw.githubusercontent.com (raw.githubusercontent.com)|185.199.108.133|:443... connected.\n",
      "HTTP request sent, awaiting response... 200 OK\n",
      "Length: 9349 (9.1K) [text/plain]\n",
      "Saving to: ‘x1.evr’\n",
      "\n",
      "x1.evr              100%[===================>]   9.13K  --.-KB/s    in 0.002s  \n",
      "\n",
      "2022-06-14 03:58:32 (4.95 MB/s) - ‘x1.evr’ saved [9349/9349]\n",
      "\n"
     ]
    }
   ],
   "source": [
    "# download an example file\n",
    "!wget https://raw.githubusercontent.com/OSOceanAcoustics/echoregions/main/echoregions/test_data/x1.evr -O x1.evr"
   ]
  },
  {
   "cell_type": "code",
   "execution_count": 101,
   "metadata": {
    "id": "dQK6jRzO3neP"
   },
   "outputs": [],
   "source": [
    "EVR_FILE = 'x1.evr'"
   ]
  },
  {
   "cell_type": "markdown",
   "metadata": {
    "id": "aM0g5v_I3neQ"
   },
   "source": [
    "### Get a Regions2D object with `read_evr`"
   ]
  },
  {
   "cell_type": "code",
   "execution_count": 102,
   "metadata": {
    "id": "i5xFzyLC3neR",
    "scrolled": true
   },
   "outputs": [
    {
     "name": "stderr",
     "output_type": "stream",
     "text": [
      "/Users/valentina/projects/echoregions/echoregions/convert/evr_parser.py:113: FutureWarning: The frame.append method is deprecated and will be removed from pandas in a future version. Use pandas.concat instead.\n",
      "  df = df.append(row, ignore_index=True)\n",
      "/Users/valentina/projects/echoregions/echoregions/convert/evr_parser.py:113: FutureWarning: The frame.append method is deprecated and will be removed from pandas in a future version. Use pandas.concat instead.\n",
      "  df = df.append(row, ignore_index=True)\n",
      "/Users/valentina/projects/echoregions/echoregions/convert/evr_parser.py:113: FutureWarning: The frame.append method is deprecated and will be removed from pandas in a future version. Use pandas.concat instead.\n",
      "  df = df.append(row, ignore_index=True)\n",
      "/Users/valentina/projects/echoregions/echoregions/convert/evr_parser.py:113: FutureWarning: The frame.append method is deprecated and will be removed from pandas in a future version. Use pandas.concat instead.\n",
      "  df = df.append(row, ignore_index=True)\n",
      "/Users/valentina/projects/echoregions/echoregions/convert/evr_parser.py:113: FutureWarning: The frame.append method is deprecated and will be removed from pandas in a future version. Use pandas.concat instead.\n",
      "  df = df.append(row, ignore_index=True)\n",
      "/Users/valentina/projects/echoregions/echoregions/convert/evr_parser.py:113: FutureWarning: The frame.append method is deprecated and will be removed from pandas in a future version. Use pandas.concat instead.\n",
      "  df = df.append(row, ignore_index=True)\n",
      "/Users/valentina/projects/echoregions/echoregions/convert/evr_parser.py:113: FutureWarning: The frame.append method is deprecated and will be removed from pandas in a future version. Use pandas.concat instead.\n",
      "  df = df.append(row, ignore_index=True)\n",
      "/Users/valentina/projects/echoregions/echoregions/convert/evr_parser.py:113: FutureWarning: The frame.append method is deprecated and will be removed from pandas in a future version. Use pandas.concat instead.\n",
      "  df = df.append(row, ignore_index=True)\n",
      "/Users/valentina/projects/echoregions/echoregions/convert/evr_parser.py:113: FutureWarning: The frame.append method is deprecated and will be removed from pandas in a future version. Use pandas.concat instead.\n",
      "  df = df.append(row, ignore_index=True)\n",
      "/Users/valentina/projects/echoregions/echoregions/convert/evr_parser.py:113: FutureWarning: The frame.append method is deprecated and will be removed from pandas in a future version. Use pandas.concat instead.\n",
      "  df = df.append(row, ignore_index=True)\n",
      "/Users/valentina/projects/echoregions/echoregions/convert/evr_parser.py:113: FutureWarning: The frame.append method is deprecated and will be removed from pandas in a future version. Use pandas.concat instead.\n",
      "  df = df.append(row, ignore_index=True)\n",
      "/Users/valentina/projects/echoregions/echoregions/convert/evr_parser.py:113: FutureWarning: The frame.append method is deprecated and will be removed from pandas in a future version. Use pandas.concat instead.\n",
      "  df = df.append(row, ignore_index=True)\n",
      "/Users/valentina/projects/echoregions/echoregions/convert/evr_parser.py:113: FutureWarning: The frame.append method is deprecated and will be removed from pandas in a future version. Use pandas.concat instead.\n",
      "  df = df.append(row, ignore_index=True)\n",
      "/Users/valentina/projects/echoregions/echoregions/convert/evr_parser.py:113: FutureWarning: The frame.append method is deprecated and will be removed from pandas in a future version. Use pandas.concat instead.\n",
      "  df = df.append(row, ignore_index=True)\n",
      "/Users/valentina/projects/echoregions/echoregions/convert/evr_parser.py:113: FutureWarning: The frame.append method is deprecated and will be removed from pandas in a future version. Use pandas.concat instead.\n",
      "  df = df.append(row, ignore_index=True)\n",
      "/Users/valentina/projects/echoregions/echoregions/convert/evr_parser.py:113: FutureWarning: The frame.append method is deprecated and will be removed from pandas in a future version. Use pandas.concat instead.\n",
      "  df = df.append(row, ignore_index=True)\n",
      "/Users/valentina/projects/echoregions/echoregions/convert/evr_parser.py:113: FutureWarning: The frame.append method is deprecated and will be removed from pandas in a future version. Use pandas.concat instead.\n",
      "  df = df.append(row, ignore_index=True)\n",
      "/Users/valentina/projects/echoregions/echoregions/convert/evr_parser.py:113: FutureWarning: The frame.append method is deprecated and will be removed from pandas in a future version. Use pandas.concat instead.\n",
      "  df = df.append(row, ignore_index=True)\n",
      "/Users/valentina/projects/echoregions/echoregions/convert/evr_parser.py:113: FutureWarning: The frame.append method is deprecated and will be removed from pandas in a future version. Use pandas.concat instead.\n",
      "  df = df.append(row, ignore_index=True)\n",
      "/Users/valentina/projects/echoregions/echoregions/convert/evr_parser.py:113: FutureWarning: The frame.append method is deprecated and will be removed from pandas in a future version. Use pandas.concat instead.\n",
      "  df = df.append(row, ignore_index=True)\n",
      "/Users/valentina/projects/echoregions/echoregions/convert/evr_parser.py:113: FutureWarning: The frame.append method is deprecated and will be removed from pandas in a future version. Use pandas.concat instead.\n",
      "  df = df.append(row, ignore_index=True)\n",
      "/Users/valentina/projects/echoregions/echoregions/convert/evr_parser.py:113: FutureWarning: The frame.append method is deprecated and will be removed from pandas in a future version. Use pandas.concat instead.\n",
      "  df = df.append(row, ignore_index=True)\n",
      "/Users/valentina/projects/echoregions/echoregions/convert/evr_parser.py:113: FutureWarning: The frame.append method is deprecated and will be removed from pandas in a future version. Use pandas.concat instead.\n",
      "  df = df.append(row, ignore_index=True)\n",
      "/Users/valentina/projects/echoregions/echoregions/convert/evr_parser.py:113: FutureWarning: The frame.append method is deprecated and will be removed from pandas in a future version. Use pandas.concat instead.\n",
      "  df = df.append(row, ignore_index=True)\n",
      "/Users/valentina/projects/echoregions/echoregions/convert/evr_parser.py:113: FutureWarning: The frame.append method is deprecated and will be removed from pandas in a future version. Use pandas.concat instead.\n",
      "  df = df.append(row, ignore_index=True)\n",
      "/Users/valentina/projects/echoregions/echoregions/convert/evr_parser.py:113: FutureWarning: The frame.append method is deprecated and will be removed from pandas in a future version. Use pandas.concat instead.\n",
      "  df = df.append(row, ignore_index=True)\n",
      "/Users/valentina/projects/echoregions/echoregions/convert/evr_parser.py:113: FutureWarning: The frame.append method is deprecated and will be removed from pandas in a future version. Use pandas.concat instead.\n",
      "  df = df.append(row, ignore_index=True)\n",
      "/Users/valentina/projects/echoregions/echoregions/convert/evr_parser.py:113: FutureWarning: The frame.append method is deprecated and will be removed from pandas in a future version. Use pandas.concat instead.\n",
      "  df = df.append(row, ignore_index=True)\n",
      "/Users/valentina/projects/echoregions/echoregions/convert/evr_parser.py:113: FutureWarning: The frame.append method is deprecated and will be removed from pandas in a future version. Use pandas.concat instead.\n",
      "  df = df.append(row, ignore_index=True)\n",
      "/Users/valentina/projects/echoregions/echoregions/convert/evr_parser.py:113: FutureWarning: The frame.append method is deprecated and will be removed from pandas in a future version. Use pandas.concat instead.\n",
      "  df = df.append(row, ignore_index=True)\n",
      "/Users/valentina/projects/echoregions/echoregions/convert/evr_parser.py:113: FutureWarning: The frame.append method is deprecated and will be removed from pandas in a future version. Use pandas.concat instead.\n",
      "  df = df.append(row, ignore_index=True)\n",
      "/Users/valentina/projects/echoregions/echoregions/convert/evr_parser.py:113: FutureWarning: The frame.append method is deprecated and will be removed from pandas in a future version. Use pandas.concat instead.\n",
      "  df = df.append(row, ignore_index=True)\n",
      "/Users/valentina/projects/echoregions/echoregions/convert/evr_parser.py:113: FutureWarning: The frame.append method is deprecated and will be removed from pandas in a future version. Use pandas.concat instead.\n",
      "  df = df.append(row, ignore_index=True)\n"
     ]
    }
   ],
   "source": [
    "r2d = er.read_evr(EVR_FILE)"
   ]
  },
  {
   "cell_type": "markdown",
   "metadata": {
    "id": "9FElDVm53neR"
   },
   "source": [
    "## Plotting"
   ]
  },
  {
   "cell_type": "code",
   "execution_count": 103,
   "metadata": {
    "colab": {
     "base_uri": "https://localhost:8080/"
    },
    "id": "-7iy5ZpG3neS",
    "outputId": "0ea5c6e3-de5a-4881-a48e-0930807ed239"
   },
   "outputs": [
    {
     "data": {
      "text/plain": [
       "<IntegerArray>\n",
       "[ 1,  2,  3,  4,  5,  6,  7,  8,  9, 10, 11, 12, 13, 14, 15, 16, 17, 18, 19,\n",
       " 20, 22, 23, 24, 25, 26, 27, 28, 29, 30, 32, 33, 34, 35]\n",
       "Length: 33, dtype: Int64"
      ]
     },
     "execution_count": 103,
     "metadata": {},
     "output_type": "execute_result"
    }
   ],
   "source": [
    "# Display availible regions\n",
    "r2d.data.region_id.values"
   ]
  },
  {
   "cell_type": "code",
   "execution_count": 104,
   "metadata": {
    "id": "UHleL_Meo2x_"
   },
   "outputs": [],
   "source": [
    "# let's select one id\n",
    "region_ids = [11]"
   ]
  },
  {
   "cell_type": "code",
   "execution_count": 105,
   "metadata": {
    "colab": {
     "base_uri": "https://localhost:8080/",
     "height": 513
    },
    "id": "l93_EJW43neT",
    "outputId": "d40894f8-732f-4fae-913f-9980c842fba3"
   },
   "outputs": [
    {
     "data": {
      "image/png": "[encoded data removed]",
      "text/plain": [
       "<Figure size 432x288 with 1 Axes>"
      ]
     },
     "metadata": {
      "needs_background": "light"
     },
     "output_type": "display_data"
    }
   ],
   "source": [
    "# Plot a region with a specific id with the `plot` function\n",
    "r2d.plot(region_ids[0])"
   ]
  },
  {
   "cell_type": "code",
   "execution_count": 106,
   "metadata": {
    "colab": {
     "base_uri": "https://localhost:8080/",
     "height": 513
    },
    "id": "gfihY48M3neU",
    "outputId": "eb957727-9d35-45a2-dec2-6c00e68a5713"
   },
   "outputs": [
    {
     "data": {
      "image/png": "[encoded data removed]",
      "text/plain": [
       "<Figure size 432x288 with 1 Axes>"
      ]
     },
     "metadata": {
      "needs_background": "light"
     },
     "output_type": "display_data"
    }
   ],
   "source": [
    "# Plot a closed region by using close_region=True.\n",
    "# Optionally provide matplotlib kwargs for more customization.\n",
    "r2d.plot(region_ids[0], close_region=True, color='k', alpha=.5, marker='x', markeredgecolor='red', markersize=12)"
   ]
  },
  {
   "cell_type": "code",
   "execution_count": 107,
   "metadata": {},
   "outputs": [
    {
     "data": {
      "text/html": [
       "<div>\n",
       "<style scoped>\n",
       "    .dataframe tbody tr th:only-of-type {\n",
       "        vertical-align: middle;\n",
       "    }\n",
       "\n",
       "    .dataframe tbody tr th {\n",
       "        vertical-align: top;\n",
       "    }\n",
       "\n",
       "    .dataframe thead th {\n",
       "        text-align: right;\n",
       "    }\n",
       "</style>\n",
       "<table border=\"1\" class=\"dataframe\">\n",
       "  <thead>\n",
       "    <tr style=\"text-align: right;\">\n",
       "      <th></th>\n",
       "      <th>file_name</th>\n",
       "      <th>file_type</th>\n",
       "      <th>evr_file_format_number</th>\n",
       "      <th>echoview_version</th>\n",
       "      <th>region_id</th>\n",
       "      <th>region_structure_version</th>\n",
       "      <th>region_point_count</th>\n",
       "      <th>region_selected</th>\n",
       "      <th>region_creation_type</th>\n",
       "      <th>dummy</th>\n",
       "      <th>...</th>\n",
       "      <th>region_bbox_right</th>\n",
       "      <th>region_bbox_top</th>\n",
       "      <th>region_bbox_bottom</th>\n",
       "      <th>region_class</th>\n",
       "      <th>region_type</th>\n",
       "      <th>region_name</th>\n",
       "      <th>time</th>\n",
       "      <th>depth</th>\n",
       "      <th>region_notes</th>\n",
       "      <th>region_detection_settings</th>\n",
       "    </tr>\n",
       "  </thead>\n",
       "  <tbody>\n",
       "    <tr>\n",
       "      <th>10</th>\n",
       "      <td>x1</td>\n",
       "      <td>EVRG</td>\n",
       "      <td>7</td>\n",
       "      <td>12.0.341.42620</td>\n",
       "      <td>11</td>\n",
       "      <td>13</td>\n",
       "      <td>10</td>\n",
       "      <td>0</td>\n",
       "      <td>2</td>\n",
       "      <td>-1</td>\n",
       "      <td>...</td>\n",
       "      <td>2017-06-25 20:02:08.535700</td>\n",
       "      <td>102.255201</td>\n",
       "      <td>127.947603</td>\n",
       "      <td>Unknown</td>\n",
       "      <td>1</td>\n",
       "      <td>Chicken nugget</td>\n",
       "      <td>[2017-06-25T20:01:47.093000000, 2017-06-25T20:...</td>\n",
       "      <td>[102.2552007996, 103.7403107496, 109.532239554...</td>\n",
       "      <td>[]</td>\n",
       "      <td>[]</td>\n",
       "    </tr>\n",
       "  </tbody>\n",
       "</table>\n",
       "<p>1 rows × 22 columns</p>\n",
       "</div>"
      ],
      "text/plain": [
       "   file_name file_type evr_file_format_number echoview_version  region_id  \\\n",
       "10        x1      EVRG                      7   12.0.341.42620         11   \n",
       "\n",
       "   region_structure_version region_point_count region_selected  \\\n",
       "10                       13                 10               0   \n",
       "\n",
       "   region_creation_type dummy  ...          region_bbox_right region_bbox_top  \\\n",
       "10                    2    -1  ... 2017-06-25 20:02:08.535700      102.255201   \n",
       "\n",
       "   region_bbox_bottom  region_class  region_type     region_name  \\\n",
       "10         127.947603       Unknown            1  Chicken nugget   \n",
       "\n",
       "                                                 time  \\\n",
       "10  [2017-06-25T20:01:47.093000000, 2017-06-25T20:...   \n",
       "\n",
       "                                                depth region_notes  \\\n",
       "10  [102.2552007996, 103.7403107496, 109.532239554...           []   \n",
       "\n",
       "   region_detection_settings  \n",
       "10                        []  \n",
       "\n",
       "[1 rows x 22 columns]"
      ]
     },
     "execution_count": 107,
     "metadata": {},
     "output_type": "execute_result"
    }
   ],
   "source": [
    "r2d.select_region(region_ids)"
   ]
  },
  {
   "cell_type": "markdown",
   "metadata": {
    "id": "sIIrsX0d3neV"
   },
   "source": [
    "## Plotting regions on an echogram"
   ]
  },
  {
   "cell_type": "markdown",
   "metadata": {
    "id": "r_qchiNhgO31"
   },
   "source": [
    "#### Reading Preprocessed Sonar Files\n",
    "\n",
    "We have converted and calibrated a sample of echosounder files from the same transect and stored them in `.nc`. We can directly read them with the `xarray` library. "
   ]
  },
  {
   "cell_type": "code",
   "execution_count": 108,
   "metadata": {
    "id": "dH-VFcZzaVHD"
   },
   "outputs": [],
   "source": [
    "# mounting the google drive (uncomment if you have permission to read directly from Google Drive)\n",
    "# from google.colab import drive\n",
    "# drive.mount('/content/drive/') "
   ]
  },
  {
   "cell_type": "code",
   "execution_count": 109,
   "metadata": {
    "id": "cb-N9sJVb25R"
   },
   "outputs": [],
   "source": [
    "# Paths for Google Drive read  (uncomment if you have permission to read directly from Google Drive)\n",
    "# SONAR_PATH_Sv = '/content/drive/Shareddrives/uw-echospace/shared_data/SH1707/sample/Sv/'\n",
    "# SONAR_PATH_raw = '/content/drive/Shareddrives/uw-echospace/shared_data/SH1707/sample/raw_converted/'"
   ]
  },
  {
   "cell_type": "code",
   "execution_count": 64,
   "metadata": {
    "colab": {
     "base_uri": "https://localhost:8080/",
     "height": 104
    },
    "id": "gHIUJMWrcDih",
    "outputId": "6daa10e9-8139-4a1d-abd0-80cd7acdcb42"
   },
   "outputs": [
    {
     "name": "stderr",
     "output_type": "stream",
     "text": [
      "Downloading...\n",
      "From: https://drive.google.com/uc?id=1rPO8NaXS9cGtl0ex4KIc7HmT2PnXPg0S\n",
      "To: /Users/valentina/projects/echoregions/notebooks/sample.zip\n",
      "\n",
      "  0%|                                                       | 0.00/1.67G [00:00<?, ?B/s]\u001b[A\n",
      "  0%|                                                | 524k/1.67G [00:00<31:14, 890kB/s]\u001b[A\n",
      "  0%|                                              | 1.05M/1.67G [00:00<23:34, 1.18MB/s]\u001b[A\n",
      "  0%|                                              | 1.57M/1.67G [00:01<20:39, 1.35MB/s]\u001b[A\n",
      "  0%|                                              | 2.10M/1.67G [00:01<19:27, 1.43MB/s]\u001b[A\n",
      "  0%|                                              | 2.62M/1.67G [00:01<18:59, 1.46MB/s]\u001b[A\n",
      "  0%|                                              | 3.15M/1.67G [00:02<16:52, 1.65MB/s]\u001b[A\n",
      "  0%|                                              | 3.67M/1.67G [00:02<16:40, 1.67MB/s]\u001b[A\n",
      "  0%|                                              | 4.19M/1.67G [00:02<15:24, 1.80MB/s]\u001b[A\n",
      "  0%|▏                                             | 4.72M/1.67G [00:02<14:27, 1.92MB/s]\u001b[A\n",
      "  0%|▏                                             | 5.24M/1.67G [00:03<14:43, 1.88MB/s]\u001b[A\n",
      "  0%|▏                                             | 5.77M/1.67G [00:03<13:53, 2.00MB/s]\u001b[A\n",
      "  0%|▏                                             | 6.29M/1.67G [00:03<12:33, 2.21MB/s]\u001b[A\n",
      "  0%|▏                                             | 6.82M/1.67G [00:03<12:46, 2.17MB/s]\u001b[A\n",
      "  0%|▏                                             | 7.34M/1.67G [00:04<11:24, 2.43MB/s]\u001b[A\n",
      "  0%|▏                                             | 7.86M/1.67G [00:04<11:43, 2.36MB/s]\u001b[A\n",
      "  1%|▏                                             | 8.39M/1.67G [00:04<11:08, 2.49MB/s]\u001b[A\n",
      "  1%|▏                                             | 8.91M/1.67G [00:04<10:11, 2.72MB/s]\u001b[A\n",
      "  1%|▎                                             | 9.44M/1.67G [00:04<10:55, 2.53MB/s]\u001b[A\n",
      "  1%|▎                                             | 9.96M/1.67G [00:05<10:14, 2.70MB/s]\u001b[A\n",
      "  1%|▎                                             | 10.5M/1.67G [00:05<10:03, 2.75MB/s]\u001b[A\n",
      "  1%|▎                                             | 11.0M/1.67G [00:05<10:46, 2.57MB/s]\u001b[A\n",
      "  1%|▎                                             | 11.5M/1.67G [00:05<11:23, 2.43MB/s]\u001b[A\n",
      "  1%|▎                                             | 12.1M/1.67G [00:05<10:52, 2.54MB/s]\u001b[A\n",
      "  1%|▎                                             | 12.6M/1.67G [00:06<10:16, 2.69MB/s]\u001b[A"
     ]
    },
    {
     "ename": "KeyboardInterrupt",
     "evalue": "",
     "output_type": "error",
     "traceback": [
      "\u001b[0;31m---------------------------------------------------------------------------\u001b[0m",
      "\u001b[0;31mKeyboardInterrupt\u001b[0m                         Traceback (most recent call last)",
      "Input \u001b[0;32mIn [64]\u001b[0m, in \u001b[0;36m<cell line: 6>\u001b[0;34m()\u001b[0m\n\u001b[1;32m      4\u001b[0m url \u001b[38;5;241m=\u001b[39m \u001b[38;5;124m'\u001b[39m\u001b[38;5;124mhttps://drive.google.com/uc?id=1rPO8NaXS9cGtl0ex4KIc7HmT2PnXPg0S\u001b[39m\u001b[38;5;124m'\u001b[39m\n\u001b[1;32m      5\u001b[0m output \u001b[38;5;241m=\u001b[39m \u001b[38;5;124m'\u001b[39m\u001b[38;5;124msample.zip\u001b[39m\u001b[38;5;124m'\u001b[39m\n\u001b[0;32m----> 6\u001b[0m \u001b[43mgdown\u001b[49m\u001b[38;5;241;43m.\u001b[39;49m\u001b[43mdownload\u001b[49m\u001b[43m(\u001b[49m\u001b[43murl\u001b[49m\u001b[43m,\u001b[49m\u001b[43m \u001b[49m\u001b[43moutput\u001b[49m\u001b[43m,\u001b[49m\u001b[43m \u001b[49m\u001b[43mquiet\u001b[49m\u001b[38;5;241;43m=\u001b[39;49m\u001b[38;5;28;43;01mFalse\u001b[39;49;00m\u001b[43m)\u001b[49m\n",
      "File \u001b[0;32m~/anaconda/envs/echoregions/lib/python3.9/site-packages/gdown/download.py:257\u001b[0m, in \u001b[0;36mdownload\u001b[0;34m(url, output, quiet, proxy, speed, use_cookies, verify, id, fuzzy, resume)\u001b[0m\n\u001b[1;32m    255\u001b[0m     pbar \u001b[38;5;241m=\u001b[39m tqdm\u001b[38;5;241m.\u001b[39mtqdm(total\u001b[38;5;241m=\u001b[39mtotal, unit\u001b[38;5;241m=\u001b[39m\u001b[38;5;124m\"\u001b[39m\u001b[38;5;124mB\u001b[39m\u001b[38;5;124m\"\u001b[39m, unit_scale\u001b[38;5;241m=\u001b[39m\u001b[38;5;28;01mTrue\u001b[39;00m)\n\u001b[1;32m    256\u001b[0m t_start \u001b[38;5;241m=\u001b[39m time\u001b[38;5;241m.\u001b[39mtime()\n\u001b[0;32m--> 257\u001b[0m \u001b[38;5;28;01mfor\u001b[39;00m chunk \u001b[38;5;129;01min\u001b[39;00m res\u001b[38;5;241m.\u001b[39miter_content(chunk_size\u001b[38;5;241m=\u001b[39mCHUNK_SIZE):\n\u001b[1;32m    258\u001b[0m     f\u001b[38;5;241m.\u001b[39mwrite(chunk)\n\u001b[1;32m    259\u001b[0m     \u001b[38;5;28;01mif\u001b[39;00m \u001b[38;5;129;01mnot\u001b[39;00m quiet:\n",
      "File \u001b[0;32m~/anaconda/envs/echoregions/lib/python3.9/site-packages/requests/models.py:760\u001b[0m, in \u001b[0;36mResponse.iter_content.<locals>.generate\u001b[0;34m()\u001b[0m\n\u001b[1;32m    758\u001b[0m \u001b[38;5;28;01mif\u001b[39;00m \u001b[38;5;28mhasattr\u001b[39m(\u001b[38;5;28mself\u001b[39m\u001b[38;5;241m.\u001b[39mraw, \u001b[38;5;124m'\u001b[39m\u001b[38;5;124mstream\u001b[39m\u001b[38;5;124m'\u001b[39m):\n\u001b[1;32m    759\u001b[0m     \u001b[38;5;28;01mtry\u001b[39;00m:\n\u001b[0;32m--> 760\u001b[0m         \u001b[38;5;28;01mfor\u001b[39;00m chunk \u001b[38;5;129;01min\u001b[39;00m \u001b[38;5;28mself\u001b[39m\u001b[38;5;241m.\u001b[39mraw\u001b[38;5;241m.\u001b[39mstream(chunk_size, decode_content\u001b[38;5;241m=\u001b[39m\u001b[38;5;28;01mTrue\u001b[39;00m):\n\u001b[1;32m    761\u001b[0m             \u001b[38;5;28;01myield\u001b[39;00m chunk\n\u001b[1;32m    762\u001b[0m     \u001b[38;5;28;01mexcept\u001b[39;00m ProtocolError \u001b[38;5;28;01mas\u001b[39;00m e:\n",
      "File \u001b[0;32m~/anaconda/envs/echoregions/lib/python3.9/site-packages/urllib3/response.py:579\u001b[0m, in \u001b[0;36mHTTPResponse.stream\u001b[0;34m(self, amt, decode_content)\u001b[0m\n\u001b[1;32m    577\u001b[0m \u001b[38;5;28;01melse\u001b[39;00m:\n\u001b[1;32m    578\u001b[0m     \u001b[38;5;28;01mwhile\u001b[39;00m \u001b[38;5;129;01mnot\u001b[39;00m is_fp_closed(\u001b[38;5;28mself\u001b[39m\u001b[38;5;241m.\u001b[39m_fp):\n\u001b[0;32m--> 579\u001b[0m         data \u001b[38;5;241m=\u001b[39m \u001b[38;5;28;43mself\u001b[39;49m\u001b[38;5;241;43m.\u001b[39;49m\u001b[43mread\u001b[49m\u001b[43m(\u001b[49m\u001b[43mamt\u001b[49m\u001b[38;5;241;43m=\u001b[39;49m\u001b[43mamt\u001b[49m\u001b[43m,\u001b[49m\u001b[43m \u001b[49m\u001b[43mdecode_content\u001b[49m\u001b[38;5;241;43m=\u001b[39;49m\u001b[43mdecode_content\u001b[49m\u001b[43m)\u001b[49m\n\u001b[1;32m    581\u001b[0m         \u001b[38;5;28;01mif\u001b[39;00m data:\n\u001b[1;32m    582\u001b[0m             \u001b[38;5;28;01myield\u001b[39;00m data\n",
      "File \u001b[0;32m~/anaconda/envs/echoregions/lib/python3.9/site-packages/urllib3/response.py:522\u001b[0m, in \u001b[0;36mHTTPResponse.read\u001b[0;34m(self, amt, decode_content, cache_content)\u001b[0m\n\u001b[1;32m    520\u001b[0m \u001b[38;5;28;01melse\u001b[39;00m:\n\u001b[1;32m    521\u001b[0m     cache_content \u001b[38;5;241m=\u001b[39m \u001b[38;5;28;01mFalse\u001b[39;00m\n\u001b[0;32m--> 522\u001b[0m     data \u001b[38;5;241m=\u001b[39m \u001b[38;5;28;43mself\u001b[39;49m\u001b[38;5;241;43m.\u001b[39;49m\u001b[43m_fp\u001b[49m\u001b[38;5;241;43m.\u001b[39;49m\u001b[43mread\u001b[49m\u001b[43m(\u001b[49m\u001b[43mamt\u001b[49m\u001b[43m)\u001b[49m \u001b[38;5;28;01mif\u001b[39;00m \u001b[38;5;129;01mnot\u001b[39;00m fp_closed \u001b[38;5;28;01melse\u001b[39;00m \u001b[38;5;124mb\u001b[39m\u001b[38;5;124m\"\u001b[39m\u001b[38;5;124m\"\u001b[39m\n\u001b[1;32m    523\u001b[0m     \u001b[38;5;28;01mif\u001b[39;00m (\n\u001b[1;32m    524\u001b[0m         amt \u001b[38;5;241m!=\u001b[39m \u001b[38;5;241m0\u001b[39m \u001b[38;5;129;01mand\u001b[39;00m \u001b[38;5;129;01mnot\u001b[39;00m data\n\u001b[1;32m    525\u001b[0m     ):  \u001b[38;5;66;03m# Platform-specific: Buggy versions of Python.\u001b[39;00m\n\u001b[0;32m   (...)\u001b[0m\n\u001b[1;32m    531\u001b[0m         \u001b[38;5;66;03m# not properly close the connection in all cases. There is\u001b[39;00m\n\u001b[1;32m    532\u001b[0m         \u001b[38;5;66;03m# no harm in redundantly calling close.\u001b[39;00m\n\u001b[1;32m    533\u001b[0m         \u001b[38;5;28mself\u001b[39m\u001b[38;5;241m.\u001b[39m_fp\u001b[38;5;241m.\u001b[39mclose()\n",
      "File \u001b[0;32m~/anaconda/envs/echoregions/lib/python3.9/http/client.py:463\u001b[0m, in \u001b[0;36mHTTPResponse.read\u001b[0;34m(self, amt)\u001b[0m\n\u001b[1;32m    460\u001b[0m \u001b[38;5;28;01mif\u001b[39;00m amt \u001b[38;5;129;01mis\u001b[39;00m \u001b[38;5;129;01mnot\u001b[39;00m \u001b[38;5;28;01mNone\u001b[39;00m:\n\u001b[1;32m    461\u001b[0m     \u001b[38;5;66;03m# Amount is given, implement using readinto\u001b[39;00m\n\u001b[1;32m    462\u001b[0m     b \u001b[38;5;241m=\u001b[39m \u001b[38;5;28mbytearray\u001b[39m(amt)\n\u001b[0;32m--> 463\u001b[0m     n \u001b[38;5;241m=\u001b[39m \u001b[38;5;28;43mself\u001b[39;49m\u001b[38;5;241;43m.\u001b[39;49m\u001b[43mreadinto\u001b[49m\u001b[43m(\u001b[49m\u001b[43mb\u001b[49m\u001b[43m)\u001b[49m\n\u001b[1;32m    464\u001b[0m     \u001b[38;5;28;01mreturn\u001b[39;00m \u001b[38;5;28mmemoryview\u001b[39m(b)[:n]\u001b[38;5;241m.\u001b[39mtobytes()\n\u001b[1;32m    465\u001b[0m \u001b[38;5;28;01melse\u001b[39;00m:\n\u001b[1;32m    466\u001b[0m     \u001b[38;5;66;03m# Amount is not given (unbounded read) so we must check self.length\u001b[39;00m\n\u001b[1;32m    467\u001b[0m     \u001b[38;5;66;03m# and self.chunked\u001b[39;00m\n",
      "File \u001b[0;32m~/anaconda/envs/echoregions/lib/python3.9/http/client.py:507\u001b[0m, in \u001b[0;36mHTTPResponse.readinto\u001b[0;34m(self, b)\u001b[0m\n\u001b[1;32m    502\u001b[0m         b \u001b[38;5;241m=\u001b[39m \u001b[38;5;28mmemoryview\u001b[39m(b)[\u001b[38;5;241m0\u001b[39m:\u001b[38;5;28mself\u001b[39m\u001b[38;5;241m.\u001b[39mlength]\n\u001b[1;32m    504\u001b[0m \u001b[38;5;66;03m# we do not use _safe_read() here because this may be a .will_close\u001b[39;00m\n\u001b[1;32m    505\u001b[0m \u001b[38;5;66;03m# connection, and the user is reading more bytes than will be provided\u001b[39;00m\n\u001b[1;32m    506\u001b[0m \u001b[38;5;66;03m# (for example, reading in 1k chunks)\u001b[39;00m\n\u001b[0;32m--> 507\u001b[0m n \u001b[38;5;241m=\u001b[39m \u001b[38;5;28;43mself\u001b[39;49m\u001b[38;5;241;43m.\u001b[39;49m\u001b[43mfp\u001b[49m\u001b[38;5;241;43m.\u001b[39;49m\u001b[43mreadinto\u001b[49m\u001b[43m(\u001b[49m\u001b[43mb\u001b[49m\u001b[43m)\u001b[49m\n\u001b[1;32m    508\u001b[0m \u001b[38;5;28;01mif\u001b[39;00m \u001b[38;5;129;01mnot\u001b[39;00m n \u001b[38;5;129;01mand\u001b[39;00m b:\n\u001b[1;32m    509\u001b[0m     \u001b[38;5;66;03m# Ideally, we would raise IncompleteRead if the content-length\u001b[39;00m\n\u001b[1;32m    510\u001b[0m     \u001b[38;5;66;03m# wasn't satisfied, but it might break compatibility.\u001b[39;00m\n\u001b[1;32m    511\u001b[0m     \u001b[38;5;28mself\u001b[39m\u001b[38;5;241m.\u001b[39m_close_conn()\n",
      "File \u001b[0;32m~/anaconda/envs/echoregions/lib/python3.9/socket.py:704\u001b[0m, in \u001b[0;36mSocketIO.readinto\u001b[0;34m(self, b)\u001b[0m\n\u001b[1;32m    702\u001b[0m \u001b[38;5;28;01mwhile\u001b[39;00m \u001b[38;5;28;01mTrue\u001b[39;00m:\n\u001b[1;32m    703\u001b[0m     \u001b[38;5;28;01mtry\u001b[39;00m:\n\u001b[0;32m--> 704\u001b[0m         \u001b[38;5;28;01mreturn\u001b[39;00m \u001b[38;5;28;43mself\u001b[39;49m\u001b[38;5;241;43m.\u001b[39;49m\u001b[43m_sock\u001b[49m\u001b[38;5;241;43m.\u001b[39;49m\u001b[43mrecv_into\u001b[49m\u001b[43m(\u001b[49m\u001b[43mb\u001b[49m\u001b[43m)\u001b[49m\n\u001b[1;32m    705\u001b[0m     \u001b[38;5;28;01mexcept\u001b[39;00m timeout:\n\u001b[1;32m    706\u001b[0m         \u001b[38;5;28mself\u001b[39m\u001b[38;5;241m.\u001b[39m_timeout_occurred \u001b[38;5;241m=\u001b[39m \u001b[38;5;28;01mTrue\u001b[39;00m\n",
      "File \u001b[0;32m~/anaconda/envs/echoregions/lib/python3.9/ssl.py:1241\u001b[0m, in \u001b[0;36mSSLSocket.recv_into\u001b[0;34m(self, buffer, nbytes, flags)\u001b[0m\n\u001b[1;32m   1237\u001b[0m     \u001b[38;5;28;01mif\u001b[39;00m flags \u001b[38;5;241m!=\u001b[39m \u001b[38;5;241m0\u001b[39m:\n\u001b[1;32m   1238\u001b[0m         \u001b[38;5;28;01mraise\u001b[39;00m \u001b[38;5;167;01mValueError\u001b[39;00m(\n\u001b[1;32m   1239\u001b[0m           \u001b[38;5;124m\"\u001b[39m\u001b[38;5;124mnon-zero flags not allowed in calls to recv_into() on \u001b[39m\u001b[38;5;132;01m%s\u001b[39;00m\u001b[38;5;124m\"\u001b[39m \u001b[38;5;241m%\u001b[39m\n\u001b[1;32m   1240\u001b[0m           \u001b[38;5;28mself\u001b[39m\u001b[38;5;241m.\u001b[39m\u001b[38;5;18m__class__\u001b[39m)\n\u001b[0;32m-> 1241\u001b[0m     \u001b[38;5;28;01mreturn\u001b[39;00m \u001b[38;5;28;43mself\u001b[39;49m\u001b[38;5;241;43m.\u001b[39;49m\u001b[43mread\u001b[49m\u001b[43m(\u001b[49m\u001b[43mnbytes\u001b[49m\u001b[43m,\u001b[49m\u001b[43m \u001b[49m\u001b[43mbuffer\u001b[49m\u001b[43m)\u001b[49m\n\u001b[1;32m   1242\u001b[0m \u001b[38;5;28;01melse\u001b[39;00m:\n\u001b[1;32m   1243\u001b[0m     \u001b[38;5;28;01mreturn\u001b[39;00m \u001b[38;5;28msuper\u001b[39m()\u001b[38;5;241m.\u001b[39mrecv_into(buffer, nbytes, flags)\n",
      "File \u001b[0;32m~/anaconda/envs/echoregions/lib/python3.9/ssl.py:1099\u001b[0m, in \u001b[0;36mSSLSocket.read\u001b[0;34m(self, len, buffer)\u001b[0m\n\u001b[1;32m   1097\u001b[0m \u001b[38;5;28;01mtry\u001b[39;00m:\n\u001b[1;32m   1098\u001b[0m     \u001b[38;5;28;01mif\u001b[39;00m buffer \u001b[38;5;129;01mis\u001b[39;00m \u001b[38;5;129;01mnot\u001b[39;00m \u001b[38;5;28;01mNone\u001b[39;00m:\n\u001b[0;32m-> 1099\u001b[0m         \u001b[38;5;28;01mreturn\u001b[39;00m \u001b[38;5;28;43mself\u001b[39;49m\u001b[38;5;241;43m.\u001b[39;49m\u001b[43m_sslobj\u001b[49m\u001b[38;5;241;43m.\u001b[39;49m\u001b[43mread\u001b[49m\u001b[43m(\u001b[49m\u001b[38;5;28;43mlen\u001b[39;49m\u001b[43m,\u001b[49m\u001b[43m \u001b[49m\u001b[43mbuffer\u001b[49m\u001b[43m)\u001b[49m\n\u001b[1;32m   1100\u001b[0m     \u001b[38;5;28;01melse\u001b[39;00m:\n\u001b[1;32m   1101\u001b[0m         \u001b[38;5;28;01mreturn\u001b[39;00m \u001b[38;5;28mself\u001b[39m\u001b[38;5;241m.\u001b[39m_sslobj\u001b[38;5;241m.\u001b[39mread(\u001b[38;5;28mlen\u001b[39m)\n",
      "\u001b[0;31mKeyboardInterrupt\u001b[0m: "
     ]
    }
   ],
   "source": [
    "# download a zipped sample folder from publicly available Google Drive\n",
    "import gdown\n",
    "\n",
    "url = 'https://drive.google.com/uc?id=1rPO8NaXS9cGtl0ex4KIc7HmT2PnXPg0S'\n",
    "output = 'sample.zip'\n",
    "gdown.download(url, output, quiet=False)"
   ]
  },
  {
   "cell_type": "code",
   "execution_count": null,
   "metadata": {
    "colab": {
     "base_uri": "https://localhost:8080/"
    },
    "id": "6jdQCXzdcH96",
    "outputId": "7a28738e-73b1-42e0-b4e0-1a1a855420f2"
   },
   "outputs": [],
   "source": [
    "# unzip into a sample folder\n",
    "!unzip -o sample.zip"
   ]
  },
  {
   "cell_type": "code",
   "execution_count": 110,
   "metadata": {
    "id": "R5dYlEEFdCyZ"
   },
   "outputs": [],
   "source": [
    "# Paths for local read\n",
    "SONAR_PATH_Sv = './sample/Sv/'\n",
    "SONAR_PATH_raw = './sample/raw_converted/'"
   ]
  },
  {
   "cell_type": "markdown",
   "metadata": {
    "id": "pT_SgAMhl756"
   },
   "source": [
    "Below we make a function which selects only the echosounder files corresponding to certain regions from a bigger set of files."
   ]
  },
  {
   "cell_type": "markdown",
   "metadata": {
    "id": "wQieZKlelE9D"
   },
   "source": [
    "The `Sv` dataset has a `range_bin` dimension and in order to convert that to actual `depth` one needs to read the water level from the platform data."
   ]
  },
  {
   "cell_type": "code",
   "execution_count": 111,
   "metadata": {},
   "outputs": [],
   "source": [
    "def read_Sv(SONAR_PATH_Sv, SONAR_PATH_raw, region_ids):\n",
    "    # Select the file(s) that a region is contained in.\n",
    "    raw_files = os.listdir(SONAR_PATH_raw)\n",
    "    \n",
    "\n",
    "    select_raw_files = r2d.select_sonar_file(raw_files, region_ids)\n",
    "        \n",
    "    # Select the file(s) that a region is contained in.\n",
    "    Sv_files = os.listdir(SONAR_PATH_Sv)\n",
    "    select_Sv_files = r2d.select_sonar_file(Sv_files, region_ids)\n",
    "    \n",
    "    # convert a single file output to a list of one element\n",
    "    if type(select_Sv_files) == str:\n",
    "        select_Sv_files = [select_Sv_files]\n",
    "    # convert a single file output to a list of one element\n",
    "    if type(select_raw_files) == str:\n",
    "        select_raw_files = [select_raw_files]\n",
    "        \n",
    "    # reading the selected Sv files into one dataset\n",
    "    Sv = xr.open_mfdataset([os.path.join(SONAR_PATH_Sv, item) for item in select_Sv_files])\n",
    "    \n",
    "    ## creating a depth dimension for Sv ##\n",
    "\n",
    "    # reading the processed platform data\n",
    "    ds_plat = xr.open_mfdataset([os.path.join(SONAR_PATH_raw, item) for item in select_raw_files], concat_dim='ping_time', combine='nested', group='Platform')\n",
    "    # assuming water level is constant\n",
    "    water_level = ds_plat.isel(location_time=0, frequency=0, ping_time=0).water_level\n",
    "    del ds_plat\n",
    "\n",
    "    Sv_range = Sv.range.isel(frequency=0, ping_time=0)\n",
    "\n",
    "    # assuming water levels are same for different frequencies and location_time\n",
    "    depth = water_level + Sv_range\n",
    "    depth = depth.drop_vars('frequency')\n",
    "    depth = depth.drop_vars('location_time')\n",
    "    # creating a new depth dimension\n",
    "    Sv['depth'] = depth\n",
    "    Sv = Sv.swap_dims({'range_bin': 'depth'})\n",
    "    return(Sv)"
   ]
  },
  {
   "cell_type": "code",
   "execution_count": 112,
   "metadata": {},
   "outputs": [],
   "source": [
    "Sv = read_Sv(SONAR_PATH_Sv, SONAR_PATH_raw, region_ids)"
   ]
  },
  {
   "cell_type": "code",
   "execution_count": 113,
   "metadata": {},
   "outputs": [],
   "source": [
    "# set the min and max depth based on the sonar files\n",
    "r2d.min_depth = Sv.depth.min()\n",
    "r2d.max_depth = Sv.depth.max()"
   ]
  },
  {
   "cell_type": "code",
   "execution_count": 114,
   "metadata": {},
   "outputs": [
    {
     "data": {
      "text/html": [
       "<div>\n",
       "<style scoped>\n",
       "    .dataframe tbody tr th:only-of-type {\n",
       "        vertical-align: middle;\n",
       "    }\n",
       "\n",
       "    .dataframe tbody tr th {\n",
       "        vertical-align: top;\n",
       "    }\n",
       "\n",
       "    .dataframe thead th {\n",
       "        text-align: right;\n",
       "    }\n",
       "</style>\n",
       "<table border=\"1\" class=\"dataframe\">\n",
       "  <thead>\n",
       "    <tr style=\"text-align: right;\">\n",
       "      <th></th>\n",
       "      <th>file_name</th>\n",
       "      <th>file_type</th>\n",
       "      <th>evr_file_format_number</th>\n",
       "      <th>echoview_version</th>\n",
       "      <th>region_id</th>\n",
       "      <th>region_structure_version</th>\n",
       "      <th>region_point_count</th>\n",
       "      <th>region_selected</th>\n",
       "      <th>region_creation_type</th>\n",
       "      <th>dummy</th>\n",
       "      <th>...</th>\n",
       "      <th>region_bbox_right</th>\n",
       "      <th>region_bbox_top</th>\n",
       "      <th>region_bbox_bottom</th>\n",
       "      <th>region_class</th>\n",
       "      <th>region_type</th>\n",
       "      <th>region_name</th>\n",
       "      <th>time</th>\n",
       "      <th>depth</th>\n",
       "      <th>region_notes</th>\n",
       "      <th>region_detection_settings</th>\n",
       "    </tr>\n",
       "  </thead>\n",
       "  <tbody>\n",
       "    <tr>\n",
       "      <th>10</th>\n",
       "      <td>x1</td>\n",
       "      <td>EVRG</td>\n",
       "      <td>7</td>\n",
       "      <td>12.0.341.42620</td>\n",
       "      <td>11</td>\n",
       "      <td>13</td>\n",
       "      <td>10</td>\n",
       "      <td>0</td>\n",
       "      <td>2</td>\n",
       "      <td>-1</td>\n",
       "      <td>...</td>\n",
       "      <td>2017-06-25 20:02:08.535700</td>\n",
       "      <td>102.255201</td>\n",
       "      <td>127.947603</td>\n",
       "      <td>Unknown</td>\n",
       "      <td>1</td>\n",
       "      <td>Chicken nugget</td>\n",
       "      <td>[2017-06-25T20:01:47.093000000, 2017-06-25T20:...</td>\n",
       "      <td>[102.2552007996, 103.7403107496, 109.532239554...</td>\n",
       "      <td>[]</td>\n",
       "      <td>[]</td>\n",
       "    </tr>\n",
       "  </tbody>\n",
       "</table>\n",
       "<p>1 rows × 22 columns</p>\n",
       "</div>"
      ],
      "text/plain": [
       "   file_name file_type evr_file_format_number echoview_version  region_id  \\\n",
       "10        x1      EVRG                      7   12.0.341.42620         11   \n",
       "\n",
       "   region_structure_version region_point_count region_selected  \\\n",
       "10                       13                 10               0   \n",
       "\n",
       "   region_creation_type dummy  ...          region_bbox_right region_bbox_top  \\\n",
       "10                    2    -1  ... 2017-06-25 20:02:08.535700      102.255201   \n",
       "\n",
       "   region_bbox_bottom  region_class  region_type     region_name  \\\n",
       "10         127.947603       Unknown            1  Chicken nugget   \n",
       "\n",
       "                                                 time  \\\n",
       "10  [2017-06-25T20:01:47.093000000, 2017-06-25T20:...   \n",
       "\n",
       "                                                depth region_notes  \\\n",
       "10  [102.2552007996, 103.7403107496, 109.532239554...           []   \n",
       "\n",
       "   region_detection_settings  \n",
       "10                        []  \n",
       "\n",
       "[1 rows x 22 columns]"
      ]
     },
     "execution_count": 114,
     "metadata": {},
     "output_type": "execute_result"
    }
   ],
   "source": [
    "r2d.select_region(region_ids[0])"
   ]
  },
  {
   "cell_type": "code",
   "execution_count": 115,
   "metadata": {},
   "outputs": [],
   "source": [
    "region_df = r2d.select_region(region_ids)"
   ]
  },
  {
   "cell_type": "code",
   "execution_count": 116,
   "metadata": {},
   "outputs": [
    {
     "data": {
      "text/html": [
       "<div>\n",
       "<style scoped>\n",
       "    .dataframe tbody tr th:only-of-type {\n",
       "        vertical-align: middle;\n",
       "    }\n",
       "\n",
       "    .dataframe tbody tr th {\n",
       "        vertical-align: top;\n",
       "    }\n",
       "\n",
       "    .dataframe thead th {\n",
       "        text-align: right;\n",
       "    }\n",
       "</style>\n",
       "<table border=\"1\" class=\"dataframe\">\n",
       "  <thead>\n",
       "    <tr style=\"text-align: right;\">\n",
       "      <th></th>\n",
       "      <th>file_name</th>\n",
       "      <th>file_type</th>\n",
       "      <th>evr_file_format_number</th>\n",
       "      <th>echoview_version</th>\n",
       "      <th>region_id</th>\n",
       "      <th>region_structure_version</th>\n",
       "      <th>region_point_count</th>\n",
       "      <th>region_selected</th>\n",
       "      <th>region_creation_type</th>\n",
       "      <th>dummy</th>\n",
       "      <th>...</th>\n",
       "      <th>region_bbox_right</th>\n",
       "      <th>region_bbox_top</th>\n",
       "      <th>region_bbox_bottom</th>\n",
       "      <th>region_class</th>\n",
       "      <th>region_type</th>\n",
       "      <th>region_name</th>\n",
       "      <th>time</th>\n",
       "      <th>depth</th>\n",
       "      <th>region_notes</th>\n",
       "      <th>region_detection_settings</th>\n",
       "    </tr>\n",
       "  </thead>\n",
       "  <tbody>\n",
       "    <tr>\n",
       "      <th>10</th>\n",
       "      <td>x1</td>\n",
       "      <td>EVRG</td>\n",
       "      <td>7</td>\n",
       "      <td>12.0.341.42620</td>\n",
       "      <td>11</td>\n",
       "      <td>13</td>\n",
       "      <td>10</td>\n",
       "      <td>0</td>\n",
       "      <td>2</td>\n",
       "      <td>-1</td>\n",
       "      <td>...</td>\n",
       "      <td>2017-06-25 20:02:08.535700</td>\n",
       "      <td>102.255201</td>\n",
       "      <td>127.947603</td>\n",
       "      <td>Unknown</td>\n",
       "      <td>1</td>\n",
       "      <td>Chicken nugget</td>\n",
       "      <td>[2017-06-25T20:01:47.093000000, 2017-06-25T20:...</td>\n",
       "      <td>[102.2552007996, 103.7403107496, 109.532239554...</td>\n",
       "      <td>[]</td>\n",
       "      <td>[]</td>\n",
       "    </tr>\n",
       "  </tbody>\n",
       "</table>\n",
       "<p>1 rows × 22 columns</p>\n",
       "</div>"
      ],
      "text/plain": [
       "   file_name file_type evr_file_format_number echoview_version  region_id  \\\n",
       "10        x1      EVRG                      7   12.0.341.42620         11   \n",
       "\n",
       "   region_structure_version region_point_count region_selected  \\\n",
       "10                       13                 10               0   \n",
       "\n",
       "   region_creation_type dummy  ...          region_bbox_right region_bbox_top  \\\n",
       "10                    2    -1  ... 2017-06-25 20:02:08.535700      102.255201   \n",
       "\n",
       "   region_bbox_bottom  region_class  region_type     region_name  \\\n",
       "10         127.947603       Unknown            1  Chicken nugget   \n",
       "\n",
       "                                                 time  \\\n",
       "10  [2017-06-25T20:01:47.093000000, 2017-06-25T20:...   \n",
       "\n",
       "                                                depth region_notes  \\\n",
       "10  [102.2552007996, 103.7403107496, 109.532239554...           []   \n",
       "\n",
       "   region_detection_settings  \n",
       "10                        []  \n",
       "\n",
       "[1 rows x 22 columns]"
      ]
     },
     "execution_count": 116,
     "metadata": {},
     "output_type": "execute_result"
    }
   ],
   "source": [
    "region_df"
   ]
  },
  {
   "cell_type": "code",
   "execution_count": 117,
   "metadata": {},
   "outputs": [
    {
     "data": {
      "text/plain": [
       "[11]"
      ]
     },
     "execution_count": 117,
     "metadata": {},
     "output_type": "execute_result"
    }
   ],
   "source": [
    "region_ids"
   ]
  },
  {
   "cell_type": "code",
   "execution_count": 118,
   "metadata": {},
   "outputs": [],
   "source": [
    "M = r2d.mask(Sv, region_ids, data_var=\"Sv\", mask_var=\"ROI\")"
   ]
  },
  {
   "cell_type": "code",
   "execution_count": 119,
   "metadata": {},
   "outputs": [
    {
     "data": {
      "text/html": [
       "<div><svg style=\"position: absolute; width: 0; height: 0; overflow: hidden\">\n",
       "<defs>\n",
       "<symbol id=\"icon-database\" viewBox=\"0 0 32 32\">\n",
       "<path d=\"M16 0c-8.837 0-16 2.239-16 5v4c0 2.761 7.163 5 16 5s16-2.239 16-5v-4c0-2.761-7.163-5-16-5z\"></path>\n",
       "<path d=\"M16 17c-8.837 0-16-2.239-16-5v6c0 2.761 7.163 5 16 5s16-2.239 16-5v-6c0 2.761-7.163 5-16 5z\"></path>\n",
       "<path d=\"M16 26c-8.837 0-16-2.239-16-5v6c0 2.761 7.163 5 16 5s16-2.239 16-5v-6c0 2.761-7.163 5-16 5z\"></path>\n",
       "</symbol>\n",
       "<symbol id=\"icon-file-text2\" viewBox=\"0 0 32 32\">\n",
       "<path d=\"M28.681 7.159c-0.694-0.947-1.662-2.053-2.724-3.116s-2.169-2.030-3.116-2.724c-1.612-1.182-2.393-1.319-2.841-1.319h-15.5c-1.378 0-2.5 1.121-2.5 2.5v27c0 1.378 1.122 2.5 2.5 2.5h23c1.378 0 2.5-1.122 2.5-2.5v-19.5c0-0.448-0.137-1.23-1.319-2.841zM24.543 5.457c0.959 0.959 1.712 1.825 2.268 2.543h-4.811v-4.811c0.718 0.556 1.584 1.309 2.543 2.268zM28 29.5c0 0.271-0.229 0.5-0.5 0.5h-23c-0.271 0-0.5-0.229-0.5-0.5v-27c0-0.271 0.229-0.5 0.5-0.5 0 0 15.499-0 15.5 0v7c0 0.552 0.448 1 1 1h7v19.5z\"></path>\n",
       "<path d=\"M23 26h-14c-0.552 0-1-0.448-1-1s0.448-1 1-1h14c0.552 0 1 0.448 1 1s-0.448 1-1 1z\"></path>\n",
       "<path d=\"M23 22h-14c-0.552 0-1-0.448-1-1s0.448-1 1-1h14c0.552 0 1 0.448 1 1s-0.448 1-1 1z\"></path>\n",
       "<path d=\"M23 18h-14c-0.552 0-1-0.448-1-1s0.448-1 1-1h14c0.552 0 1 0.448 1 1s-0.448 1-1 1z\"></path>\n",
       "</symbol>\n",
       "</defs>\n",
       "</svg>\n",
       "<style>/* CSS stylesheet for displaying xarray objects in jupyterlab.\n",
       " *\n",
       " */\n",
       "\n",
       ":root {\n",
       "  --xr-font-color0: var(--jp-content-font-color0, rgba(0, 0, 0, 1));\n",
       "  --xr-font-color2: var(--jp-content-font-color2, rgba(0, 0, 0, 0.54));\n",
       "  --xr-font-color3: var(--jp-content-font-color3, rgba(0, 0, 0, 0.38));\n",
       "  --xr-border-color: var(--jp-border-color2, #e0e0e0);\n",
       "  --xr-disabled-color: var(--jp-layout-color3, #bdbdbd);\n",
       "  --xr-background-color: var(--jp-layout-color0, white);\n",
       "  --xr-background-color-row-even: var(--jp-layout-color1, white);\n",
       "  --xr-background-color-row-odd: var(--jp-layout-color2, #eeeeee);\n",
       "}\n",
       "\n",
       "html[theme=dark],\n",
       "body.vscode-dark {\n",
       "  --xr-font-color0: rgba(255, 255, 255, 1);\n",
       "  --xr-font-color2: rgba(255, 255, 255, 0.54);\n",
       "  --xr-font-color3: rgba(255, 255, 255, 0.38);\n",
       "  --xr-border-color: #1F1F1F;\n",
       "  --xr-disabled-color: #515151;\n",
       "  --xr-background-color: #111111;\n",
       "  --xr-background-color-row-even: #111111;\n",
       "  --xr-background-color-row-odd: #313131;\n",
       "}\n",
       "\n",
       ".xr-wrap {\n",
       "  display: block !important;\n",
       "  min-width: 300px;\n",
       "  max-width: 700px;\n",
       "}\n",
       "\n",
       ".xr-text-repr-fallback {\n",
       "  /* fallback to plain text repr when CSS is not injected (untrusted notebook) */\n",
       "  display: none;\n",
       "}\n",
       "\n",
       ".xr-header {\n",
       "  padding-top: 6px;\n",
       "  padding-bottom: 6px;\n",
       "  margin-bottom: 4px;\n",
       "  border-bottom: solid 1px var(--xr-border-color);\n",
       "}\n",
       "\n",
       ".xr-header > div,\n",
       ".xr-header > ul {\n",
       "  display: inline;\n",
       "  margin-top: 0;\n",
       "  margin-bottom: 0;\n",
       "}\n",
       "\n",
       ".xr-obj-type,\n",
       ".xr-array-name {\n",
       "  margin-left: 2px;\n",
       "  margin-right: 10px;\n",
       "}\n",
       "\n",
       ".xr-obj-type {\n",
       "  color: var(--xr-font-color2);\n",
       "}\n",
       "\n",
       ".xr-sections {\n",
       "  padding-left: 0 !important;\n",
       "  display: grid;\n",
       "  grid-template-columns: 150px auto auto 1fr 20px 20px;\n",
       "}\n",
       "\n",
       ".xr-section-item {\n",
       "  display: contents;\n",
       "}\n",
       "\n",
       ".xr-section-item input {\n",
       "  display: none;\n",
       "}\n",
       "\n",
       ".xr-section-item input + label {\n",
       "  color: var(--xr-disabled-color);\n",
       "}\n",
       "\n",
       ".xr-section-item input:enabled + label {\n",
       "  cursor: pointer;\n",
       "  color: var(--xr-font-color2);\n",
       "}\n",
       "\n",
       ".xr-section-item input:enabled + label:hover {\n",
       "  color: var(--xr-font-color0);\n",
       "}\n",
       "\n",
       ".xr-section-summary {\n",
       "  grid-column: 1;\n",
       "  color: var(--xr-font-color2);\n",
       "  font-weight: 500;\n",
       "}\n",
       "\n",
       ".xr-section-summary > span {\n",
       "  display: inline-block;\n",
       "  padding-left: 0.5em;\n",
       "}\n",
       "\n",
       ".xr-section-summary-in:disabled + label {\n",
       "  color: var(--xr-font-color2);\n",
       "}\n",
       "\n",
       ".xr-section-summary-in + label:before {\n",
       "  display: inline-block;\n",
       "  content: '►';\n",
       "  font-size: 11px;\n",
       "  width: 15px;\n",
       "  text-align: center;\n",
       "}\n",
       "\n",
       ".xr-section-summary-in:disabled + label:before {\n",
       "  color: var(--xr-disabled-color);\n",
       "}\n",
       "\n",
       ".xr-section-summary-in:checked + label:before {\n",
       "  content: '▼';\n",
       "}\n",
       "\n",
       ".xr-section-summary-in:checked + label > span {\n",
       "  display: none;\n",
       "}\n",
       "\n",
       ".xr-section-summary,\n",
       ".xr-section-inline-details {\n",
       "  padding-top: 4px;\n",
       "  padding-bottom: 4px;\n",
       "}\n",
       "\n",
       ".xr-section-inline-details {\n",
       "  grid-column: 2 / -1;\n",
       "}\n",
       "\n",
       ".xr-section-details {\n",
       "  display: none;\n",
       "  grid-column: 1 / -1;\n",
       "  margin-bottom: 5px;\n",
       "}\n",
       "\n",
       ".xr-section-summary-in:checked ~ .xr-section-details {\n",
       "  display: contents;\n",
       "}\n",
       "\n",
       ".xr-array-wrap {\n",
       "  grid-column: 1 / -1;\n",
       "  display: grid;\n",
       "  grid-template-columns: 20px auto;\n",
       "}\n",
       "\n",
       ".xr-array-wrap > label {\n",
       "  grid-column: 1;\n",
       "  vertical-align: top;\n",
       "}\n",
       "\n",
       ".xr-preview {\n",
       "  color: var(--xr-font-color3);\n",
       "}\n",
       "\n",
       ".xr-array-preview,\n",
       ".xr-array-data {\n",
       "  padding: 0 5px !important;\n",
       "  grid-column: 2;\n",
       "}\n",
       "\n",
       ".xr-array-data,\n",
       ".xr-array-in:checked ~ .xr-array-preview {\n",
       "  display: none;\n",
       "}\n",
       "\n",
       ".xr-array-in:checked ~ .xr-array-data,\n",
       ".xr-array-preview {\n",
       "  display: inline-block;\n",
       "}\n",
       "\n",
       ".xr-dim-list {\n",
       "  display: inline-block !important;\n",
       "  list-style: none;\n",
       "  padding: 0 !important;\n",
       "  margin: 0;\n",
       "}\n",
       "\n",
       ".xr-dim-list li {\n",
       "  display: inline-block;\n",
       "  padding: 0;\n",
       "  margin: 0;\n",
       "}\n",
       "\n",
       ".xr-dim-list:before {\n",
       "  content: '(';\n",
       "}\n",
       "\n",
       ".xr-dim-list:after {\n",
       "  content: ')';\n",
       "}\n",
       "\n",
       ".xr-dim-list li:not(:last-child):after {\n",
       "  content: ',';\n",
       "  padding-right: 5px;\n",
       "}\n",
       "\n",
       ".xr-has-index {\n",
       "  font-weight: bold;\n",
       "}\n",
       "\n",
       ".xr-var-list,\n",
       ".xr-var-item {\n",
       "  display: contents;\n",
       "}\n",
       "\n",
       ".xr-var-item > div,\n",
       ".xr-var-item label,\n",
       ".xr-var-item > .xr-var-name span {\n",
       "  background-color: var(--xr-background-color-row-even);\n",
       "  margin-bottom: 0;\n",
       "}\n",
       "\n",
       ".xr-var-item > .xr-var-name:hover span {\n",
       "  padding-right: 5px;\n",
       "}\n",
       "\n",
       ".xr-var-list > li:nth-child(odd) > div,\n",
       ".xr-var-list > li:nth-child(odd) > label,\n",
       ".xr-var-list > li:nth-child(odd) > .xr-var-name span {\n",
       "  background-color: var(--xr-background-color-row-odd);\n",
       "}\n",
       "\n",
       ".xr-var-name {\n",
       "  grid-column: 1;\n",
       "}\n",
       "\n",
       ".xr-var-dims {\n",
       "  grid-column: 2;\n",
       "}\n",
       "\n",
       ".xr-var-dtype {\n",
       "  grid-column: 3;\n",
       "  text-align: right;\n",
       "  color: var(--xr-font-color2);\n",
       "}\n",
       "\n",
       ".xr-var-preview {\n",
       "  grid-column: 4;\n",
       "}\n",
       "\n",
       ".xr-var-name,\n",
       ".xr-var-dims,\n",
       ".xr-var-dtype,\n",
       ".xr-preview,\n",
       ".xr-attrs dt {\n",
       "  white-space: nowrap;\n",
       "  overflow: hidden;\n",
       "  text-overflow: ellipsis;\n",
       "  padding-right: 10px;\n",
       "}\n",
       "\n",
       ".xr-var-name:hover,\n",
       ".xr-var-dims:hover,\n",
       ".xr-var-dtype:hover,\n",
       ".xr-attrs dt:hover {\n",
       "  overflow: visible;\n",
       "  width: auto;\n",
       "  z-index: 1;\n",
       "}\n",
       "\n",
       ".xr-var-attrs,\n",
       ".xr-var-data {\n",
       "  display: none;\n",
       "  background-color: var(--xr-background-color) !important;\n",
       "  padding-bottom: 5px !important;\n",
       "}\n",
       "\n",
       ".xr-var-attrs-in:checked ~ .xr-var-attrs,\n",
       ".xr-var-data-in:checked ~ .xr-var-data {\n",
       "  display: block;\n",
       "}\n",
       "\n",
       ".xr-var-data > table {\n",
       "  float: right;\n",
       "}\n",
       "\n",
       ".xr-var-name span,\n",
       ".xr-var-data,\n",
       ".xr-attrs {\n",
       "  padding-left: 25px !important;\n",
       "}\n",
       "\n",
       ".xr-attrs,\n",
       ".xr-var-attrs,\n",
       ".xr-var-data {\n",
       "  grid-column: 1 / -1;\n",
       "}\n",
       "\n",
       "dl.xr-attrs {\n",
       "  padding: 0;\n",
       "  margin: 0;\n",
       "  display: grid;\n",
       "  grid-template-columns: 125px auto;\n",
       "}\n",
       "\n",
       ".xr-attrs dt,\n",
       ".xr-attrs dd {\n",
       "  padding: 0;\n",
       "  margin: 0;\n",
       "  float: left;\n",
       "  padding-right: 10px;\n",
       "  width: auto;\n",
       "}\n",
       "\n",
       ".xr-attrs dt {\n",
       "  font-weight: normal;\n",
       "  grid-column: 1;\n",
       "}\n",
       "\n",
       ".xr-attrs dt:hover span {\n",
       "  display: inline-block;\n",
       "  background: var(--xr-background-color);\n",
       "  padding-right: 10px;\n",
       "}\n",
       "\n",
       ".xr-attrs dd {\n",
       "  grid-column: 2;\n",
       "  white-space: pre-wrap;\n",
       "  word-break: break-all;\n",
       "}\n",
       "\n",
       ".xr-icon-database,\n",
       ".xr-icon-file-text2 {\n",
       "  display: inline-block;\n",
       "  vertical-align: middle;\n",
       "  width: 1em;\n",
       "  height: 1.5em !important;\n",
       "  stroke-width: 0;\n",
       "  stroke: currentColor;\n",
       "  fill: currentColor;\n",
       "}\n",
       "</style><pre class='xr-text-repr-fallback'>&lt;xarray.DataArray &#x27;ROI&#x27; (depth: 3957, ping_time: 529)&gt;\n",
       "array([[nan, nan, nan, ..., nan, nan, nan],\n",
       "       [nan, nan, nan, ..., nan, nan, nan],\n",
       "       [nan, nan, nan, ..., nan, nan, nan],\n",
       "       ...,\n",
       "       [nan, nan, nan, ..., nan, nan, nan],\n",
       "       [nan, nan, nan, ..., nan, nan, nan],\n",
       "       [nan, nan, nan, ..., nan, nan, nan]])\n",
       "Coordinates:\n",
       "    range_bin  (depth) int32 0 1 2 3 4 5 6 ... 3951 3952 3953 3954 3955 3956\n",
       "  * depth      (depth) float64 9.15 9.15 9.15 9.34 ... 757.9 758.1 758.3 758.5\n",
       "  * ping_time  (ping_time) datetime64[ns] 2017-06-25T19:59:27.270000128 ... 2...\n",
       "    unix_time  (ping_time) float64 1.734e+04 1.734e+04 ... 1.734e+04 1.734e+04</pre><div class='xr-wrap' style='display:none'><div class='xr-header'><div class='xr-obj-type'>xarray.DataArray</div><div class='xr-array-name'>'ROI'</div><ul class='xr-dim-list'><li><span class='xr-has-index'>depth</span>: 3957</li><li><span class='xr-has-index'>ping_time</span>: 529</li></ul></div><ul class='xr-sections'><li class='xr-section-item'><div class='xr-array-wrap'><input id='section-cbfe5143-bd48-4aea-85eb-928b3332dab0' class='xr-array-in' type='checkbox' checked><label for='section-cbfe5143-bd48-4aea-85eb-928b3332dab0' title='Show/hide data repr'><svg class='icon xr-icon-database'><use xlink:href='#icon-database'></use></svg></label><div class='xr-array-preview xr-preview'><span>nan nan nan nan nan nan nan nan ... nan nan nan nan nan nan nan nan</span></div><div class='xr-array-data'><pre>array([[nan, nan, nan, ..., nan, nan, nan],\n",
       "       [nan, nan, nan, ..., nan, nan, nan],\n",
       "       [nan, nan, nan, ..., nan, nan, nan],\n",
       "       ...,\n",
       "       [nan, nan, nan, ..., nan, nan, nan],\n",
       "       [nan, nan, nan, ..., nan, nan, nan],\n",
       "       [nan, nan, nan, ..., nan, nan, nan]])</pre></div></div></li><li class='xr-section-item'><input id='section-caa07539-bc28-4ed5-80db-3d3941225655' class='xr-section-summary-in' type='checkbox'  checked><label for='section-caa07539-bc28-4ed5-80db-3d3941225655' class='xr-section-summary' >Coordinates: <span>(4)</span></label><div class='xr-section-inline-details'></div><div class='xr-section-details'><ul class='xr-var-list'><li class='xr-var-item'><div class='xr-var-name'><span>range_bin</span></div><div class='xr-var-dims'>(depth)</div><div class='xr-var-dtype'>int32</div><div class='xr-var-preview xr-preview'>0 1 2 3 4 ... 3953 3954 3955 3956</div><input id='attrs-7cb49697-64a4-45af-94ce-02fa65eefbdd' class='xr-var-attrs-in' type='checkbox' disabled><label for='attrs-7cb49697-64a4-45af-94ce-02fa65eefbdd' title='Show/Hide attributes'><svg class='icon xr-icon-file-text2'><use xlink:href='#icon-file-text2'></use></svg></label><input id='data-1195cf13-73f0-4a51-a25b-8138aad9b86b' class='xr-var-data-in' type='checkbox'><label for='data-1195cf13-73f0-4a51-a25b-8138aad9b86b' title='Show/Hide data repr'><svg class='icon xr-icon-database'><use xlink:href='#icon-database'></use></svg></label><div class='xr-var-attrs'><dl class='xr-attrs'></dl></div><div class='xr-var-data'><pre>array([   0,    1,    2, ..., 3954, 3955, 3956], dtype=int32)</pre></div></li><li class='xr-var-item'><div class='xr-var-name'><span class='xr-has-index'>depth</span></div><div class='xr-var-dims'>(depth)</div><div class='xr-var-dtype'>float64</div><div class='xr-var-preview xr-preview'>9.15 9.15 9.15 ... 758.3 758.5</div><input id='attrs-916a137d-ba94-4baf-bf48-c4225ed3698e' class='xr-var-attrs-in' type='checkbox' disabled><label for='attrs-916a137d-ba94-4baf-bf48-c4225ed3698e' title='Show/Hide attributes'><svg class='icon xr-icon-file-text2'><use xlink:href='#icon-file-text2'></use></svg></label><input id='data-a2428ae8-b6d4-47ba-b0af-d015c50cb7e6' class='xr-var-data-in' type='checkbox'><label for='data-a2428ae8-b6d4-47ba-b0af-d015c50cb7e6' title='Show/Hide data repr'><svg class='icon xr-icon-database'><use xlink:href='#icon-database'></use></svg></label><div class='xr-var-attrs'><dl class='xr-attrs'></dl></div><div class='xr-var-data'><pre>array([  9.15    ,   9.15    ,   9.15    , ..., 758.133532, 758.323052,\n",
       "       758.512572])</pre></div></li><li class='xr-var-item'><div class='xr-var-name'><span class='xr-has-index'>ping_time</span></div><div class='xr-var-dims'>(ping_time)</div><div class='xr-var-dtype'>datetime64[ns]</div><div class='xr-var-preview xr-preview'>2017-06-25T19:59:27.270000128 .....</div><input id='attrs-ed652ac4-0af0-4242-833a-38cdad2c02a0' class='xr-var-attrs-in' type='checkbox' ><label for='attrs-ed652ac4-0af0-4242-833a-38cdad2c02a0' title='Show/Hide attributes'><svg class='icon xr-icon-file-text2'><use xlink:href='#icon-file-text2'></use></svg></label><input id='data-e712409c-0b01-42c7-9d4d-1dcff89c0487' class='xr-var-data-in' type='checkbox'><label for='data-e712409c-0b01-42c7-9d4d-1dcff89c0487' title='Show/Hide data repr'><svg class='icon xr-icon-database'><use xlink:href='#icon-database'></use></svg></label><div class='xr-var-attrs'><dl class='xr-attrs'><dt><span>axis :</span></dt><dd>T</dd><dt><span>long_name :</span></dt><dd>Timestamp of each ping</dd><dt><span>standard_name :</span></dt><dd>time</dd></dl></div><div class='xr-var-data'><pre>array([&#x27;2017-06-25T19:59:27.270000128&#x27;, &#x27;2017-06-25T19:59:30.143000064&#x27;,\n",
       "       &#x27;2017-06-25T19:59:33.017999872&#x27;, ..., &#x27;2017-06-25T20:24:44.264999936&#x27;,\n",
       "       &#x27;2017-06-25T20:24:47.139999744&#x27;, &#x27;2017-06-25T20:24:50.021000192&#x27;],\n",
       "      dtype=&#x27;datetime64[ns]&#x27;)</pre></div></li><li class='xr-var-item'><div class='xr-var-name'><span>unix_time</span></div><div class='xr-var-dims'>(ping_time)</div><div class='xr-var-dtype'>float64</div><div class='xr-var-preview xr-preview'>1.734e+04 1.734e+04 ... 1.734e+04</div><input id='attrs-ed9b7cad-f000-454a-be56-7f39ec86dac6' class='xr-var-attrs-in' type='checkbox' disabled><label for='attrs-ed9b7cad-f000-454a-be56-7f39ec86dac6' title='Show/Hide attributes'><svg class='icon xr-icon-file-text2'><use xlink:href='#icon-file-text2'></use></svg></label><input id='data-54f26bfe-a21d-413b-ac3f-6fa5e66d2339' class='xr-var-data-in' type='checkbox'><label for='data-54f26bfe-a21d-413b-ac3f-6fa5e66d2339' title='Show/Hide data repr'><svg class='icon xr-icon-database'><use xlink:href='#icon-database'></use></svg></label><div class='xr-var-attrs'><dl class='xr-attrs'></dl></div><div class='xr-var-data'><pre>array([17342.83295451, 17342.83298777, 17342.83302104, 17342.83305433,\n",
       "       17342.83308772, 17342.83312094, 17342.83315422, 17342.83318747,\n",
       "       17342.83322086, 17342.83325413, 17342.83328741, 17342.83332067,\n",
       "       17342.83335403, 17342.83338728, 17342.83342056, 17342.83345572,\n",
       "       17342.83348911, 17342.83352237, 17342.83355561, 17342.83358884,\n",
       "       17342.83362222, 17342.8336555 , 17342.83368876, 17342.83372204,\n",
       "       17342.83375538, 17342.83378862, 17342.83382185, 17342.83385513,\n",
       "       17342.83388851, 17342.83392176, 17342.83395503, 17342.83398826,\n",
       "       17342.83402163, 17342.83405491, 17342.83408816, 17342.8341233 ,\n",
       "       17342.83415668, 17342.83418992, 17342.83422317, 17342.83425644,\n",
       "       17342.83428992, 17342.83432318, 17342.83435645, 17342.83438969,\n",
       "       17342.83442306, 17342.83445632, 17342.83448957, 17342.83452284,\n",
       "       17342.83455622, 17342.83458946, 17342.83462271, 17342.83465595,\n",
       "       17342.83468932, 17342.83472258, 17342.83475584, 17342.83479098,\n",
       "       17342.83482435, 17342.8348576 , 17342.83489084, 17342.83492409,\n",
       "       17342.83495747, 17342.83499073, 17342.83502398, 17342.83505725,\n",
       "       17342.8350906 , 17342.83512385, 17342.83515711, 17342.83519037,\n",
       "       17342.83522373, 17342.83525699, 17342.83529023, 17342.83532348,\n",
       "       17342.83535685, 17342.83539012, 17342.83542336, 17342.83545851,\n",
       "       17342.83549187, 17342.83552513, 17342.83555838, 17342.83559163,\n",
       "...\n",
       "       17342.84804178, 17342.84807505, 17342.84810831, 17342.84814346,\n",
       "       17342.84817683, 17342.84821008, 17342.84824333, 17342.8482766 ,\n",
       "       17342.84830998, 17342.84834325, 17342.8483765 , 17342.84840976,\n",
       "       17342.84844312, 17342.84847639, 17342.84850965, 17342.84854288,\n",
       "       17342.84857626, 17342.8486095 , 17342.84864277, 17342.84867603,\n",
       "       17342.84870941, 17342.84874266, 17342.84877591, 17342.84881104,\n",
       "       17342.84884441, 17342.84887779, 17342.84891105, 17342.84894432,\n",
       "       17342.84897767, 17342.84901093, 17342.84904418, 17342.84907743,\n",
       "       17342.84911081, 17342.84914407, 17342.84917729, 17342.84921054,\n",
       "       17342.84924392, 17342.84927718, 17342.84931043, 17342.84934368,\n",
       "       17342.849377  , 17342.84941025, 17342.84944352, 17342.84947866,\n",
       "       17342.84951203, 17342.84954524, 17342.84957847, 17342.84961172,\n",
       "       17342.8496451 , 17342.84967836, 17342.84971161, 17342.84974485,\n",
       "       17342.84977818, 17342.84981144, 17342.8498447 , 17342.84987795,\n",
       "       17342.84991132, 17342.84994455, 17342.84997777, 17342.85001102,\n",
       "       17342.8500444 , 17342.85007765, 17342.85011089, 17342.85014603,\n",
       "       17342.85017938, 17342.85021264, 17342.85024604, 17342.85027931,\n",
       "       17342.85031266, 17342.85034593, 17342.85037917, 17342.85041243,\n",
       "       17342.85044581, 17342.85047907, 17342.85051233, 17342.8505456 ,\n",
       "       17342.85057895])</pre></div></li></ul></div></li><li class='xr-section-item'><input id='section-7c4d74af-a3c8-48b0-926d-7c7434eff4c0' class='xr-section-summary-in' type='checkbox' disabled ><label for='section-7c4d74af-a3c8-48b0-926d-7c7434eff4c0' class='xr-section-summary'  title='Expand/collapse section'>Attributes: <span>(0)</span></label><div class='xr-section-inline-details'></div><div class='xr-section-details'><dl class='xr-attrs'></dl></div></li></ul></div></div>"
      ],
      "text/plain": [
       "<xarray.DataArray 'ROI' (depth: 3957, ping_time: 529)>\n",
       "array([[nan, nan, nan, ..., nan, nan, nan],\n",
       "       [nan, nan, nan, ..., nan, nan, nan],\n",
       "       [nan, nan, nan, ..., nan, nan, nan],\n",
       "       ...,\n",
       "       [nan, nan, nan, ..., nan, nan, nan],\n",
       "       [nan, nan, nan, ..., nan, nan, nan],\n",
       "       [nan, nan, nan, ..., nan, nan, nan]])\n",
       "Coordinates:\n",
       "    range_bin  (depth) int32 0 1 2 3 4 5 6 ... 3951 3952 3953 3954 3955 3956\n",
       "  * depth      (depth) float64 9.15 9.15 9.15 9.34 ... 757.9 758.1 758.3 758.5\n",
       "  * ping_time  (ping_time) datetime64[ns] 2017-06-25T19:59:27.270000128 ... 2...\n",
       "    unix_time  (ping_time) float64 1.734e+04 1.734e+04 ... 1.734e+04 1.734e+04"
      ]
     },
     "execution_count": 119,
     "metadata": {},
     "output_type": "execute_result"
    }
   ],
   "source": [
    "# the mask has nan's where outside of the region\n",
    "M"
   ]
  },
  {
   "cell_type": "code",
   "execution_count": 120,
   "metadata": {},
   "outputs": [
    {
     "data": {
      "text/html": [
       "<div><svg style=\"position: absolute; width: 0; height: 0; overflow: hidden\">\n",
       "<defs>\n",
       "<symbol id=\"icon-database\" viewBox=\"0 0 32 32\">\n",
       "<path d=\"M16 0c-8.837 0-16 2.239-16 5v4c0 2.761 7.163 5 16 5s16-2.239 16-5v-4c0-2.761-7.163-5-16-5z\"></path>\n",
       "<path d=\"M16 17c-8.837 0-16-2.239-16-5v6c0 2.761 7.163 5 16 5s16-2.239 16-5v-6c0 2.761-7.163 5-16 5z\"></path>\n",
       "<path d=\"M16 26c-8.837 0-16-2.239-16-5v6c0 2.761 7.163 5 16 5s16-2.239 16-5v-6c0 2.761-7.163 5-16 5z\"></path>\n",
       "</symbol>\n",
       "<symbol id=\"icon-file-text2\" viewBox=\"0 0 32 32\">\n",
       "<path d=\"M28.681 7.159c-0.694-0.947-1.662-2.053-2.724-3.116s-2.169-2.030-3.116-2.724c-1.612-1.182-2.393-1.319-2.841-1.319h-15.5c-1.378 0-2.5 1.121-2.5 2.5v27c0 1.378 1.122 2.5 2.5 2.5h23c1.378 0 2.5-1.122 2.5-2.5v-19.5c0-0.448-0.137-1.23-1.319-2.841zM24.543 5.457c0.959 0.959 1.712 1.825 2.268 2.543h-4.811v-4.811c0.718 0.556 1.584 1.309 2.543 2.268zM28 29.5c0 0.271-0.229 0.5-0.5 0.5h-23c-0.271 0-0.5-0.229-0.5-0.5v-27c0-0.271 0.229-0.5 0.5-0.5 0 0 15.499-0 15.5 0v7c0 0.552 0.448 1 1 1h7v19.5z\"></path>\n",
       "<path d=\"M23 26h-14c-0.552 0-1-0.448-1-1s0.448-1 1-1h14c0.552 0 1 0.448 1 1s-0.448 1-1 1z\"></path>\n",
       "<path d=\"M23 22h-14c-0.552 0-1-0.448-1-1s0.448-1 1-1h14c0.552 0 1 0.448 1 1s-0.448 1-1 1z\"></path>\n",
       "<path d=\"M23 18h-14c-0.552 0-1-0.448-1-1s0.448-1 1-1h14c0.552 0 1 0.448 1 1s-0.448 1-1 1z\"></path>\n",
       "</symbol>\n",
       "</defs>\n",
       "</svg>\n",
       "<style>/* CSS stylesheet for displaying xarray objects in jupyterlab.\n",
       " *\n",
       " */\n",
       "\n",
       ":root {\n",
       "  --xr-font-color0: var(--jp-content-font-color0, rgba(0, 0, 0, 1));\n",
       "  --xr-font-color2: var(--jp-content-font-color2, rgba(0, 0, 0, 0.54));\n",
       "  --xr-font-color3: var(--jp-content-font-color3, rgba(0, 0, 0, 0.38));\n",
       "  --xr-border-color: var(--jp-border-color2, #e0e0e0);\n",
       "  --xr-disabled-color: var(--jp-layout-color3, #bdbdbd);\n",
       "  --xr-background-color: var(--jp-layout-color0, white);\n",
       "  --xr-background-color-row-even: var(--jp-layout-color1, white);\n",
       "  --xr-background-color-row-odd: var(--jp-layout-color2, #eeeeee);\n",
       "}\n",
       "\n",
       "html[theme=dark],\n",
       "body.vscode-dark {\n",
       "  --xr-font-color0: rgba(255, 255, 255, 1);\n",
       "  --xr-font-color2: rgba(255, 255, 255, 0.54);\n",
       "  --xr-font-color3: rgba(255, 255, 255, 0.38);\n",
       "  --xr-border-color: #1F1F1F;\n",
       "  --xr-disabled-color: #515151;\n",
       "  --xr-background-color: #111111;\n",
       "  --xr-background-color-row-even: #111111;\n",
       "  --xr-background-color-row-odd: #313131;\n",
       "}\n",
       "\n",
       ".xr-wrap {\n",
       "  display: block !important;\n",
       "  min-width: 300px;\n",
       "  max-width: 700px;\n",
       "}\n",
       "\n",
       ".xr-text-repr-fallback {\n",
       "  /* fallback to plain text repr when CSS is not injected (untrusted notebook) */\n",
       "  display: none;\n",
       "}\n",
       "\n",
       ".xr-header {\n",
       "  padding-top: 6px;\n",
       "  padding-bottom: 6px;\n",
       "  margin-bottom: 4px;\n",
       "  border-bottom: solid 1px var(--xr-border-color);\n",
       "}\n",
       "\n",
       ".xr-header > div,\n",
       ".xr-header > ul {\n",
       "  display: inline;\n",
       "  margin-top: 0;\n",
       "  margin-bottom: 0;\n",
       "}\n",
       "\n",
       ".xr-obj-type,\n",
       ".xr-array-name {\n",
       "  margin-left: 2px;\n",
       "  margin-right: 10px;\n",
       "}\n",
       "\n",
       ".xr-obj-type {\n",
       "  color: var(--xr-font-color2);\n",
       "}\n",
       "\n",
       ".xr-sections {\n",
       "  padding-left: 0 !important;\n",
       "  display: grid;\n",
       "  grid-template-columns: 150px auto auto 1fr 20px 20px;\n",
       "}\n",
       "\n",
       ".xr-section-item {\n",
       "  display: contents;\n",
       "}\n",
       "\n",
       ".xr-section-item input {\n",
       "  display: none;\n",
       "}\n",
       "\n",
       ".xr-section-item input + label {\n",
       "  color: var(--xr-disabled-color);\n",
       "}\n",
       "\n",
       ".xr-section-item input:enabled + label {\n",
       "  cursor: pointer;\n",
       "  color: var(--xr-font-color2);\n",
       "}\n",
       "\n",
       ".xr-section-item input:enabled + label:hover {\n",
       "  color: var(--xr-font-color0);\n",
       "}\n",
       "\n",
       ".xr-section-summary {\n",
       "  grid-column: 1;\n",
       "  color: var(--xr-font-color2);\n",
       "  font-weight: 500;\n",
       "}\n",
       "\n",
       ".xr-section-summary > span {\n",
       "  display: inline-block;\n",
       "  padding-left: 0.5em;\n",
       "}\n",
       "\n",
       ".xr-section-summary-in:disabled + label {\n",
       "  color: var(--xr-font-color2);\n",
       "}\n",
       "\n",
       ".xr-section-summary-in + label:before {\n",
       "  display: inline-block;\n",
       "  content: '►';\n",
       "  font-size: 11px;\n",
       "  width: 15px;\n",
       "  text-align: center;\n",
       "}\n",
       "\n",
       ".xr-section-summary-in:disabled + label:before {\n",
       "  color: var(--xr-disabled-color);\n",
       "}\n",
       "\n",
       ".xr-section-summary-in:checked + label:before {\n",
       "  content: '▼';\n",
       "}\n",
       "\n",
       ".xr-section-summary-in:checked + label > span {\n",
       "  display: none;\n",
       "}\n",
       "\n",
       ".xr-section-summary,\n",
       ".xr-section-inline-details {\n",
       "  padding-top: 4px;\n",
       "  padding-bottom: 4px;\n",
       "}\n",
       "\n",
       ".xr-section-inline-details {\n",
       "  grid-column: 2 / -1;\n",
       "}\n",
       "\n",
       ".xr-section-details {\n",
       "  display: none;\n",
       "  grid-column: 1 / -1;\n",
       "  margin-bottom: 5px;\n",
       "}\n",
       "\n",
       ".xr-section-summary-in:checked ~ .xr-section-details {\n",
       "  display: contents;\n",
       "}\n",
       "\n",
       ".xr-array-wrap {\n",
       "  grid-column: 1 / -1;\n",
       "  display: grid;\n",
       "  grid-template-columns: 20px auto;\n",
       "}\n",
       "\n",
       ".xr-array-wrap > label {\n",
       "  grid-column: 1;\n",
       "  vertical-align: top;\n",
       "}\n",
       "\n",
       ".xr-preview {\n",
       "  color: var(--xr-font-color3);\n",
       "}\n",
       "\n",
       ".xr-array-preview,\n",
       ".xr-array-data {\n",
       "  padding: 0 5px !important;\n",
       "  grid-column: 2;\n",
       "}\n",
       "\n",
       ".xr-array-data,\n",
       ".xr-array-in:checked ~ .xr-array-preview {\n",
       "  display: none;\n",
       "}\n",
       "\n",
       ".xr-array-in:checked ~ .xr-array-data,\n",
       ".xr-array-preview {\n",
       "  display: inline-block;\n",
       "}\n",
       "\n",
       ".xr-dim-list {\n",
       "  display: inline-block !important;\n",
       "  list-style: none;\n",
       "  padding: 0 !important;\n",
       "  margin: 0;\n",
       "}\n",
       "\n",
       ".xr-dim-list li {\n",
       "  display: inline-block;\n",
       "  padding: 0;\n",
       "  margin: 0;\n",
       "}\n",
       "\n",
       ".xr-dim-list:before {\n",
       "  content: '(';\n",
       "}\n",
       "\n",
       ".xr-dim-list:after {\n",
       "  content: ')';\n",
       "}\n",
       "\n",
       ".xr-dim-list li:not(:last-child):after {\n",
       "  content: ',';\n",
       "  padding-right: 5px;\n",
       "}\n",
       "\n",
       ".xr-has-index {\n",
       "  font-weight: bold;\n",
       "}\n",
       "\n",
       ".xr-var-list,\n",
       ".xr-var-item {\n",
       "  display: contents;\n",
       "}\n",
       "\n",
       ".xr-var-item > div,\n",
       ".xr-var-item label,\n",
       ".xr-var-item > .xr-var-name span {\n",
       "  background-color: var(--xr-background-color-row-even);\n",
       "  margin-bottom: 0;\n",
       "}\n",
       "\n",
       ".xr-var-item > .xr-var-name:hover span {\n",
       "  padding-right: 5px;\n",
       "}\n",
       "\n",
       ".xr-var-list > li:nth-child(odd) > div,\n",
       ".xr-var-list > li:nth-child(odd) > label,\n",
       ".xr-var-list > li:nth-child(odd) > .xr-var-name span {\n",
       "  background-color: var(--xr-background-color-row-odd);\n",
       "}\n",
       "\n",
       ".xr-var-name {\n",
       "  grid-column: 1;\n",
       "}\n",
       "\n",
       ".xr-var-dims {\n",
       "  grid-column: 2;\n",
       "}\n",
       "\n",
       ".xr-var-dtype {\n",
       "  grid-column: 3;\n",
       "  text-align: right;\n",
       "  color: var(--xr-font-color2);\n",
       "}\n",
       "\n",
       ".xr-var-preview {\n",
       "  grid-column: 4;\n",
       "}\n",
       "\n",
       ".xr-var-name,\n",
       ".xr-var-dims,\n",
       ".xr-var-dtype,\n",
       ".xr-preview,\n",
       ".xr-attrs dt {\n",
       "  white-space: nowrap;\n",
       "  overflow: hidden;\n",
       "  text-overflow: ellipsis;\n",
       "  padding-right: 10px;\n",
       "}\n",
       "\n",
       ".xr-var-name:hover,\n",
       ".xr-var-dims:hover,\n",
       ".xr-var-dtype:hover,\n",
       ".xr-attrs dt:hover {\n",
       "  overflow: visible;\n",
       "  width: auto;\n",
       "  z-index: 1;\n",
       "}\n",
       "\n",
       ".xr-var-attrs,\n",
       ".xr-var-data {\n",
       "  display: none;\n",
       "  background-color: var(--xr-background-color) !important;\n",
       "  padding-bottom: 5px !important;\n",
       "}\n",
       "\n",
       ".xr-var-attrs-in:checked ~ .xr-var-attrs,\n",
       ".xr-var-data-in:checked ~ .xr-var-data {\n",
       "  display: block;\n",
       "}\n",
       "\n",
       ".xr-var-data > table {\n",
       "  float: right;\n",
       "}\n",
       "\n",
       ".xr-var-name span,\n",
       ".xr-var-data,\n",
       ".xr-attrs {\n",
       "  padding-left: 25px !important;\n",
       "}\n",
       "\n",
       ".xr-attrs,\n",
       ".xr-var-attrs,\n",
       ".xr-var-data {\n",
       "  grid-column: 1 / -1;\n",
       "}\n",
       "\n",
       "dl.xr-attrs {\n",
       "  padding: 0;\n",
       "  margin: 0;\n",
       "  display: grid;\n",
       "  grid-template-columns: 125px auto;\n",
       "}\n",
       "\n",
       ".xr-attrs dt,\n",
       ".xr-attrs dd {\n",
       "  padding: 0;\n",
       "  margin: 0;\n",
       "  float: left;\n",
       "  padding-right: 10px;\n",
       "  width: auto;\n",
       "}\n",
       "\n",
       ".xr-attrs dt {\n",
       "  font-weight: normal;\n",
       "  grid-column: 1;\n",
       "}\n",
       "\n",
       ".xr-attrs dt:hover span {\n",
       "  display: inline-block;\n",
       "  background: var(--xr-background-color);\n",
       "  padding-right: 10px;\n",
       "}\n",
       "\n",
       ".xr-attrs dd {\n",
       "  grid-column: 2;\n",
       "  white-space: pre-wrap;\n",
       "  word-break: break-all;\n",
       "}\n",
       "\n",
       ".xr-icon-database,\n",
       ".xr-icon-file-text2 {\n",
       "  display: inline-block;\n",
       "  vertical-align: middle;\n",
       "  width: 1em;\n",
       "  height: 1.5em !important;\n",
       "  stroke-width: 0;\n",
       "  stroke: currentColor;\n",
       "  fill: currentColor;\n",
       "}\n",
       "</style><pre class='xr-text-repr-fallback'>&lt;xarray.DataArray &#x27;ROI&#x27; ()&gt;\n",
       "array(0.)</pre><div class='xr-wrap' style='display:none'><div class='xr-header'><div class='xr-obj-type'>xarray.DataArray</div><div class='xr-array-name'>'ROI'</div></div><ul class='xr-sections'><li class='xr-section-item'><div class='xr-array-wrap'><input id='section-1529686a-6881-4203-8c57-f37a2f6b7759' class='xr-array-in' type='checkbox' checked><label for='section-1529686a-6881-4203-8c57-f37a2f6b7759' title='Show/hide data repr'><svg class='icon xr-icon-database'><use xlink:href='#icon-database'></use></svg></label><div class='xr-array-preview xr-preview'><span>0.0</span></div><div class='xr-array-data'><pre>array(0.)</pre></div></div></li><li class='xr-section-item'><input id='section-2b08710b-141e-4c8a-ac71-e3fa1bc5fdfb' class='xr-section-summary-in' type='checkbox' disabled ><label for='section-2b08710b-141e-4c8a-ac71-e3fa1bc5fdfb' class='xr-section-summary'  title='Expand/collapse section'>Coordinates: <span>(0)</span></label><div class='xr-section-inline-details'></div><div class='xr-section-details'><ul class='xr-var-list'></ul></div></li><li class='xr-section-item'><input id='section-df8a18ec-5dce-42a3-9ddf-a48c91f564b4' class='xr-section-summary-in' type='checkbox' disabled ><label for='section-df8a18ec-5dce-42a3-9ddf-a48c91f564b4' class='xr-section-summary'  title='Expand/collapse section'>Attributes: <span>(0)</span></label><div class='xr-section-inline-details'></div><div class='xr-section-details'><dl class='xr-attrs'></dl></div></li></ul></div></div>"
      ],
      "text/plain": [
       "<xarray.DataArray 'ROI' ()>\n",
       "array(0.)"
      ]
     },
     "execution_count": 120,
     "metadata": {},
     "output_type": "execute_result"
    }
   ],
   "source": [
    "# the region is labeled by default with 0 (if there are more regions they will be labeled 1,2,3,...)\n",
    "M.min()"
   ]
  },
  {
   "cell_type": "code",
   "execution_count": 121,
   "metadata": {},
   "outputs": [
    {
     "data": {
      "image/png": "[encoded data removed]",
      "text/plain": [
       "<Figure size 432x288 with 2 Axes>"
      ]
     },
     "metadata": {
      "needs_background": "light"
     },
     "output_type": "display_data"
    }
   ],
   "source": [
    "M.plot(yincrease=False)\n",
    "r2d.plot(region_ids, close_region=True, color='r')\n"
   ]
  },
  {
   "cell_type": "markdown",
   "metadata": {},
   "source": [
    "We can also create a masked sonar file:"
   ]
  },
  {
   "cell_type": "code",
   "execution_count": 122,
   "metadata": {},
   "outputs": [],
   "source": [
    "Sv_masked = Sv.Sv.where(~M.isnull())"
   ]
  },
  {
   "cell_type": "code",
   "execution_count": 123,
   "metadata": {},
   "outputs": [
    {
     "data": {
      "text/plain": [
       "<matplotlib.collections.QuadMesh at 0x7ff982fccf70>"
      ]
     },
     "execution_count": 123,
     "metadata": {},
     "output_type": "execute_result"
    },
    {
     "data": {
      "image/png": "[encoded data removed]",
      "text/plain": [
       "<Figure size 432x288 with 2 Axes>"
      ]
     },
     "metadata": {
      "needs_background": "light"
     },
     "output_type": "display_data"
    }
   ],
   "source": [
    "Sv_masked.isel(frequency=0).T.plot(yincrease=False)"
   ]
  },
  {
   "cell_type": "markdown",
   "metadata": {},
   "source": [
    "One can use the masked object to calculate statistics of the region, for example, the histogram of `Sv` values:"
   ]
  },
  {
   "cell_type": "code",
   "execution_count": 124,
   "metadata": {},
   "outputs": [
    {
     "data": {
      "image/png": "[encoded data removed]",
      "text/plain": [
       "<Figure size 432x288 with 1 Axes>"
      ]
     },
     "metadata": {
      "needs_background": "light"
     },
     "output_type": "display_data"
    }
   ],
   "source": [
    "bins = np.arange(-180, 30, 1)\n",
    "H = {}\n",
    "H[18000] = Sv_masked.sel(frequency=18000).plot.hist(bins=bins, density=True, alpha=0.5, label='18K')[0]\n",
    "H[38000] = Sv_masked.sel(frequency=38000).plot.hist(bins=bins, density=True, alpha=0.5, label='38K')[0]\n",
    "H[120000] = Sv_masked.sel(frequency=120000).plot.hist(bins=bins, density=True, alpha=0.5, label='120K')[0]\n",
    "\n",
    "  \n",
    "# index becomes the first point of the bin\n",
    "H = pd.DataFrame(H, index=bins[:-1])"
   ]
  },
  {
   "cell_type": "markdown",
   "metadata": {},
   "source": [
    "#### Multiple Region Mask"
   ]
  },
  {
   "cell_type": "markdown",
   "metadata": {},
   "source": [
    "The `mask` function can make a mask for several regions simultaneously:"
   ]
  },
  {
   "cell_type": "code",
   "execution_count": 125,
   "metadata": {},
   "outputs": [],
   "source": [
    "region_ids = [10, 11]"
   ]
  },
  {
   "cell_type": "code",
   "execution_count": 126,
   "metadata": {},
   "outputs": [
    {
     "data": {
      "text/html": [
       "<div>\n",
       "<style scoped>\n",
       "    .dataframe tbody tr th:only-of-type {\n",
       "        vertical-align: middle;\n",
       "    }\n",
       "\n",
       "    .dataframe tbody tr th {\n",
       "        vertical-align: top;\n",
       "    }\n",
       "\n",
       "    .dataframe thead th {\n",
       "        text-align: right;\n",
       "    }\n",
       "</style>\n",
       "<table border=\"1\" class=\"dataframe\">\n",
       "  <thead>\n",
       "    <tr style=\"text-align: right;\">\n",
       "      <th></th>\n",
       "      <th>file_name</th>\n",
       "      <th>file_type</th>\n",
       "      <th>evr_file_format_number</th>\n",
       "      <th>echoview_version</th>\n",
       "      <th>region_id</th>\n",
       "      <th>region_structure_version</th>\n",
       "      <th>region_point_count</th>\n",
       "      <th>region_selected</th>\n",
       "      <th>region_creation_type</th>\n",
       "      <th>dummy</th>\n",
       "      <th>...</th>\n",
       "      <th>region_bbox_right</th>\n",
       "      <th>region_bbox_top</th>\n",
       "      <th>region_bbox_bottom</th>\n",
       "      <th>region_class</th>\n",
       "      <th>region_type</th>\n",
       "      <th>region_name</th>\n",
       "      <th>time</th>\n",
       "      <th>depth</th>\n",
       "      <th>region_notes</th>\n",
       "      <th>region_detection_settings</th>\n",
       "    </tr>\n",
       "  </thead>\n",
       "  <tbody>\n",
       "    <tr>\n",
       "      <th>9</th>\n",
       "      <td>x1</td>\n",
       "      <td>EVRG</td>\n",
       "      <td>7</td>\n",
       "      <td>12.0.341.42620</td>\n",
       "      <td>10</td>\n",
       "      <td>13</td>\n",
       "      <td>4</td>\n",
       "      <td>0</td>\n",
       "      <td>4</td>\n",
       "      <td>-1</td>\n",
       "      <td>...</td>\n",
       "      <td>2017-06-25 19:13:12.607500</td>\n",
       "      <td>9.244758</td>\n",
       "      <td>758.973217</td>\n",
       "      <td>Side station</td>\n",
       "      <td>0</td>\n",
       "      <td>Region10</td>\n",
       "      <td>[2017-06-25T17:57:09.687500000, 2017-06-25T17:...</td>\n",
       "      <td>[9.2447583998, 758.9732173069, 758.9732173069,...</td>\n",
       "      <td>[]</td>\n",
       "      <td>[]</td>\n",
       "    </tr>\n",
       "    <tr>\n",
       "      <th>10</th>\n",
       "      <td>x1</td>\n",
       "      <td>EVRG</td>\n",
       "      <td>7</td>\n",
       "      <td>12.0.341.42620</td>\n",
       "      <td>11</td>\n",
       "      <td>13</td>\n",
       "      <td>10</td>\n",
       "      <td>0</td>\n",
       "      <td>2</td>\n",
       "      <td>-1</td>\n",
       "      <td>...</td>\n",
       "      <td>2017-06-25 20:02:08.535700</td>\n",
       "      <td>102.255201</td>\n",
       "      <td>127.947603</td>\n",
       "      <td>Unknown</td>\n",
       "      <td>1</td>\n",
       "      <td>Chicken nugget</td>\n",
       "      <td>[2017-06-25T20:01:47.093000000, 2017-06-25T20:...</td>\n",
       "      <td>[102.2552007996, 103.7403107496, 109.532239554...</td>\n",
       "      <td>[]</td>\n",
       "      <td>[]</td>\n",
       "    </tr>\n",
       "  </tbody>\n",
       "</table>\n",
       "<p>2 rows × 22 columns</p>\n",
       "</div>"
      ],
      "text/plain": [
       "   file_name file_type evr_file_format_number echoview_version  region_id  \\\n",
       "9         x1      EVRG                      7   12.0.341.42620         10   \n",
       "10        x1      EVRG                      7   12.0.341.42620         11   \n",
       "\n",
       "   region_structure_version region_point_count region_selected  \\\n",
       "9                        13                  4               0   \n",
       "10                       13                 10               0   \n",
       "\n",
       "   region_creation_type dummy  ...          region_bbox_right region_bbox_top  \\\n",
       "9                     4    -1  ... 2017-06-25 19:13:12.607500        9.244758   \n",
       "10                    2    -1  ... 2017-06-25 20:02:08.535700      102.255201   \n",
       "\n",
       "   region_bbox_bottom  region_class  region_type     region_name  \\\n",
       "9          758.973217  Side station            0        Region10   \n",
       "10         127.947603       Unknown            1  Chicken nugget   \n",
       "\n",
       "                                                 time  \\\n",
       "9   [2017-06-25T17:57:09.687500000, 2017-06-25T17:...   \n",
       "10  [2017-06-25T20:01:47.093000000, 2017-06-25T20:...   \n",
       "\n",
       "                                                depth region_notes  \\\n",
       "9   [9.2447583998, 758.9732173069, 758.9732173069,...           []   \n",
       "10  [102.2552007996, 103.7403107496, 109.532239554...           []   \n",
       "\n",
       "   region_detection_settings  \n",
       "9                         []  \n",
       "10                        []  \n",
       "\n",
       "[2 rows x 22 columns]"
      ]
     },
     "execution_count": 126,
     "metadata": {},
     "output_type": "execute_result"
    }
   ],
   "source": [
    "r2d.select_region(region_ids)"
   ]
  },
  {
   "cell_type": "code",
   "execution_count": 127,
   "metadata": {},
   "outputs": [],
   "source": [
    "Sv = read_Sv(SONAR_PATH_Sv, SONAR_PATH_raw, region_ids)"
   ]
  },
  {
   "cell_type": "code",
   "execution_count": null,
   "metadata": {},
   "outputs": [],
   "source": []
  },
  {
   "cell_type": "code",
   "execution_count": 128,
   "metadata": {},
   "outputs": [],
   "source": [
    "M = r2d.mask(Sv, region_ids, data_var=\"Sv\", mask_var=\"ROI\")"
   ]
  },
  {
   "cell_type": "code",
   "execution_count": 129,
   "metadata": {},
   "outputs": [
    {
     "data": {
      "text/plain": [
       "<matplotlib.collections.QuadMesh at 0x7ff73c491550>"
      ]
     },
     "execution_count": 129,
     "metadata": {},
     "output_type": "execute_result"
    },
    {
     "data": {
      "image/png": "[encoded data removed]",
      "text/plain": [
       "<Figure size 432x288 with 2 Axes>"
      ]
     },
     "metadata": {
      "needs_background": "light"
     },
     "output_type": "display_data"
    }
   ],
   "source": [
    "M.plot(yincrease=False)"
   ]
  },
  {
   "cell_type": "code",
   "execution_count": 130,
   "metadata": {},
   "outputs": [
    {
     "data": {
      "text/plain": [
       "array([ 0.,  1., nan])"
      ]
     },
     "execution_count": 130,
     "metadata": {},
     "output_type": "execute_result"
    }
   ],
   "source": [
    "# now the mask has labeled the regions 0 and 1, and rest is nan\n",
    "np.unique(M.data)"
   ]
  },
  {
   "cell_type": "markdown",
   "metadata": {},
   "source": [
    "If one wants to label the regions with explicit values they can pass them through the `mask_labels` variable as a list of integers."
   ]
  },
  {
   "cell_type": "code",
   "execution_count": 131,
   "metadata": {},
   "outputs": [],
   "source": [
    "M = r2d.mask(Sv, region_ids, data_var=\"Sv\", mask_var=\"ROI\", mask_labels=[1, 1])"
   ]
  },
  {
   "cell_type": "code",
   "execution_count": 132,
   "metadata": {},
   "outputs": [
    {
     "data": {
      "text/plain": [
       "<matplotlib.collections.QuadMesh at 0x7ff731162dc0>"
      ]
     },
     "execution_count": 132,
     "metadata": {},
     "output_type": "execute_result"
    },
    {
     "data": {
      "image/png": "[encoded data removed]",
      "text/plain": [
       "<Figure size 432x288 with 2 Axes>"
      ]
     },
     "metadata": {
      "needs_background": "light"
     },
     "output_type": "display_data"
    }
   ],
   "source": [
    "M.plot(yincrease=False)\n"
   ]
  },
  {
   "cell_type": "markdown",
   "metadata": {},
   "source": [
    "Alternatively, one could use the default ids from the `.evr` files."
   ]
  },
  {
   "cell_type": "code",
   "execution_count": 133,
   "metadata": {},
   "outputs": [],
   "source": [
    "M = r2d.mask(Sv, region_ids, data_var=\"Sv\", mask_var=\"ROI\", mask_labels=\"from_ids\")"
   ]
  },
  {
   "cell_type": "code",
   "execution_count": 134,
   "metadata": {},
   "outputs": [
    {
     "data": {
      "text/plain": [
       "<matplotlib.collections.QuadMesh at 0x7ff7f3300070>"
      ]
     },
     "execution_count": 134,
     "metadata": {},
     "output_type": "execute_result"
    },
    {
     "data": {
      "image/png": "[encoded data removed]",
      "text/plain": [
       "<Figure size 432x288 with 2 Axes>"
      ]
     },
     "metadata": {
      "needs_background": "light"
     },
     "output_type": "display_data"
    }
   ],
   "source": [
    "M.plot(yincrease=False)"
   ]
  },
  {
   "cell_type": "code",
   "execution_count": null,
   "metadata": {},
   "outputs": [],
   "source": []
  },
  {
   "cell_type": "code",
   "execution_count": null,
   "metadata": {},
   "outputs": [],
   "source": []
  }
 ],
 "metadata": {
  "colab": {
   "collapsed_sections": [],
   "name": "Regions2D_plotting.ipynb",
   "provenance": []
  },
  "kernelspec": {
   "display_name": "Python 3 (ipykernel)",
   "language": "python",
   "name": "python3"
  },
  "language_info": {
   "codemirror_mode": {
    "name": "ipython",
    "version": 3
   },
   "file_extension": ".py",
   "mimetype": "text/x-python",
   "name": "python",
   "nbconvert_exporter": "python",
   "pygments_lexer": "ipython3",
   "version": "3.9.12"
  }
 },
 "nbformat": 4,
 "nbformat_minor": 1
}
