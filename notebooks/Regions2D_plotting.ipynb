{
 "cells": [
  {
   "cell_type": "markdown",
   "metadata": {},
   "source": [
    "# Echoregions Regions2D Plotting Demonstration"
   ]
  },
  {
   "cell_type": "code",
   "execution_count": 1,
   "metadata": {},
   "outputs": [],
   "source": [
    "import sys\n",
    "sys.path.append('..')\n",
    "import echoregions as er"
   ]
  },
  {
   "cell_type": "code",
   "execution_count": 2,
   "metadata": {},
   "outputs": [],
   "source": [
    "evr_file = '../echoregions/test_data/ek60/x1.evr'\n",
    "echo_files = 'F:/data/hake/raw/SH1707/'"
   ]
  },
  {
   "cell_type": "markdown",
   "metadata": {},
   "source": [
    "### Get a Regions2D object with `read_evr`"
   ]
  },
  {
   "cell_type": "code",
   "execution_count": 3,
   "metadata": {
    "scrolled": true
   },
   "outputs": [],
   "source": [
    "r2d = er.read_evr(evr_file)"
   ]
  },
  {
   "cell_type": "markdown",
   "metadata": {},
   "source": [
    "## Plotting"
   ]
  },
  {
   "cell_type": "code",
   "execution_count": 4,
   "metadata": {},
   "outputs": [],
   "source": [
    "import matplotlib.pyplot as plt\n",
    "import xarray as xr\n",
    "import os\n",
    "import echopype as ep\n",
    "import warnings\n",
    "warnings.filterwarnings(\"ignore\", category=DeprecationWarning)"
   ]
  },
  {
   "cell_type": "code",
   "execution_count": 5,
   "metadata": {},
   "outputs": [
    {
     "name": "stdout",
     "output_type": "stream",
     "text": [
      "<IntegerArray>\n",
      "[ 1,  2,  3,  4,  5,  6,  7,  8,  9, 10, 11, 12, 13, 14, 15, 16, 17, 18, 19,\n",
      " 20, 22, 23, 24, 25, 26, 27, 28, 29, 30, 32, 33, 34, 35]\n",
      "Length: 33, dtype: Int64\n"
     ]
    }
   ],
   "source": [
    "# Display availible regions\n",
    "print(r2d.data.region_id.values)"
   ]
  },
  {
   "cell_type": "code",
   "execution_count": 6,
   "metadata": {},
   "outputs": [
    {
     "data": {
      "image/png": "[encoded data removed]",
      "text/plain": [
       "<Figure size 432x288 with 1 Axes>"
      ]
     },
     "metadata": {
      "needs_background": "light"
     },
     "output_type": "display_data"
    }
   ],
   "source": [
    "# Plot the region with `plot`\n",
    "r2d.plot(10)"
   ]
  },
  {
   "cell_type": "code",
   "execution_count": 7,
   "metadata": {},
   "outputs": [
    {
     "data": {
      "image/png": "[encoded data removed]",
      "text/plain": [
       "<Figure size 432x288 with 1 Axes>"
      ]
     },
     "metadata": {
      "needs_background": "light"
     },
     "output_type": "display_data"
    }
   ],
   "source": [
    "# Plot a closed region by using close_region=True.\n",
    "# Optionally provide matplotlib kwargs for more customization.\n",
    "r2d.plot(10, close_region=True, color='k', alpha=.5, marker='x', markeredgecolor='red', markersize=12)"
   ]
  },
  {
   "cell_type": "markdown",
   "metadata": {},
   "source": [
    "## Plotting regions on an echogram"
   ]
  },
  {
   "cell_type": "code",
   "execution_count": 8,
   "metadata": {},
   "outputs": [
    {
     "data": {
      "text/plain": [
       "['Summer2017-D20170625-T124834.nc',\n",
       " 'Summer2017-D20170625-T132103.nc',\n",
       " 'Summer2017-D20170625-T134400.nc',\n",
       " 'Summer2017-D20170625-T140924.nc',\n",
       " 'Summer2017-D20170625-T143450.nc',\n",
       " 'Summer2017-D20170625-T150430.nc',\n",
       " 'Summer2017-D20170625-T153818.nc',\n",
       " 'Summer2017-D20170625-T161209.nc',\n",
       " 'Summer2017-D20170625-T164600.nc',\n",
       " 'Summer2017-D20170625-T171948.nc',\n",
       " 'Summer2017-D20170625-T175136.nc',\n",
       " 'Summer2017-D20170625-T181701.nc',\n",
       " 'Summer2017-D20170625-T184227.nc',\n",
       " 'Summer2017-D20170625-T190753.nc',\n",
       " 'Summer2017-D20170625-T193400.nc',\n",
       " 'Summer2017-D20170625-T195927.nc',\n",
       " 'Summer2017-D20170625-T202452.nc',\n",
       " 'Summer2017-D20170625-T205018.nc',\n",
       " 'Summer2017-D20170625-T211542.nc',\n",
       " 'Summer2017-D20170625-T214108.nc',\n",
       " 'Summer2017-D20170625-T220634.nc',\n",
       " 'Summer2017-D20170625-T223159.nc',\n",
       " 'Summer2017-D20170625-T225724.nc',\n",
       " 'Summer2017-D20170625-T232250.nc',\n",
       " 'Summer2017-D20170625-T234816.nc']"
      ]
     },
     "execution_count": 8,
     "metadata": {},
     "output_type": "execute_result"
    }
   ],
   "source": [
    "# Get all of the raw files availible\n",
    "raw_files = os.listdir(echo_files)\n",
    "raw_files"
   ]
  },
  {
   "cell_type": "code",
   "execution_count": 9,
   "metadata": {},
   "outputs": [
    {
     "data": {
      "text/plain": [
       "'Summer2017-D20170625-T195927.nc'"
      ]
     },
     "execution_count": 9,
     "metadata": {},
     "output_type": "execute_result"
    }
   ],
   "source": [
    "# Select the file(s) that a region is contained in. Using region 11 in this case.\n",
    "file = r2d.select_sonar_file(raw_files, 11)\n",
    "file"
   ]
  },
  {
   "cell_type": "code",
   "execution_count": null,
   "metadata": {},
   "outputs": [],
   "source": [
    "# Calibrate the file with echopype\n",
    "ed = ep.open_converted(echo_files + file)\n",
    "Sv = ep.calibrate.compute_Sv(ed)\n",
    "Sv"
   ]
  },
  {
   "cell_type": "code",
   "execution_count": null,
   "metadata": {},
   "outputs": [],
   "source": [
    "# The data from echopype currently uses range from the sensor and not depth below the water\n",
    "# A temporary fix involves offseting the depth of the region with the water level\n",
    "r2d.offset = -ed.platform.water_level[0, 0].values\n",
    "r2d.adjust_offset(inplace=True);"
   ]
  },
  {
   "cell_type": "code",
   "execution_count": null,
   "metadata": {},
   "outputs": [],
   "source": [
    "# Plot echogram for one frequency\n",
    "Sv['range'] = Sv.range.isel(frequency=0, ping_time=0)\n",
    "Sv = Sv.swap_dims({'range_bin': 'range'})"
   ]
  },
  {
   "cell_type": "code",
   "execution_count": null,
   "metadata": {
    "scrolled": false
   },
   "outputs": [],
   "source": [
    "Sv.Sv.isel(frequency=0).plot(x='ping_time', vmax=-40, vmin=-100, yincrease=False, figsize=(12,8))\n",
    "# Plot region\n",
    "r2d.plot(11, close_region=True, color='k')\n",
    "plt.show()"
   ]
  },
  {
   "cell_type": "code",
   "execution_count": null,
   "metadata": {},
   "outputs": [],
   "source": []
  }
 ],
 "metadata": {
  "kernelspec": {
   "display_name": "Python 3",
   "language": "python",
   "name": "python3"
  },
  "language_info": {
   "codemirror_mode": {
    "name": "ipython",
    "version": 3
   },
   "file_extension": ".py",
   "mimetype": "text/x-python",
   "name": "python",
   "nbconvert_exporter": "python",
   "pygments_lexer": "ipython3",
   "version": "3.8.10"
  }
 },
 "nbformat": 4,
 "nbformat_minor": 4
}
