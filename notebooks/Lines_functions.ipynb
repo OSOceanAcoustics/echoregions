{
 "cells": [
  {
   "cell_type": "code",
   "execution_count": 1,
   "id": "14f65616",
   "metadata": {},
   "outputs": [],
   "source": [
    "import os\n",
    "import matplotlib.pyplot as plt\n",
    "import pandas as pd\n",
    "import numpy as np\n",
    "import glob\n",
    "from pathlib import Path"
   ]
  },
  {
   "cell_type": "code",
   "execution_count": 2,
   "id": "f86f0cca",
   "metadata": {},
   "outputs": [],
   "source": [
    "import sys\n",
    "sys.path.append('..')\n",
    "import echoregions as er\n",
    "pd.set_option(\"display.max_columns\", None)"
   ]
  },
  {
   "cell_type": "code",
   "execution_count": 3,
   "id": "038dc4a7",
   "metadata": {},
   "outputs": [],
   "source": [
    "# Regions paths\n",
    "evl_paths = Path('D:/Documents/Projects/echoregions/echoregions/test_data/ek60/lines')\n",
    "# Data paths\n",
    "raw_paths = Path('F:/data/hake/raw/SH1707')\n",
    "\n",
    "evl_files = list(evl_paths.glob('*.evl'))\n",
    "raw_files = list(raw_paths.glob('*.nc'))"
   ]
  },
  {
   "cell_type": "markdown",
   "id": "d8d18971",
   "metadata": {},
   "source": [
    "## Read an EVL file"
   ]
  },
  {
   "cell_type": "code",
   "execution_count": 4,
   "id": "5788529f",
   "metadata": {},
   "outputs": [],
   "source": [
    "lines = er.read_evl(evl_files[0])"
   ]
  },
  {
   "cell_type": "markdown",
   "id": "19b80eae",
   "metadata": {},
   "source": [
    "The data is stored as a Pandas DataFrame. This allows users to leverage Pandas' powerful DataFrame operations."
   ]
  },
  {
   "cell_type": "code",
   "execution_count": 5,
   "id": "cf482f0a",
   "metadata": {},
   "outputs": [
    {
     "data": {
      "text/html": [
       "<div>\n",
       "<style scoped>\n",
       "    .dataframe tbody tr th:only-of-type {\n",
       "        vertical-align: middle;\n",
       "    }\n",
       "\n",
       "    .dataframe tbody tr th {\n",
       "        vertical-align: top;\n",
       "    }\n",
       "\n",
       "    .dataframe thead th {\n",
       "        text-align: right;\n",
       "    }\n",
       "</style>\n",
       "<table border=\"1\" class=\"dataframe\">\n",
       "  <thead>\n",
       "    <tr style=\"text-align: right;\">\n",
       "      <th></th>\n",
       "      <th>file_name</th>\n",
       "      <th>file_type</th>\n",
       "      <th>file_format_number</th>\n",
       "      <th>echoview_version</th>\n",
       "      <th>ping_time</th>\n",
       "      <th>depth</th>\n",
       "      <th>status</th>\n",
       "    </tr>\n",
       "  </thead>\n",
       "  <tbody>\n",
       "    <tr>\n",
       "      <th>0</th>\n",
       "      <td>x1.bottom</td>\n",
       "      <td>EVBD</td>\n",
       "      <td>3</td>\n",
       "      <td>9.0.279.33861</td>\n",
       "      <td>2017-01-20 11:27:37.034</td>\n",
       "      <td>17.518239</td>\n",
       "      <td>3</td>\n",
       "    </tr>\n",
       "    <tr>\n",
       "      <th>1</th>\n",
       "      <td>x1.bottom</td>\n",
       "      <td>EVBD</td>\n",
       "      <td>3</td>\n",
       "      <td>9.0.279.33861</td>\n",
       "      <td>2017-01-20 11:27:38.044</td>\n",
       "      <td>16.886161</td>\n",
       "      <td>3</td>\n",
       "    </tr>\n",
       "    <tr>\n",
       "      <th>2</th>\n",
       "      <td>x1.bottom</td>\n",
       "      <td>EVBD</td>\n",
       "      <td>3</td>\n",
       "      <td>9.0.279.33861</td>\n",
       "      <td>2017-01-20 11:27:39.055</td>\n",
       "      <td>16.537958</td>\n",
       "      <td>3</td>\n",
       "    </tr>\n",
       "    <tr>\n",
       "      <th>3</th>\n",
       "      <td>x1.bottom</td>\n",
       "      <td>EVBD</td>\n",
       "      <td>3</td>\n",
       "      <td>9.0.279.33861</td>\n",
       "      <td>2017-01-20 11:27:40.068</td>\n",
       "      <td>17.494361</td>\n",
       "      <td>3</td>\n",
       "    </tr>\n",
       "    <tr>\n",
       "      <th>4</th>\n",
       "      <td>x1.bottom</td>\n",
       "      <td>EVBD</td>\n",
       "      <td>3</td>\n",
       "      <td>9.0.279.33861</td>\n",
       "      <td>2017-01-20 11:27:41.079</td>\n",
       "      <td>17.459570</td>\n",
       "      <td>3</td>\n",
       "    </tr>\n",
       "    <tr>\n",
       "      <th>...</th>\n",
       "      <td>...</td>\n",
       "      <td>...</td>\n",
       "      <td>...</td>\n",
       "      <td>...</td>\n",
       "      <td>...</td>\n",
       "      <td>...</td>\n",
       "      <td>...</td>\n",
       "    </tr>\n",
       "    <tr>\n",
       "      <th>13759</th>\n",
       "      <td>x1.bottom</td>\n",
       "      <td>EVBD</td>\n",
       "      <td>3</td>\n",
       "      <td>9.0.279.33861</td>\n",
       "      <td>2017-06-26 02:19:56.994</td>\n",
       "      <td>84.898303</td>\n",
       "      <td>3</td>\n",
       "    </tr>\n",
       "    <tr>\n",
       "      <th>13760</th>\n",
       "      <td>x1.bottom</td>\n",
       "      <td>EVBD</td>\n",
       "      <td>3</td>\n",
       "      <td>9.0.279.33861</td>\n",
       "      <td>2017-06-26 02:19:59.818</td>\n",
       "      <td>84.860518</td>\n",
       "      <td>3</td>\n",
       "    </tr>\n",
       "    <tr>\n",
       "      <th>13761</th>\n",
       "      <td>x1.bottom</td>\n",
       "      <td>EVBD</td>\n",
       "      <td>3</td>\n",
       "      <td>9.0.279.33861</td>\n",
       "      <td>2017-06-26 02:20:02.699</td>\n",
       "      <td>85.528454</td>\n",
       "      <td>3</td>\n",
       "    </tr>\n",
       "    <tr>\n",
       "      <th>13762</th>\n",
       "      <td>x1.bottom</td>\n",
       "      <td>EVBD</td>\n",
       "      <td>3</td>\n",
       "      <td>9.0.279.33861</td>\n",
       "      <td>2017-06-26 02:20:05.572</td>\n",
       "      <td>85.472250</td>\n",
       "      <td>3</td>\n",
       "    </tr>\n",
       "    <tr>\n",
       "      <th>13763</th>\n",
       "      <td>x1.bottom</td>\n",
       "      <td>EVBD</td>\n",
       "      <td>3</td>\n",
       "      <td>9.0.279.33861</td>\n",
       "      <td>2017-06-26 02:20:08.443</td>\n",
       "      <td>85.260804</td>\n",
       "      <td>0</td>\n",
       "    </tr>\n",
       "  </tbody>\n",
       "</table>\n",
       "<p>13764 rows × 7 columns</p>\n",
       "</div>"
      ],
      "text/plain": [
       "       file_name file_type file_format_number echoview_version  \\\n",
       "0      x1.bottom      EVBD                  3    9.0.279.33861   \n",
       "1      x1.bottom      EVBD                  3    9.0.279.33861   \n",
       "2      x1.bottom      EVBD                  3    9.0.279.33861   \n",
       "3      x1.bottom      EVBD                  3    9.0.279.33861   \n",
       "4      x1.bottom      EVBD                  3    9.0.279.33861   \n",
       "...          ...       ...                ...              ...   \n",
       "13759  x1.bottom      EVBD                  3    9.0.279.33861   \n",
       "13760  x1.bottom      EVBD                  3    9.0.279.33861   \n",
       "13761  x1.bottom      EVBD                  3    9.0.279.33861   \n",
       "13762  x1.bottom      EVBD                  3    9.0.279.33861   \n",
       "13763  x1.bottom      EVBD                  3    9.0.279.33861   \n",
       "\n",
       "                    ping_time      depth status  \n",
       "0     2017-01-20 11:27:37.034  17.518239      3  \n",
       "1     2017-01-20 11:27:38.044  16.886161      3  \n",
       "2     2017-01-20 11:27:39.055  16.537958      3  \n",
       "3     2017-01-20 11:27:40.068  17.494361      3  \n",
       "4     2017-01-20 11:27:41.079  17.459570      3  \n",
       "...                       ...        ...    ...  \n",
       "13759 2017-06-26 02:19:56.994  84.898303      3  \n",
       "13760 2017-06-26 02:19:59.818  84.860518      3  \n",
       "13761 2017-06-26 02:20:02.699  85.528454      3  \n",
       "13762 2017-06-26 02:20:05.572  85.472250      3  \n",
       "13763 2017-06-26 02:20:08.443  85.260804      0  \n",
       "\n",
       "[13764 rows x 7 columns]"
      ]
     },
     "execution_count": 5,
     "metadata": {},
     "output_type": "execute_result"
    }
   ],
   "source": [
    "lines.data"
   ]
  },
  {
   "cell_type": "markdown",
   "id": "93f2cbeb",
   "metadata": {},
   "source": [
    "## Save the DataFrame to File"
   ]
  },
  {
   "cell_type": "code",
   "execution_count": 21,
   "id": "5a15bbc1",
   "metadata": {},
   "outputs": [],
   "source": [
    "# Save to JSON\n",
    "lines.to_json()"
   ]
  },
  {
   "cell_type": "code",
   "execution_count": 22,
   "id": "0865780c",
   "metadata": {},
   "outputs": [],
   "source": [
    "# Save to CSV\n",
    "lines.to_csv()"
   ]
  },
  {
   "cell_type": "code",
   "execution_count": 24,
   "id": "4efb4eb5",
   "metadata": {},
   "outputs": [
    {
     "data": {
      "text/plain": [
       "['D:\\\\Documents\\\\Projects\\\\echoregions\\\\echoregions\\\\test_data\\\\ek60\\\\lines\\\\x1.bottom.json',\n",
       " 'D:\\\\Documents\\\\Projects\\\\echoregions\\\\echoregions\\\\test_data\\\\ek60\\\\lines\\\\x1.bottom.csv']"
      ]
     },
     "execution_count": 24,
     "metadata": {},
     "output_type": "execute_result"
    }
   ],
   "source": [
    "# Get a list of all exported files with `Lines.output_file`\n",
    "lines.output_file"
   ]
  },
  {
   "cell_type": "markdown",
   "id": "dea2f480",
   "metadata": {},
   "source": [
    "## Plotting"
   ]
  },
  {
   "cell_type": "code",
   "execution_count": 6,
   "id": "0d736daa",
   "metadata": {},
   "outputs": [],
   "source": [
    "# The start and end times can be specified to limit how many points to plot as an alterantive to subselecting the data\n",
    "start_date = \"2017-06-25\"\n",
    "end_date = \"2017-06-26\""
   ]
  },
  {
   "cell_type": "code",
   "execution_count": 19,
   "id": "488951ee",
   "metadata": {},
   "outputs": [
    {
     "data": {
      "image/png": "[encoded data removed]",
      "text/plain": [
       "<Figure size 432x288 with 1 Axes>"
      ]
     },
     "metadata": {
      "needs_background": "light"
     },
     "output_type": "display_data"
    }
   ],
   "source": [
    "lines.plot(start_ping_time=start_date, end_ping_time=end_date, max_depth=800, fill_between=False)\n",
    "plt.gca().invert_yaxis();\n",
    "plt.xticks(rotation=45);"
   ]
  },
  {
   "cell_type": "code",
   "execution_count": null,
   "id": "8be1fba3",
   "metadata": {},
   "outputs": [],
   "source": []
  }
 ],
 "metadata": {
  "kernelspec": {
   "display_name": "echoregions",
   "language": "python",
   "name": "echoregions"
  },
  "language_info": {
   "codemirror_mode": {
    "name": "ipython",
    "version": 3
   },
   "file_extension": ".py",
   "mimetype": "text/x-python",
   "name": "python",
   "nbconvert_exporter": "python",
   "pygments_lexer": "ipython3",
   "version": "3.8.10"
  }
 },
 "nbformat": 4,
 "nbformat_minor": 5
}
