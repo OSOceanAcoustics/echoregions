{
  "cells": [
    {
      "attachments": {},
      "cell_type": "markdown",
      "id": "59d8f643",
      "metadata": {
        "id": "59d8f643"
      },
      "source": [
        "# Exploring Echoregions Regions2D Object"
      ]
    },
    {
      "attachments": {},
      "cell_type": "markdown",
      "id": "36ea796a",
      "metadata": {},
      "source": [
        "Prior to running this notebook and all other notebooks, make sure you have installed the packages found in `requirements.txt`."
      ]
    },
    {
      "attachments": {},
      "cell_type": "markdown",
      "id": "TyMwKxXiJel_",
      "metadata": {
        "id": "TyMwKxXiJel_"
      },
      "source": [
        "This notebook shows some of the functionalities of the `echoregions` `Region2D` object."
      ]
    },
    {
      "cell_type": "code",
      "execution_count": 2,
      "id": "93057c3d",
      "metadata": {
        "id": "93057c3d"
      },
      "outputs": [],
      "source": [
        "import os\n",
        "import matplotlib.pyplot as plt\n",
        "import pandas as pd\n",
        "import xarray as xr\n",
        "import urllib.request\n",
        "import echoregions as er\n",
        "import gdown"
      ]
    },
    {
      "cell_type": "code",
      "execution_count": 3,
      "id": "XtrGekCOLJKd",
      "metadata": {
        "id": "XtrGekCOLJKd"
      },
      "outputs": [],
      "source": [
        "pd.set_option(\"display.max_columns\", None)"
      ]
    },
    {
      "attachments": {},
      "cell_type": "markdown",
      "id": "1a299e98",
      "metadata": {
        "id": "1a299e98"
      },
      "source": [
        "## Read `.evr` File"
      ]
    },
    {
      "cell_type": "code",
      "execution_count": 4,
      "id": "8S__UoCiLbQB",
      "metadata": {
        "colab": {
          "base_uri": "https://localhost:8080/"
        },
        "id": "8S__UoCiLbQB",
        "outputId": "7971ab43-35eb-440a-a4a2-ec9ac99ec2db"
      },
      "outputs": [
        {
          "data": {
            "text/plain": [
              "('x1.evr', <http.client.HTTPMessage at 0x2041a79b5b0>)"
            ]
          },
          "execution_count": 4,
          "metadata": {},
          "output_type": "execute_result"
        }
      ],
      "source": [
        "# download an example file\n",
        "urllib.request.urlretrieve(\"https://raw.githubusercontent.com/OSOceanAcoustics/echoregions/main/echoregions/test_data/x1.evr\",\"x1.evr\")"
      ]
    },
    {
      "cell_type": "code",
      "execution_count": 5,
      "id": "blUvYv1uRSAq",
      "metadata": {
        "id": "blUvYv1uRSAq"
      },
      "outputs": [],
      "source": [
        "EVR_FILE = 'x1.evr'"
      ]
    },
    {
      "cell_type": "code",
      "execution_count": 6,
      "id": "182af9ae",
      "metadata": {
        "colab": {
          "base_uri": "https://localhost:8080/"
        },
        "id": "182af9ae",
        "outputId": "fb9a77c1-6faa-4ed3-ccee-4d2da0fd8a50"
      },
      "outputs": [
        {
          "name": "stdout",
          "output_type": "stream",
          "text": [
            "<echoregions.formats.regions2d.Regions2D object at 0x000002041A79BA60>\n"
          ]
        }
      ],
      "source": [
        "r2d = er.read_evr(EVR_FILE)\n",
        "print(r2d)"
      ]
    },
    {
      "cell_type": "code",
      "execution_count": 7,
      "id": "6438121a",
      "metadata": {
        "colab": {
          "base_uri": "https://localhost:8080/",
          "height": 35
        },
        "id": "6438121a",
        "outputId": "d8486355-a68a-4b51-d3b0-3b593ca61210"
      },
      "outputs": [
        {
          "data": {
            "text/plain": [
              "'x1.evr'"
            ]
          },
          "execution_count": 7,
          "metadata": {},
          "output_type": "execute_result"
        }
      ],
      "source": [
        "# The path to the parsed EVR file is stored in input_file\n",
        "r2d.input_file"
      ]
    },
    {
      "cell_type": "code",
      "execution_count": 8,
      "id": "a0ca23ec",
      "metadata": {
        "colab": {
          "base_uri": "https://localhost:8080/",
          "height": 444
        },
        "id": "a0ca23ec",
        "outputId": "a6ba567a-f8e9-4311-8efa-992052145725"
      },
      "outputs": [
        {
          "data": {
            "text/html": [
              "<div>\n",
              "<style scoped>\n",
              "    .dataframe tbody tr th:only-of-type {\n",
              "        vertical-align: middle;\n",
              "    }\n",
              "\n",
              "    .dataframe tbody tr th {\n",
              "        vertical-align: top;\n",
              "    }\n",
              "\n",
              "    .dataframe thead th {\n",
              "        text-align: right;\n",
              "    }\n",
              "</style>\n",
              "<table border=\"1\" class=\"dataframe\">\n",
              "  <thead>\n",
              "    <tr style=\"text-align: right;\">\n",
              "      <th></th>\n",
              "      <th>file_name</th>\n",
              "      <th>file_type</th>\n",
              "      <th>evr_file_format_number</th>\n",
              "      <th>echoview_version</th>\n",
              "      <th>region_id</th>\n",
              "      <th>region_structure_version</th>\n",
              "      <th>region_point_count</th>\n",
              "      <th>region_selected</th>\n",
              "      <th>region_creation_type</th>\n",
              "      <th>dummy</th>\n",
              "      <th>region_bbox_calculated</th>\n",
              "      <th>region_bbox_left</th>\n",
              "      <th>region_bbox_right</th>\n",
              "      <th>region_bbox_top</th>\n",
              "      <th>region_bbox_bottom</th>\n",
              "      <th>region_class</th>\n",
              "      <th>region_type</th>\n",
              "      <th>region_name</th>\n",
              "      <th>time</th>\n",
              "      <th>depth</th>\n",
              "      <th>region_notes</th>\n",
              "      <th>region_detection_settings</th>\n",
              "    </tr>\n",
              "  </thead>\n",
              "  <tbody>\n",
              "    <tr>\n",
              "      <th>0</th>\n",
              "      <td>x1</td>\n",
              "      <td>EVRG</td>\n",
              "      <td>7</td>\n",
              "      <td>12.0.341.42620</td>\n",
              "      <td>1</td>\n",
              "      <td>13</td>\n",
              "      <td>4</td>\n",
              "      <td>0</td>\n",
              "      <td>6</td>\n",
              "      <td>-1</td>\n",
              "      <td>1</td>\n",
              "      <td>2017-06-25 16:12:34.333500</td>\n",
              "      <td>2017-06-25 16:12:38.288000</td>\n",
              "      <td>-9999.99</td>\n",
              "      <td>9999.99</td>\n",
              "      <td>Log</td>\n",
              "      <td>2</td>\n",
              "      <td>CTD005</td>\n",
              "      <td>[2017-06-25T16:12:34.333500000, 2017-06-25T16:...</td>\n",
              "      <td>[-9999.99, 9999.99, 9999.99, -9999.99]</td>\n",
              "      <td>[CTD005 at depth]</td>\n",
              "      <td>[]</td>\n",
              "    </tr>\n",
              "    <tr>\n",
              "      <th>1</th>\n",
              "      <td>x1</td>\n",
              "      <td>EVRG</td>\n",
              "      <td>7</td>\n",
              "      <td>12.0.341.42620</td>\n",
              "      <td>2</td>\n",
              "      <td>13</td>\n",
              "      <td>4</td>\n",
              "      <td>0</td>\n",
              "      <td>6</td>\n",
              "      <td>-1</td>\n",
              "      <td>1</td>\n",
              "      <td>2017-06-25 16:31:36.338500</td>\n",
              "      <td>2017-06-25 16:31:40.211500</td>\n",
              "      <td>-9999.99</td>\n",
              "      <td>9999.99</td>\n",
              "      <td>Log</td>\n",
              "      <td>2</td>\n",
              "      <td>VN001</td>\n",
              "      <td>[2017-06-25T16:31:36.338500000, 2017-06-25T16:...</td>\n",
              "      <td>[-9999.99, 9999.99, 9999.99, -9999.99]</td>\n",
              "      <td>[VN001 @ PC1500]</td>\n",
              "      <td>[]</td>\n",
              "    </tr>\n",
              "    <tr>\n",
              "      <th>2</th>\n",
              "      <td>x1</td>\n",
              "      <td>EVRG</td>\n",
              "      <td>7</td>\n",
              "      <td>12.0.341.42620</td>\n",
              "      <td>3</td>\n",
              "      <td>13</td>\n",
              "      <td>4</td>\n",
              "      <td>0</td>\n",
              "      <td>6</td>\n",
              "      <td>-1</td>\n",
              "      <td>1</td>\n",
              "      <td>2017-06-25 16:58:09.122500</td>\n",
              "      <td>2017-06-25 16:58:12.999500</td>\n",
              "      <td>-9999.99</td>\n",
              "      <td>9999.99</td>\n",
              "      <td>Log</td>\n",
              "      <td>2</td>\n",
              "      <td>ST1</td>\n",
              "      <td>[2017-06-25T16:58:09.122500000, 2017-06-25T16:...</td>\n",
              "      <td>[-9999.99, 9999.99, 9999.99, -9999.99]</td>\n",
              "      <td>[ST1 - Finally!!!!]</td>\n",
              "      <td>[]</td>\n",
              "    </tr>\n",
              "    <tr>\n",
              "      <th>3</th>\n",
              "      <td>x1</td>\n",
              "      <td>EVRG</td>\n",
              "      <td>7</td>\n",
              "      <td>12.0.341.42620</td>\n",
              "      <td>4</td>\n",
              "      <td>13</td>\n",
              "      <td>4</td>\n",
              "      <td>0</td>\n",
              "      <td>4</td>\n",
              "      <td>-1</td>\n",
              "      <td>1</td>\n",
              "      <td>2017-06-25 15:39:22.332000</td>\n",
              "      <td>2017-06-25 16:58:09.122500</td>\n",
              "      <td>9.244758</td>\n",
              "      <td>758.973217</td>\n",
              "      <td>Side station</td>\n",
              "      <td>0</td>\n",
              "      <td>Region4</td>\n",
              "      <td>[2017-06-25T15:39:22.332000000, 2017-06-25T15:...</td>\n",
              "      <td>[9.2447583998, 758.9732173069, 758.9732173069,...</td>\n",
              "      <td>[]</td>\n",
              "      <td>[]</td>\n",
              "    </tr>\n",
              "    <tr>\n",
              "      <th>4</th>\n",
              "      <td>x1</td>\n",
              "      <td>EVRG</td>\n",
              "      <td>7</td>\n",
              "      <td>12.0.341.42620</td>\n",
              "      <td>5</td>\n",
              "      <td>13</td>\n",
              "      <td>4</td>\n",
              "      <td>0</td>\n",
              "      <td>4</td>\n",
              "      <td>-1</td>\n",
              "      <td>1</td>\n",
              "      <td>2017-06-25 15:04:28.137000</td>\n",
              "      <td>2017-06-25 15:39:26.205000</td>\n",
              "      <td>9.244758</td>\n",
              "      <td>758.973217</td>\n",
              "      <td>Off-transect</td>\n",
              "      <td>0</td>\n",
              "      <td>Region5</td>\n",
              "      <td>[2017-06-25T15:04:28.137000000, 2017-06-25T15:...</td>\n",
              "      <td>[9.2447583998, 758.9732173069, 758.9732173069,...</td>\n",
              "      <td>[]</td>\n",
              "      <td>[]</td>\n",
              "    </tr>\n",
              "  </tbody>\n",
              "</table>\n",
              "</div>"
            ],
            "text/plain": [
              "  file_name file_type evr_file_format_number echoview_version  region_id  \\\n",
              "0        x1      EVRG                      7   12.0.341.42620          1   \n",
              "1        x1      EVRG                      7   12.0.341.42620          2   \n",
              "2        x1      EVRG                      7   12.0.341.42620          3   \n",
              "3        x1      EVRG                      7   12.0.341.42620          4   \n",
              "4        x1      EVRG                      7   12.0.341.42620          5   \n",
              "\n",
              "  region_structure_version region_point_count region_selected  \\\n",
              "0                       13                  4               0   \n",
              "1                       13                  4               0   \n",
              "2                       13                  4               0   \n",
              "3                       13                  4               0   \n",
              "4                       13                  4               0   \n",
              "\n",
              "  region_creation_type dummy  region_bbox_calculated  \\\n",
              "0                    6    -1                       1   \n",
              "1                    6    -1                       1   \n",
              "2                    6    -1                       1   \n",
              "3                    4    -1                       1   \n",
              "4                    4    -1                       1   \n",
              "\n",
              "            region_bbox_left          region_bbox_right  region_bbox_top  \\\n",
              "0 2017-06-25 16:12:34.333500 2017-06-25 16:12:38.288000         -9999.99   \n",
              "1 2017-06-25 16:31:36.338500 2017-06-25 16:31:40.211500         -9999.99   \n",
              "2 2017-06-25 16:58:09.122500 2017-06-25 16:58:12.999500         -9999.99   \n",
              "3 2017-06-25 15:39:22.332000 2017-06-25 16:58:09.122500         9.244758   \n",
              "4 2017-06-25 15:04:28.137000 2017-06-25 15:39:26.205000         9.244758   \n",
              "\n",
              "   region_bbox_bottom  region_class region_type region_name  \\\n",
              "0             9999.99           Log           2      CTD005   \n",
              "1             9999.99           Log           2       VN001   \n",
              "2             9999.99           Log           2         ST1   \n",
              "3          758.973217  Side station           0     Region4   \n",
              "4          758.973217  Off-transect           0     Region5   \n",
              "\n",
              "                                                time  \\\n",
              "0  [2017-06-25T16:12:34.333500000, 2017-06-25T16:...   \n",
              "1  [2017-06-25T16:31:36.338500000, 2017-06-25T16:...   \n",
              "2  [2017-06-25T16:58:09.122500000, 2017-06-25T16:...   \n",
              "3  [2017-06-25T15:39:22.332000000, 2017-06-25T15:...   \n",
              "4  [2017-06-25T15:04:28.137000000, 2017-06-25T15:...   \n",
              "\n",
              "                                               depth         region_notes  \\\n",
              "0             [-9999.99, 9999.99, 9999.99, -9999.99]    [CTD005 at depth]   \n",
              "1             [-9999.99, 9999.99, 9999.99, -9999.99]     [VN001 @ PC1500]   \n",
              "2             [-9999.99, 9999.99, 9999.99, -9999.99]  [ST1 - Finally!!!!]   \n",
              "3  [9.2447583998, 758.9732173069, 758.9732173069,...                   []   \n",
              "4  [9.2447583998, 758.9732173069, 758.9732173069,...                   []   \n",
              "\n",
              "  region_detection_settings  \n",
              "0                        []  \n",
              "1                        []  \n",
              "2                        []  \n",
              "3                        []  \n",
              "4                        []  "
            ]
          },
          "execution_count": 8,
          "metadata": {},
          "output_type": "execute_result"
        }
      ],
      "source": [
        "# Data is stored as a Pandas DataFrame in 'data'\n",
        "r2d.data.head()"
      ]
    },
    {
      "attachments": {},
      "cell_type": "markdown",
      "id": "jVSRqhW51pmF",
      "metadata": {
        "id": "jVSRqhW51pmF"
      },
      "source": [
        "## Setting Boundaries"
      ]
    },
    {
      "attachments": {},
      "cell_type": "markdown",
      "id": "263b59d2",
      "metadata": {
        "id": "263b59d2"
      },
      "source": [
        "In this example, the first row has a depth value of [-9999.99, 9999.99, 9999.99, -9999.99].\n",
        "This indicates that the depth points are not actual values, but are points at the edges of the echogram or that the region is not bounded in the y axis.\n",
        "\n",
        "To set these values to something that can easily be plotted, set the `min_depth` and `max_depth`, or provide a `depth` array (meters)."
      ]
    },
    {
      "cell_type": "code",
      "execution_count": 9,
      "id": "fab10730",
      "metadata": {
        "colab": {
          "base_uri": "https://localhost:8080/",
          "height": 206
        },
        "id": "fab10730",
        "outputId": "532a32a1-c2ef-40f6-f102-eb3c7697c681"
      },
      "outputs": [
        {
          "data": {
            "text/html": [
              "<div>\n",
              "<style scoped>\n",
              "    .dataframe tbody tr th:only-of-type {\n",
              "        vertical-align: middle;\n",
              "    }\n",
              "\n",
              "    .dataframe tbody tr th {\n",
              "        vertical-align: top;\n",
              "    }\n",
              "\n",
              "    .dataframe thead th {\n",
              "        text-align: right;\n",
              "    }\n",
              "</style>\n",
              "<table border=\"1\" class=\"dataframe\">\n",
              "  <thead>\n",
              "    <tr style=\"text-align: right;\">\n",
              "      <th></th>\n",
              "      <th>region_bbox_top</th>\n",
              "      <th>region_bbox_bottom</th>\n",
              "      <th>depth</th>\n",
              "    </tr>\n",
              "  </thead>\n",
              "  <tbody>\n",
              "    <tr>\n",
              "      <th>0</th>\n",
              "      <td>0.0</td>\n",
              "      <td>1000.0</td>\n",
              "      <td>[0.0, 1000.0, 1000.0, 0.0]</td>\n",
              "    </tr>\n",
              "    <tr>\n",
              "      <th>1</th>\n",
              "      <td>0.0</td>\n",
              "      <td>1000.0</td>\n",
              "      <td>[0.0, 1000.0, 1000.0, 0.0]</td>\n",
              "    </tr>\n",
              "    <tr>\n",
              "      <th>2</th>\n",
              "      <td>0.0</td>\n",
              "      <td>1000.0</td>\n",
              "      <td>[0.0, 1000.0, 1000.0, 0.0]</td>\n",
              "    </tr>\n",
              "    <tr>\n",
              "      <th>3</th>\n",
              "      <td>9.244758</td>\n",
              "      <td>758.973217</td>\n",
              "      <td>[9.2447583998, 758.9732173069, 758.9732173069,...</td>\n",
              "    </tr>\n",
              "    <tr>\n",
              "      <th>4</th>\n",
              "      <td>9.244758</td>\n",
              "      <td>758.973217</td>\n",
              "      <td>[9.2447583998, 758.9732173069, 758.9732173069,...</td>\n",
              "    </tr>\n",
              "  </tbody>\n",
              "</table>\n",
              "</div>"
            ],
            "text/plain": [
              "   region_bbox_top  region_bbox_bottom  \\\n",
              "0              0.0              1000.0   \n",
              "1              0.0              1000.0   \n",
              "2              0.0              1000.0   \n",
              "3         9.244758          758.973217   \n",
              "4         9.244758          758.973217   \n",
              "\n",
              "                                               depth  \n",
              "0                         [0.0, 1000.0, 1000.0, 0.0]  \n",
              "1                         [0.0, 1000.0, 1000.0, 0.0]  \n",
              "2                         [0.0, 1000.0, 1000.0, 0.0]  \n",
              "3  [9.2447583998, 758.9732173069, 758.9732173069,...  \n",
              "4  [9.2447583998, 758.9732173069, 758.9732173069,...  "
            ]
          },
          "execution_count": 9,
          "metadata": {},
          "output_type": "execute_result"
        }
      ],
      "source": [
        "r2d.min_depth = 0\n",
        "r2d.max_depth = 1000\n",
        "r2d.replace_nan_depth().head()[['region_bbox_top', 'region_bbox_bottom', 'depth']]"
      ]
    },
    {
      "attachments": {},
      "cell_type": "markdown",
      "id": "48ef10cd",
      "metadata": {
        "id": "48ef10cd"
      },
      "source": [
        "The option to specify an offset for depth value is also provided."
      ]
    },
    {
      "cell_type": "code",
      "execution_count": 10,
      "id": "17cef3e8",
      "metadata": {
        "colab": {
          "base_uri": "https://localhost:8080/",
          "height": 444
        },
        "id": "17cef3e8",
        "outputId": "c63e0ba6-31e1-404d-bca3-50f975995d5b"
      },
      "outputs": [
        {
          "data": {
            "text/html": [
              "<div>\n",
              "<style scoped>\n",
              "    .dataframe tbody tr th:only-of-type {\n",
              "        vertical-align: middle;\n",
              "    }\n",
              "\n",
              "    .dataframe tbody tr th {\n",
              "        vertical-align: top;\n",
              "    }\n",
              "\n",
              "    .dataframe thead th {\n",
              "        text-align: right;\n",
              "    }\n",
              "</style>\n",
              "<table border=\"1\" class=\"dataframe\">\n",
              "  <thead>\n",
              "    <tr style=\"text-align: right;\">\n",
              "      <th></th>\n",
              "      <th>file_name</th>\n",
              "      <th>file_type</th>\n",
              "      <th>evr_file_format_number</th>\n",
              "      <th>echoview_version</th>\n",
              "      <th>region_id</th>\n",
              "      <th>region_structure_version</th>\n",
              "      <th>region_point_count</th>\n",
              "      <th>region_selected</th>\n",
              "      <th>region_creation_type</th>\n",
              "      <th>dummy</th>\n",
              "      <th>region_bbox_calculated</th>\n",
              "      <th>region_bbox_left</th>\n",
              "      <th>region_bbox_right</th>\n",
              "      <th>region_bbox_top</th>\n",
              "      <th>region_bbox_bottom</th>\n",
              "      <th>region_class</th>\n",
              "      <th>region_type</th>\n",
              "      <th>region_name</th>\n",
              "      <th>time</th>\n",
              "      <th>depth</th>\n",
              "      <th>region_notes</th>\n",
              "      <th>region_detection_settings</th>\n",
              "    </tr>\n",
              "  </thead>\n",
              "  <tbody>\n",
              "    <tr>\n",
              "      <th>0</th>\n",
              "      <td>x1</td>\n",
              "      <td>EVRG</td>\n",
              "      <td>7</td>\n",
              "      <td>12.0.341.42620</td>\n",
              "      <td>1</td>\n",
              "      <td>13</td>\n",
              "      <td>4</td>\n",
              "      <td>0</td>\n",
              "      <td>6</td>\n",
              "      <td>-1</td>\n",
              "      <td>1</td>\n",
              "      <td>2017-06-25 16:12:34.333500</td>\n",
              "      <td>2017-06-25 16:12:38.288000</td>\n",
              "      <td>-9999.99</td>\n",
              "      <td>9999.99</td>\n",
              "      <td>Log</td>\n",
              "      <td>2</td>\n",
              "      <td>CTD005</td>\n",
              "      <td>[2017-06-25T16:12:34.333500000, 2017-06-25T16:...</td>\n",
              "      <td>[4.0, 1004.0, 1004.0, 4.0]</td>\n",
              "      <td>[CTD005 at depth]</td>\n",
              "      <td>[]</td>\n",
              "    </tr>\n",
              "    <tr>\n",
              "      <th>1</th>\n",
              "      <td>x1</td>\n",
              "      <td>EVRG</td>\n",
              "      <td>7</td>\n",
              "      <td>12.0.341.42620</td>\n",
              "      <td>2</td>\n",
              "      <td>13</td>\n",
              "      <td>4</td>\n",
              "      <td>0</td>\n",
              "      <td>6</td>\n",
              "      <td>-1</td>\n",
              "      <td>1</td>\n",
              "      <td>2017-06-25 16:31:36.338500</td>\n",
              "      <td>2017-06-25 16:31:40.211500</td>\n",
              "      <td>-9999.99</td>\n",
              "      <td>9999.99</td>\n",
              "      <td>Log</td>\n",
              "      <td>2</td>\n",
              "      <td>VN001</td>\n",
              "      <td>[2017-06-25T16:31:36.338500000, 2017-06-25T16:...</td>\n",
              "      <td>[4.0, 1004.0, 1004.0, 4.0]</td>\n",
              "      <td>[VN001 @ PC1500]</td>\n",
              "      <td>[]</td>\n",
              "    </tr>\n",
              "    <tr>\n",
              "      <th>2</th>\n",
              "      <td>x1</td>\n",
              "      <td>EVRG</td>\n",
              "      <td>7</td>\n",
              "      <td>12.0.341.42620</td>\n",
              "      <td>3</td>\n",
              "      <td>13</td>\n",
              "      <td>4</td>\n",
              "      <td>0</td>\n",
              "      <td>6</td>\n",
              "      <td>-1</td>\n",
              "      <td>1</td>\n",
              "      <td>2017-06-25 16:58:09.122500</td>\n",
              "      <td>2017-06-25 16:58:12.999500</td>\n",
              "      <td>-9999.99</td>\n",
              "      <td>9999.99</td>\n",
              "      <td>Log</td>\n",
              "      <td>2</td>\n",
              "      <td>ST1</td>\n",
              "      <td>[2017-06-25T16:58:09.122500000, 2017-06-25T16:...</td>\n",
              "      <td>[4.0, 1004.0, 1004.0, 4.0]</td>\n",
              "      <td>[ST1 - Finally!!!!]</td>\n",
              "      <td>[]</td>\n",
              "    </tr>\n",
              "    <tr>\n",
              "      <th>3</th>\n",
              "      <td>x1</td>\n",
              "      <td>EVRG</td>\n",
              "      <td>7</td>\n",
              "      <td>12.0.341.42620</td>\n",
              "      <td>4</td>\n",
              "      <td>13</td>\n",
              "      <td>4</td>\n",
              "      <td>0</td>\n",
              "      <td>4</td>\n",
              "      <td>-1</td>\n",
              "      <td>1</td>\n",
              "      <td>2017-06-25 15:39:22.332000</td>\n",
              "      <td>2017-06-25 16:58:09.122500</td>\n",
              "      <td>9.244758</td>\n",
              "      <td>758.973217</td>\n",
              "      <td>Side station</td>\n",
              "      <td>0</td>\n",
              "      <td>Region4</td>\n",
              "      <td>[2017-06-25T15:39:22.332000000, 2017-06-25T15:...</td>\n",
              "      <td>[13.2447583998, 762.9732173069, 762.9732173069...</td>\n",
              "      <td>[]</td>\n",
              "      <td>[]</td>\n",
              "    </tr>\n",
              "    <tr>\n",
              "      <th>4</th>\n",
              "      <td>x1</td>\n",
              "      <td>EVRG</td>\n",
              "      <td>7</td>\n",
              "      <td>12.0.341.42620</td>\n",
              "      <td>5</td>\n",
              "      <td>13</td>\n",
              "      <td>4</td>\n",
              "      <td>0</td>\n",
              "      <td>4</td>\n",
              "      <td>-1</td>\n",
              "      <td>1</td>\n",
              "      <td>2017-06-25 15:04:28.137000</td>\n",
              "      <td>2017-06-25 15:39:26.205000</td>\n",
              "      <td>9.244758</td>\n",
              "      <td>758.973217</td>\n",
              "      <td>Off-transect</td>\n",
              "      <td>0</td>\n",
              "      <td>Region5</td>\n",
              "      <td>[2017-06-25T15:04:28.137000000, 2017-06-25T15:...</td>\n",
              "      <td>[13.2447583998, 762.9732173069, 762.9732173069...</td>\n",
              "      <td>[]</td>\n",
              "      <td>[]</td>\n",
              "    </tr>\n",
              "  </tbody>\n",
              "</table>\n",
              "</div>"
            ],
            "text/plain": [
              "  file_name file_type evr_file_format_number echoview_version  region_id  \\\n",
              "0        x1      EVRG                      7   12.0.341.42620          1   \n",
              "1        x1      EVRG                      7   12.0.341.42620          2   \n",
              "2        x1      EVRG                      7   12.0.341.42620          3   \n",
              "3        x1      EVRG                      7   12.0.341.42620          4   \n",
              "4        x1      EVRG                      7   12.0.341.42620          5   \n",
              "\n",
              "  region_structure_version region_point_count region_selected  \\\n",
              "0                       13                  4               0   \n",
              "1                       13                  4               0   \n",
              "2                       13                  4               0   \n",
              "3                       13                  4               0   \n",
              "4                       13                  4               0   \n",
              "\n",
              "  region_creation_type dummy  region_bbox_calculated  \\\n",
              "0                    6    -1                       1   \n",
              "1                    6    -1                       1   \n",
              "2                    6    -1                       1   \n",
              "3                    4    -1                       1   \n",
              "4                    4    -1                       1   \n",
              "\n",
              "            region_bbox_left          region_bbox_right  region_bbox_top  \\\n",
              "0 2017-06-25 16:12:34.333500 2017-06-25 16:12:38.288000         -9999.99   \n",
              "1 2017-06-25 16:31:36.338500 2017-06-25 16:31:40.211500         -9999.99   \n",
              "2 2017-06-25 16:58:09.122500 2017-06-25 16:58:12.999500         -9999.99   \n",
              "3 2017-06-25 15:39:22.332000 2017-06-25 16:58:09.122500         9.244758   \n",
              "4 2017-06-25 15:04:28.137000 2017-06-25 15:39:26.205000         9.244758   \n",
              "\n",
              "   region_bbox_bottom  region_class region_type region_name  \\\n",
              "0             9999.99           Log           2      CTD005   \n",
              "1             9999.99           Log           2       VN001   \n",
              "2             9999.99           Log           2         ST1   \n",
              "3          758.973217  Side station           0     Region4   \n",
              "4          758.973217  Off-transect           0     Region5   \n",
              "\n",
              "                                                time  \\\n",
              "0  [2017-06-25T16:12:34.333500000, 2017-06-25T16:...   \n",
              "1  [2017-06-25T16:31:36.338500000, 2017-06-25T16:...   \n",
              "2  [2017-06-25T16:58:09.122500000, 2017-06-25T16:...   \n",
              "3  [2017-06-25T15:39:22.332000000, 2017-06-25T15:...   \n",
              "4  [2017-06-25T15:04:28.137000000, 2017-06-25T15:...   \n",
              "\n",
              "                                               depth         region_notes  \\\n",
              "0                         [4.0, 1004.0, 1004.0, 4.0]    [CTD005 at depth]   \n",
              "1                         [4.0, 1004.0, 1004.0, 4.0]     [VN001 @ PC1500]   \n",
              "2                         [4.0, 1004.0, 1004.0, 4.0]  [ST1 - Finally!!!!]   \n",
              "3  [13.2447583998, 762.9732173069, 762.9732173069...                   []   \n",
              "4  [13.2447583998, 762.9732173069, 762.9732173069...                   []   \n",
              "\n",
              "  region_detection_settings  \n",
              "0                        []  \n",
              "1                        []  \n",
              "2                        []  \n",
              "3                        []  \n",
              "4                        []  "
            ]
          },
          "execution_count": 10,
          "metadata": {},
          "output_type": "execute_result"
        }
      ],
      "source": [
        "r2d.offset = 4\n",
        "r2d.adjust_offset().head()"
      ]
    },
    {
      "attachments": {},
      "cell_type": "markdown",
      "id": "c20775e8",
      "metadata": {
        "id": "c20775e8"
      },
      "source": [
        "`replace_nan_depth` and `adjust_offset` return a new DataFrame by default, but setting the `inplace`\n",
        "argument to `True` will modify Regions2D.data inplace."
      ]
    },
    {
      "attachments": {},
      "cell_type": "markdown",
      "id": "8ddc1be6",
      "metadata": {
        "id": "8ddc1be6"
      },
      "source": [
        "## Selecting Regions"
      ]
    },
    {
      "cell_type": "code",
      "execution_count": 11,
      "id": "e6efdd43",
      "metadata": {
        "colab": {
          "base_uri": "https://localhost:8080/",
          "height": 196
        },
        "id": "e6efdd43",
        "outputId": "148ae423-3694-4a7b-ddc2-8941158018f2"
      },
      "outputs": [
        {
          "data": {
            "text/html": [
              "<div>\n",
              "<style scoped>\n",
              "    .dataframe tbody tr th:only-of-type {\n",
              "        vertical-align: middle;\n",
              "    }\n",
              "\n",
              "    .dataframe tbody tr th {\n",
              "        vertical-align: top;\n",
              "    }\n",
              "\n",
              "    .dataframe thead th {\n",
              "        text-align: right;\n",
              "    }\n",
              "</style>\n",
              "<table border=\"1\" class=\"dataframe\">\n",
              "  <thead>\n",
              "    <tr style=\"text-align: right;\">\n",
              "      <th></th>\n",
              "      <th>file_name</th>\n",
              "      <th>file_type</th>\n",
              "      <th>evr_file_format_number</th>\n",
              "      <th>echoview_version</th>\n",
              "      <th>region_id</th>\n",
              "      <th>region_structure_version</th>\n",
              "      <th>region_point_count</th>\n",
              "      <th>region_selected</th>\n",
              "      <th>region_creation_type</th>\n",
              "      <th>dummy</th>\n",
              "      <th>region_bbox_calculated</th>\n",
              "      <th>region_bbox_left</th>\n",
              "      <th>region_bbox_right</th>\n",
              "      <th>region_bbox_top</th>\n",
              "      <th>region_bbox_bottom</th>\n",
              "      <th>region_class</th>\n",
              "      <th>region_type</th>\n",
              "      <th>region_name</th>\n",
              "      <th>time</th>\n",
              "      <th>depth</th>\n",
              "      <th>region_notes</th>\n",
              "      <th>region_detection_settings</th>\n",
              "    </tr>\n",
              "  </thead>\n",
              "  <tbody>\n",
              "    <tr>\n",
              "      <th>11</th>\n",
              "      <td>x1</td>\n",
              "      <td>EVRG</td>\n",
              "      <td>7</td>\n",
              "      <td>12.0.341.42620</td>\n",
              "      <td>12</td>\n",
              "      <td>13</td>\n",
              "      <td>4</td>\n",
              "      <td>0</td>\n",
              "      <td>6</td>\n",
              "      <td>-1</td>\n",
              "      <td>1</td>\n",
              "      <td>2017-06-25 20:11:47.088500</td>\n",
              "      <td>2017-06-25 20:11:49.961</td>\n",
              "      <td>-9999.99</td>\n",
              "      <td>9999.99</td>\n",
              "      <td>Log</td>\n",
              "      <td>2</td>\n",
              "      <td>BT1</td>\n",
              "      <td>[2017-06-25T20:11:47.088500000, 2017-06-25T20:...</td>\n",
              "      <td>[0.0, 1000.0, 1000.0, 0.0]</td>\n",
              "      <td>[BT1 for VN3 @ PC500]</td>\n",
              "      <td>[]</td>\n",
              "    </tr>\n",
              "  </tbody>\n",
              "</table>\n",
              "</div>"
            ],
            "text/plain": [
              "   file_name file_type evr_file_format_number echoview_version  region_id  \\\n",
              "11        x1      EVRG                      7   12.0.341.42620         12   \n",
              "\n",
              "   region_structure_version region_point_count region_selected  \\\n",
              "11                       13                  4               0   \n",
              "\n",
              "   region_creation_type dummy  region_bbox_calculated  \\\n",
              "11                    6    -1                       1   \n",
              "\n",
              "             region_bbox_left       region_bbox_right  region_bbox_top  \\\n",
              "11 2017-06-25 20:11:47.088500 2017-06-25 20:11:49.961         -9999.99   \n",
              "\n",
              "    region_bbox_bottom region_class region_type region_name  \\\n",
              "11             9999.99          Log           2         BT1   \n",
              "\n",
              "                                                 time  \\\n",
              "11  [2017-06-25T20:11:47.088500000, 2017-06-25T20:...   \n",
              "\n",
              "                         depth           region_notes  \\\n",
              "11  [0.0, 1000.0, 1000.0, 0.0]  [BT1 for VN3 @ PC500]   \n",
              "\n",
              "   region_detection_settings  \n",
              "11                        []  "
            ]
          },
          "execution_count": 11,
          "metadata": {},
          "output_type": "execute_result"
        }
      ],
      "source": [
        "# A region can be selected by region id with a single region_id value\n",
        "r2d.select_region(12)"
      ]
    },
    {
      "cell_type": "code",
      "execution_count": 12,
      "id": "3a58fd81",
      "metadata": {
        "colab": {
          "base_uri": "https://localhost:8080/",
          "height": 378
        },
        "id": "3a58fd81",
        "outputId": "32860dcf-139f-4bd5-f516-4376a5d43b7a"
      },
      "outputs": [
        {
          "data": {
            "text/html": [
              "<div>\n",
              "<style scoped>\n",
              "    .dataframe tbody tr th:only-of-type {\n",
              "        vertical-align: middle;\n",
              "    }\n",
              "\n",
              "    .dataframe tbody tr th {\n",
              "        vertical-align: top;\n",
              "    }\n",
              "\n",
              "    .dataframe thead th {\n",
              "        text-align: right;\n",
              "    }\n",
              "</style>\n",
              "<table border=\"1\" class=\"dataframe\">\n",
              "  <thead>\n",
              "    <tr style=\"text-align: right;\">\n",
              "      <th></th>\n",
              "      <th>file_name</th>\n",
              "      <th>file_type</th>\n",
              "      <th>evr_file_format_number</th>\n",
              "      <th>echoview_version</th>\n",
              "      <th>region_id</th>\n",
              "      <th>region_structure_version</th>\n",
              "      <th>region_point_count</th>\n",
              "      <th>region_selected</th>\n",
              "      <th>region_creation_type</th>\n",
              "      <th>dummy</th>\n",
              "      <th>region_bbox_calculated</th>\n",
              "      <th>region_bbox_left</th>\n",
              "      <th>region_bbox_right</th>\n",
              "      <th>region_bbox_top</th>\n",
              "      <th>region_bbox_bottom</th>\n",
              "      <th>region_class</th>\n",
              "      <th>region_type</th>\n",
              "      <th>region_name</th>\n",
              "      <th>time</th>\n",
              "      <th>depth</th>\n",
              "      <th>region_notes</th>\n",
              "      <th>region_detection_settings</th>\n",
              "    </tr>\n",
              "  </thead>\n",
              "  <tbody>\n",
              "    <tr>\n",
              "      <th>0</th>\n",
              "      <td>x1</td>\n",
              "      <td>EVRG</td>\n",
              "      <td>7</td>\n",
              "      <td>12.0.341.42620</td>\n",
              "      <td>1</td>\n",
              "      <td>13</td>\n",
              "      <td>4</td>\n",
              "      <td>0</td>\n",
              "      <td>6</td>\n",
              "      <td>-1</td>\n",
              "      <td>1</td>\n",
              "      <td>2017-06-25 16:12:34.333500</td>\n",
              "      <td>2017-06-25 16:12:38.288000</td>\n",
              "      <td>-9999.99</td>\n",
              "      <td>9999.99</td>\n",
              "      <td>Log</td>\n",
              "      <td>2</td>\n",
              "      <td>CTD005</td>\n",
              "      <td>[2017-06-25T16:12:34.333500000, 2017-06-25T16:...</td>\n",
              "      <td>[0.0, 1000.0, 1000.0, 0.0]</td>\n",
              "      <td>[CTD005 at depth]</td>\n",
              "      <td>[]</td>\n",
              "    </tr>\n",
              "    <tr>\n",
              "      <th>1</th>\n",
              "      <td>x1</td>\n",
              "      <td>EVRG</td>\n",
              "      <td>7</td>\n",
              "      <td>12.0.341.42620</td>\n",
              "      <td>2</td>\n",
              "      <td>13</td>\n",
              "      <td>4</td>\n",
              "      <td>0</td>\n",
              "      <td>6</td>\n",
              "      <td>-1</td>\n",
              "      <td>1</td>\n",
              "      <td>2017-06-25 16:31:36.338500</td>\n",
              "      <td>2017-06-25 16:31:40.211500</td>\n",
              "      <td>-9999.99</td>\n",
              "      <td>9999.99</td>\n",
              "      <td>Log</td>\n",
              "      <td>2</td>\n",
              "      <td>VN001</td>\n",
              "      <td>[2017-06-25T16:31:36.338500000, 2017-06-25T16:...</td>\n",
              "      <td>[0.0, 1000.0, 1000.0, 0.0]</td>\n",
              "      <td>[VN001 @ PC1500]</td>\n",
              "      <td>[]</td>\n",
              "    </tr>\n",
              "    <tr>\n",
              "      <th>2</th>\n",
              "      <td>x1</td>\n",
              "      <td>EVRG</td>\n",
              "      <td>7</td>\n",
              "      <td>12.0.341.42620</td>\n",
              "      <td>3</td>\n",
              "      <td>13</td>\n",
              "      <td>4</td>\n",
              "      <td>0</td>\n",
              "      <td>6</td>\n",
              "      <td>-1</td>\n",
              "      <td>1</td>\n",
              "      <td>2017-06-25 16:58:09.122500</td>\n",
              "      <td>2017-06-25 16:58:12.999500</td>\n",
              "      <td>-9999.99</td>\n",
              "      <td>9999.99</td>\n",
              "      <td>Log</td>\n",
              "      <td>2</td>\n",
              "      <td>ST1</td>\n",
              "      <td>[2017-06-25T16:58:09.122500000, 2017-06-25T16:...</td>\n",
              "      <td>[0.0, 1000.0, 1000.0, 0.0]</td>\n",
              "      <td>[ST1 - Finally!!!!]</td>\n",
              "      <td>[]</td>\n",
              "    </tr>\n",
              "    <tr>\n",
              "      <th>3</th>\n",
              "      <td>x1</td>\n",
              "      <td>EVRG</td>\n",
              "      <td>7</td>\n",
              "      <td>12.0.341.42620</td>\n",
              "      <td>4</td>\n",
              "      <td>13</td>\n",
              "      <td>4</td>\n",
              "      <td>0</td>\n",
              "      <td>4</td>\n",
              "      <td>-1</td>\n",
              "      <td>1</td>\n",
              "      <td>2017-06-25 15:39:22.332000</td>\n",
              "      <td>2017-06-25 16:58:09.122500</td>\n",
              "      <td>9.244758</td>\n",
              "      <td>758.973217</td>\n",
              "      <td>Side station</td>\n",
              "      <td>0</td>\n",
              "      <td>Region4</td>\n",
              "      <td>[2017-06-25T15:39:22.332000000, 2017-06-25T15:...</td>\n",
              "      <td>[9.2447583998, 758.9732173069, 758.9732173069,...</td>\n",
              "      <td>[]</td>\n",
              "      <td>[]</td>\n",
              "    </tr>\n",
              "  </tbody>\n",
              "</table>\n",
              "</div>"
            ],
            "text/plain": [
              "  file_name file_type evr_file_format_number echoview_version  region_id  \\\n",
              "0        x1      EVRG                      7   12.0.341.42620          1   \n",
              "1        x1      EVRG                      7   12.0.341.42620          2   \n",
              "2        x1      EVRG                      7   12.0.341.42620          3   \n",
              "3        x1      EVRG                      7   12.0.341.42620          4   \n",
              "\n",
              "  region_structure_version region_point_count region_selected  \\\n",
              "0                       13                  4               0   \n",
              "1                       13                  4               0   \n",
              "2                       13                  4               0   \n",
              "3                       13                  4               0   \n",
              "\n",
              "  region_creation_type dummy  region_bbox_calculated  \\\n",
              "0                    6    -1                       1   \n",
              "1                    6    -1                       1   \n",
              "2                    6    -1                       1   \n",
              "3                    4    -1                       1   \n",
              "\n",
              "            region_bbox_left          region_bbox_right  region_bbox_top  \\\n",
              "0 2017-06-25 16:12:34.333500 2017-06-25 16:12:38.288000         -9999.99   \n",
              "1 2017-06-25 16:31:36.338500 2017-06-25 16:31:40.211500         -9999.99   \n",
              "2 2017-06-25 16:58:09.122500 2017-06-25 16:58:12.999500         -9999.99   \n",
              "3 2017-06-25 15:39:22.332000 2017-06-25 16:58:09.122500         9.244758   \n",
              "\n",
              "   region_bbox_bottom  region_class region_type region_name  \\\n",
              "0             9999.99           Log           2      CTD005   \n",
              "1             9999.99           Log           2       VN001   \n",
              "2             9999.99           Log           2         ST1   \n",
              "3          758.973217  Side station           0     Region4   \n",
              "\n",
              "                                                time  \\\n",
              "0  [2017-06-25T16:12:34.333500000, 2017-06-25T16:...   \n",
              "1  [2017-06-25T16:31:36.338500000, 2017-06-25T16:...   \n",
              "2  [2017-06-25T16:58:09.122500000, 2017-06-25T16:...   \n",
              "3  [2017-06-25T15:39:22.332000000, 2017-06-25T15:...   \n",
              "\n",
              "                                               depth         region_notes  \\\n",
              "0                         [0.0, 1000.0, 1000.0, 0.0]    [CTD005 at depth]   \n",
              "1                         [0.0, 1000.0, 1000.0, 0.0]     [VN001 @ PC1500]   \n",
              "2                         [0.0, 1000.0, 1000.0, 0.0]  [ST1 - Finally!!!!]   \n",
              "3  [9.2447583998, 758.9732173069, 758.9732173069,...                   []   \n",
              "\n",
              "  region_detection_settings  \n",
              "0                        []  \n",
              "1                        []  \n",
              "2                        []  \n",
              "3                        []  "
            ]
          },
          "execution_count": 12,
          "metadata": {},
          "output_type": "execute_result"
        }
      ],
      "source": [
        "# ... or multiple region_id values\n",
        "r2d.select_region([1,2,3,4])"
      ]
    },
    {
      "attachments": {},
      "cell_type": "markdown",
      "id": "b82e808f",
      "metadata": {
        "id": "b82e808f"
      },
      "source": [
        "**At the moment, Regions2D implements \\_\\_iter__ and \\_\\_getitem__ for convenience**"
      ]
    },
    {
      "cell_type": "code",
      "execution_count": 13,
      "id": "18f44b9d",
      "metadata": {
        "colab": {
          "base_uri": "https://localhost:8080/"
        },
        "id": "18f44b9d",
        "outputId": "4163dd77-91fa-42ca-d536-8cedd685868e"
      },
      "outputs": [
        {
          "name": "stdout",
          "output_type": "stream",
          "text": [
            "['CTD005 at depth']\n",
            "['VN001 @ PC1500']\n",
            "['ST1 - Finally!!!!']\n",
            "[]\n",
            "[]\n",
            "['BT2 for VN2 PC1000']\n",
            "['CTD006 at depth']\n",
            "['VN002 @ PC1000 in the water']\n",
            "['RT1 after VN002']\n",
            "[]\n",
            "[]\n",
            "['BT1 for VN3 @ PC500']\n",
            "['CTD007 at PC500']\n",
            "['Vertical net 003 @ PC500 in the water']\n",
            "[]\n",
            "['RT1']\n",
            "['BT1 for PC300 + VN004']\n",
            "['CTD008 at depth']\n",
            "['Vertical net 004 @ PC300 in the water']\n",
            "[]\n",
            "['Resume transect 1']\n",
            "[]\n",
            "['Break transect 1']\n",
            "['CTD09 at depth at PC150']\n",
            "['Vertical net 005 in the water @ PC150']\n",
            "[]\n",
            "['RT1']\n",
            "[]\n",
            "['Back on original transect line (went around oil platform)']\n",
            "['End transect 1']\n",
            "['CTD010 at depth']\n",
            "['Vertical net 006 at PC60']\n",
            "[]\n"
          ]
        }
      ],
      "source": [
        "# Iterate over rows\n",
        "for idx, region in r2d:\n",
        "    print(region['region_notes'])"
      ]
    },
    {
      "cell_type": "code",
      "execution_count": 14,
      "id": "b5a6e490",
      "metadata": {
        "colab": {
          "base_uri": "https://localhost:8080/",
          "height": 311
        },
        "id": "b5a6e490",
        "outputId": "631bcc7b-c802-4785-a01f-38320472bab4"
      },
      "outputs": [
        {
          "data": {
            "text/html": [
              "<div>\n",
              "<style scoped>\n",
              "    .dataframe tbody tr th:only-of-type {\n",
              "        vertical-align: middle;\n",
              "    }\n",
              "\n",
              "    .dataframe tbody tr th {\n",
              "        vertical-align: top;\n",
              "    }\n",
              "\n",
              "    .dataframe thead th {\n",
              "        text-align: right;\n",
              "    }\n",
              "</style>\n",
              "<table border=\"1\" class=\"dataframe\">\n",
              "  <thead>\n",
              "    <tr style=\"text-align: right;\">\n",
              "      <th></th>\n",
              "      <th>file_name</th>\n",
              "      <th>file_type</th>\n",
              "      <th>evr_file_format_number</th>\n",
              "      <th>echoview_version</th>\n",
              "      <th>region_id</th>\n",
              "      <th>region_structure_version</th>\n",
              "      <th>region_point_count</th>\n",
              "      <th>region_selected</th>\n",
              "      <th>region_creation_type</th>\n",
              "      <th>dummy</th>\n",
              "      <th>region_bbox_calculated</th>\n",
              "      <th>region_bbox_left</th>\n",
              "      <th>region_bbox_right</th>\n",
              "      <th>region_bbox_top</th>\n",
              "      <th>region_bbox_bottom</th>\n",
              "      <th>region_class</th>\n",
              "      <th>region_type</th>\n",
              "      <th>region_name</th>\n",
              "      <th>time</th>\n",
              "      <th>depth</th>\n",
              "      <th>region_notes</th>\n",
              "      <th>region_detection_settings</th>\n",
              "    </tr>\n",
              "  </thead>\n",
              "  <tbody>\n",
              "    <tr>\n",
              "      <th>4</th>\n",
              "      <td>x1</td>\n",
              "      <td>EVRG</td>\n",
              "      <td>7</td>\n",
              "      <td>12.0.341.42620</td>\n",
              "      <td>5</td>\n",
              "      <td>13</td>\n",
              "      <td>4</td>\n",
              "      <td>0</td>\n",
              "      <td>4</td>\n",
              "      <td>-1</td>\n",
              "      <td>1</td>\n",
              "      <td>2017-06-25 15:04:28.137000</td>\n",
              "      <td>2017-06-25 15:39:26.205000</td>\n",
              "      <td>9.244758</td>\n",
              "      <td>758.973217</td>\n",
              "      <td>Off-transect</td>\n",
              "      <td>0</td>\n",
              "      <td>Region5</td>\n",
              "      <td>[2017-06-25T15:04:28.137000000, 2017-06-25T15:...</td>\n",
              "      <td>[9.2447583998, 758.9732173069, 758.9732173069,...</td>\n",
              "      <td>[]</td>\n",
              "      <td>[]</td>\n",
              "    </tr>\n",
              "    <tr>\n",
              "      <th>5</th>\n",
              "      <td>x1</td>\n",
              "      <td>EVRG</td>\n",
              "      <td>7</td>\n",
              "      <td>12.0.341.42620</td>\n",
              "      <td>6</td>\n",
              "      <td>13</td>\n",
              "      <td>4</td>\n",
              "      <td>0</td>\n",
              "      <td>6</td>\n",
              "      <td>-1</td>\n",
              "      <td>1</td>\n",
              "      <td>2017-06-25 17:57:06.806500</td>\n",
              "      <td>2017-06-25 17:57:09.687500</td>\n",
              "      <td>-9999.99</td>\n",
              "      <td>9999.99</td>\n",
              "      <td>Log</td>\n",
              "      <td>2</td>\n",
              "      <td>BT2</td>\n",
              "      <td>[2017-06-25T17:57:06.806500000, 2017-06-25T17:...</td>\n",
              "      <td>[0.0, 1000.0, 1000.0, 0.0]</td>\n",
              "      <td>[BT2 for VN2 PC1000]</td>\n",
              "      <td>[]</td>\n",
              "    </tr>\n",
              "    <tr>\n",
              "      <th>6</th>\n",
              "      <td>x1</td>\n",
              "      <td>EVRG</td>\n",
              "      <td>7</td>\n",
              "      <td>12.0.341.42620</td>\n",
              "      <td>7</td>\n",
              "      <td>13</td>\n",
              "      <td>4</td>\n",
              "      <td>0</td>\n",
              "      <td>6</td>\n",
              "      <td>-1</td>\n",
              "      <td>1</td>\n",
              "      <td>2017-06-25 18:26:31.322000</td>\n",
              "      <td>2017-06-25 18:26:34.201500</td>\n",
              "      <td>-9999.99</td>\n",
              "      <td>9999.99</td>\n",
              "      <td>Log</td>\n",
              "      <td>2</td>\n",
              "      <td>CTD006</td>\n",
              "      <td>[2017-06-25T18:26:31.322000000, 2017-06-25T18:...</td>\n",
              "      <td>[0.0, 1000.0, 1000.0, 0.0]</td>\n",
              "      <td>[CTD006 at depth]</td>\n",
              "      <td>[]</td>\n",
              "    </tr>\n",
              "  </tbody>\n",
              "</table>\n",
              "</div>"
            ],
            "text/plain": [
              "  file_name file_type evr_file_format_number echoview_version  region_id  \\\n",
              "4        x1      EVRG                      7   12.0.341.42620          5   \n",
              "5        x1      EVRG                      7   12.0.341.42620          6   \n",
              "6        x1      EVRG                      7   12.0.341.42620          7   \n",
              "\n",
              "  region_structure_version region_point_count region_selected  \\\n",
              "4                       13                  4               0   \n",
              "5                       13                  4               0   \n",
              "6                       13                  4               0   \n",
              "\n",
              "  region_creation_type dummy  region_bbox_calculated  \\\n",
              "4                    4    -1                       1   \n",
              "5                    6    -1                       1   \n",
              "6                    6    -1                       1   \n",
              "\n",
              "            region_bbox_left          region_bbox_right  region_bbox_top  \\\n",
              "4 2017-06-25 15:04:28.137000 2017-06-25 15:39:26.205000         9.244758   \n",
              "5 2017-06-25 17:57:06.806500 2017-06-25 17:57:09.687500         -9999.99   \n",
              "6 2017-06-25 18:26:31.322000 2017-06-25 18:26:34.201500         -9999.99   \n",
              "\n",
              "   region_bbox_bottom  region_class region_type region_name  \\\n",
              "4          758.973217  Off-transect           0     Region5   \n",
              "5             9999.99           Log           2         BT2   \n",
              "6             9999.99           Log           2      CTD006   \n",
              "\n",
              "                                                time  \\\n",
              "4  [2017-06-25T15:04:28.137000000, 2017-06-25T15:...   \n",
              "5  [2017-06-25T17:57:06.806500000, 2017-06-25T17:...   \n",
              "6  [2017-06-25T18:26:31.322000000, 2017-06-25T18:...   \n",
              "\n",
              "                                               depth          region_notes  \\\n",
              "4  [9.2447583998, 758.9732173069, 758.9732173069,...                    []   \n",
              "5                         [0.0, 1000.0, 1000.0, 0.0]  [BT2 for VN2 PC1000]   \n",
              "6                         [0.0, 1000.0, 1000.0, 0.0]     [CTD006 at depth]   \n",
              "\n",
              "  region_detection_settings  \n",
              "4                        []  \n",
              "5                        []  \n",
              "6                        []  "
            ]
          },
          "execution_count": 14,
          "metadata": {},
          "output_type": "execute_result"
        }
      ],
      "source": [
        "# Slice by index (NOT BY REGION ID)\n",
        "r2d[4:7]"
      ]
    },
    {
      "attachments": {},
      "cell_type": "markdown",
      "id": "f31c9279",
      "metadata": {
        "id": "f31c9279"
      },
      "source": [
        "## Selecting Sonar Files"
      ]
    },
    {
      "attachments": {},
      "cell_type": "markdown",
      "id": "294cfaf7",
      "metadata": {
        "id": "294cfaf7"
      },
      "source": [
        "If you have a lot of files, it can be annoying or time consuming to find out which sonar file(s) a particular region belongs to. Echoregions solves this issue with `select_sonar_file`. Pass the list of sonar file paths to the function along with the region to get back the smallest subset of the sonar files that encompass the region."
      ]
    },
    {
      "attachments": {},
      "cell_type": "markdown",
      "id": "EkHk8TuImVjN",
      "metadata": {
        "id": "EkHk8TuImVjN"
      },
      "source": [
        "We have converted and calibrated some files on Google Drive. "
      ]
    },
    {
      "cell_type": "code",
      "execution_count": 15,
      "id": "LHEiIfqPl6Ez",
      "metadata": {
        "id": "LHEiIfqPl6Ez"
      },
      "outputs": [],
      "source": [
        "# mounting the google drive (uncomment if you have permission to read directly from Google Drive)\n",
        "# from google.colab import drive\n",
        "# drive.mount('/content/drive/')"
      ]
    },
    {
      "cell_type": "code",
      "execution_count": 16,
      "id": "-NKUyfMWeGYQ",
      "metadata": {
        "id": "-NKUyfMWeGYQ"
      },
      "outputs": [],
      "source": [
        "# Paths for Google Drive read  (uncomment if you have permission to read directly from Google Drive)\n",
        "# SONAR_PATH_Sv = '/content/drive/Shareddrives/uw-echospace/shared_data/SH1707/sample/Sv/'\n",
        "# SONAR_PATH_raw = '/content/drive/Shareddrives/uw-echospace/shared_data/SH1707/sample/raw_converted/'"
      ]
    },
    {
      "cell_type": "code",
      "execution_count": 17,
      "id": "cfLTfim20WZ_",
      "metadata": {
        "colab": {
          "base_uri": "https://localhost:8080/",
          "height": 104
        },
        "id": "cfLTfim20WZ_",
        "outputId": "c12011d3-7a6b-440f-c046-c63cd6c5e69b"
      },
      "outputs": [
        {
          "name": "stderr",
          "output_type": "stream",
          "text": [
            "Downloading...\n",
            "From (uriginal): https://drive.google.com/uc?id=1rPO8NaXS9cGtl0ex4KIc7HmT2PnXPg0S\n",
            "From (redirected): https://drive.google.com/uc?id=1rPO8NaXS9cGtl0ex4KIc7HmT2PnXPg0S&confirm=t&uuid=bd7829db-0672-433a-9ec6-a25442bf0a41\n",
            "To: c:\\Users\\cmtug\\OneDrive\\Documents\\GitHub\\echoregions\\notebooks\\sample.zip\n",
            "100%|██████████| 1.67G/1.67G [01:52<00:00, 14.8MB/s]\n"
          ]
        },
        {
          "data": {
            "text/plain": [
              "'sample.zip'"
            ]
          },
          "execution_count": 17,
          "metadata": {},
          "output_type": "execute_result"
        }
      ],
      "source": [
        "# download a zipped sample folder from publicly available Google Drive\n",
        "url = 'https://drive.google.com/uc?id=1rPO8NaXS9cGtl0ex4KIc7HmT2PnXPg0S'\n",
        "output = 'sample.zip'\n",
        "gdown.download(url, output, quiet=False)"
      ]
    },
    {
      "cell_type": "code",
      "execution_count": 18,
      "id": "GWqB_S-I1e2Q",
      "metadata": {
        "colab": {
          "base_uri": "https://localhost:8080/"
        },
        "id": "GWqB_S-I1e2Q",
        "outputId": "1a21b7fd-deae-4a86-e72d-140485c27d08"
      },
      "outputs": [],
      "source": [
        "# Unzip into sample folder labeled \"/sample\"\n",
        "import zipfile\n",
        "with zipfile.ZipFile(\"sample.zip\", 'r') as zip_ref:\n",
        "    zip_ref.extractall()"
      ]
    },
    {
      "cell_type": "code",
      "execution_count": 19,
      "id": "so4wrnMsLDEr",
      "metadata": {
        "id": "so4wrnMsLDEr"
      },
      "outputs": [],
      "source": [
        "# Paths for local read\n",
        "SONAR_PATH_Sv = './sample/Sv/'\n",
        "SONAR_PATH_raw = './sample/raw_converted/'"
      ]
    },
    {
      "cell_type": "code",
      "execution_count": 20,
      "id": "OrK-otk0ccY3",
      "metadata": {
        "colab": {
          "base_uri": "https://localhost:8080/"
        },
        "id": "OrK-otk0ccY3",
        "outputId": "345e2263-bb3c-4b45-d29f-1ea0b191e871"
      },
      "outputs": [
        {
          "name": "stdout",
          "output_type": "stream",
          "text": [
            "['Summer2017-D20170625-T124834.nc', 'Summer2017-D20170625-T132103.nc', 'Summer2017-D20170625-T134400.nc', 'Summer2017-D20170625-T140924.nc', 'Summer2017-D20170625-T143450.nc', 'Summer2017-D20170625-T150430.nc', 'Summer2017-D20170625-T153818.nc', 'Summer2017-D20170625-T161209.nc', 'Summer2017-D20170625-T164600.nc', 'Summer2017-D20170625-T171948.nc', 'Summer2017-D20170625-T175136.nc', 'Summer2017-D20170625-T181701.nc', 'Summer2017-D20170625-T184227.nc', 'Summer2017-D20170625-T190753.nc', 'Summer2017-D20170625-T193400.nc', 'Summer2017-D20170625-T195927.nc', 'Summer2017-D20170625-T202452.nc', 'Summer2017-D20170625-T205018.nc', 'Summer2017-D20170625-T211542.nc', 'Summer2017-D20170625-T214108.nc', 'Summer2017-D20170625-T220634.nc', 'Summer2017-D20170625-T223159.nc', 'Summer2017-D20170625-T225724.nc', 'Summer2017-D20170625-T232250.nc', 'Summer2017-D20170625-T234816.nc']\n"
          ]
        }
      ],
      "source": [
        "\n",
        "# Select the file(s) that a region is contained in.\n",
        "raw_files = os.listdir(SONAR_PATH_raw)\n",
        "print(raw_files)\n",
        "id = 12\n",
        "select_raw_files = r2d.select_sonar_file(raw_files, id)"
      ]
    },
    {
      "cell_type": "code",
      "execution_count": 21,
      "id": "NjKEyD4vo9va",
      "metadata": {
        "id": "NjKEyD4vo9va"
      },
      "outputs": [],
      "source": [
        "# Select the file(s) that a region is contained in.\n",
        "Sv_files = os.listdir(SONAR_PATH_Sv)\n",
        "select_Sv_files = r2d.select_sonar_file(Sv_files, id)"
      ]
    },
    {
      "cell_type": "code",
      "execution_count": 22,
      "id": "QDFNmo5yPViZ",
      "metadata": {
        "id": "QDFNmo5yPViZ"
      },
      "outputs": [],
      "source": [
        "# convert a single file output to a list of one element\n",
        "if type(select_Sv_files) == str:\n",
        "  select_Sv_files = [select_Sv_files]"
      ]
    },
    {
      "cell_type": "code",
      "execution_count": 23,
      "id": "zriY-02pSZfP",
      "metadata": {
        "id": "zriY-02pSZfP"
      },
      "outputs": [],
      "source": [
        "# convert a single file output to a list of one element\n",
        "if type(select_raw_files) == str:\n",
        "  select_raw_files = [select_raw_files]"
      ]
    },
    {
      "cell_type": "code",
      "execution_count": 24,
      "id": "TtAloB3CpsML",
      "metadata": {
        "id": "TtAloB3CpsML"
      },
      "outputs": [],
      "source": [
        "# reading the selected Sv files into one dataset\n",
        "Sv = xr.open_mfdataset([os.path.join(SONAR_PATH_Sv, item) for item in select_Sv_files])"
      ]
    },
    {
      "attachments": {},
      "cell_type": "markdown",
      "id": "wQieZKlelE9D",
      "metadata": {
        "id": "wQieZKlelE9D"
      },
      "source": [
        "The `Sv` dataset has a `range_bin` dimension and in order to convert that to actual `depth` one needs to read the water level from the platform data."
      ]
    },
    {
      "cell_type": "code",
      "execution_count": 25,
      "id": "Vly1b2dWcIHh",
      "metadata": {
        "id": "Vly1b2dWcIHh"
      },
      "outputs": [],
      "source": [
        "## creating a depth dimension for Sv ##\n",
        "\n",
        "# reading the processed platform data\n",
        "ds_plat = xr.open_mfdataset([os.path.join(SONAR_PATH_raw, item) for item in select_raw_files], \n",
        "                            concat_dim='ping_time', group='Platform', combine='nested')\n",
        "# assuming water level is constant\n",
        "water_level = ds_plat.isel(location_time=0, frequency=0, ping_time=0).water_level\n",
        "del ds_plat\n",
        "\n",
        "range = Sv.range.isel(frequency=0, ping_time=0)\n",
        "\n",
        "# assuming water levels are same for different frequencies and location_time\n",
        "depth = water_level + range\n",
        "depth = depth.drop_vars('frequency')\n",
        "depth = depth.drop_vars('location_time')\n",
        "# creating a new depth dimension\n",
        "Sv['depth'] = depth\n",
        "Sv = Sv.swap_dims({'range_bin': 'depth'})"
      ]
    },
    {
      "cell_type": "code",
      "execution_count": 26,
      "id": "5e49e9d1",
      "metadata": {
        "colab": {
          "base_uri": "https://localhost:8080/",
          "height": 35
        },
        "id": "5e49e9d1",
        "outputId": "b4cae142-69e6-4f3a-a2c1-f78deaca9d1c"
      },
      "outputs": [
        {
          "data": {
            "text/plain": [
              "['Summer2017-D20170625-T195927.nc']"
            ]
          },
          "execution_count": 26,
          "metadata": {},
          "output_type": "execute_result"
        }
      ],
      "source": [
        "# Selecting one region\n",
        "r2d.select_sonar_file(raw_files, 11)"
      ]
    },
    {
      "cell_type": "code",
      "execution_count": 27,
      "id": "4dc84cba",
      "metadata": {
        "colab": {
          "base_uri": "https://localhost:8080/"
        },
        "id": "4dc84cba",
        "outputId": "aa6e279a-f942-4a03-bc7b-7d22300d5f8d"
      },
      "outputs": [
        {
          "data": {
            "text/plain": [
              "['Summer2017-D20170625-T175136.nc',\n",
              " 'Summer2017-D20170625-T181701.nc',\n",
              " 'Summer2017-D20170625-T184227.nc',\n",
              " 'Summer2017-D20170625-T190753.nc',\n",
              " 'Summer2017-D20170625-T193400.nc',\n",
              " 'Summer2017-D20170625-T195927.nc']"
            ]
          },
          "execution_count": 27,
          "metadata": {},
          "output_type": "execute_result"
        }
      ],
      "source": [
        "# Selecting 3 regions\n",
        "r2d.select_sonar_file(raw_files, [9, 10, 11])"
      ]
    },
    {
      "attachments": {},
      "cell_type": "markdown",
      "id": "ce763425",
      "metadata": {
        "id": "ce763425"
      },
      "source": [
        "## Plotting"
      ]
    },
    {
      "attachments": {},
      "cell_type": "markdown",
      "id": "6e344d5c",
      "metadata": {
        "id": "6e344d5c"
      },
      "source": [
        "The `plot` function will plot all of the regions passed into it. It also takes additional keyword arguments that can be used by matplotlib to customize the plot."
      ]
    },
    {
      "cell_type": "code",
      "execution_count": 28,
      "id": "7567b415",
      "metadata": {
        "colab": {
          "base_uri": "https://localhost:8080/",
          "height": 282
        },
        "id": "7567b415",
        "outputId": "a2a663e9-2670-4721-eccf-131e97d30410"
      },
      "outputs": [
        {
          "data": {
            "text/plain": [
              "Text(0, 0.5, 'depth')"
            ]
          },
          "execution_count": 28,
          "metadata": {},
          "output_type": "execute_result"
        },
        {
          "data": {
            "image/png": "[encoded data removed]",
            "text/plain": [
              "<Figure size 640x480 with 1 Axes>"
            ]
          },
          "metadata": {},
          "output_type": "display_data"
        }
      ],
      "source": [
        "# Plot all regions\n",
        "r2d.plot(close_region=True)\n",
        "plt.ylabel('depth')"
      ]
    },
    {
      "attachments": {},
      "cell_type": "markdown",
      "id": "J-oULTtu4vIz",
      "metadata": {
        "id": "J-oULTtu4vIz"
      },
      "source": [
        "One can see that most of the regions are either rectangular boxes or vertical log lines."
      ]
    },
    {
      "cell_type": "code",
      "execution_count": 29,
      "id": "35aafe72",
      "metadata": {
        "colab": {
          "base_uri": "https://localhost:8080/",
          "height": 265
        },
        "id": "35aafe72",
        "outputId": "9c2acd12-e763-4ecf-e62b-367af7dc1222"
      },
      "outputs": [
        {
          "data": {
            "image/png": "[encoded data removed]",
            "text/plain": [
              "<Figure size 640x480 with 1 Axes>"
            ]
          },
          "metadata": {},
          "output_type": "display_data"
        }
      ],
      "source": [
        "# Plot a subset of regions with options made availible by matplotlib\n",
        "r2d.plot(r2d[:5], close_region=True, alpha=.3, marker=\"*\", )"
      ]
    },
    {
      "cell_type": "code",
      "execution_count": 30,
      "id": "5c1f3d37",
      "metadata": {
        "colab": {
          "base_uri": "https://localhost:8080/",
          "height": 265
        },
        "id": "5c1f3d37",
        "outputId": "a0f9d248-05aa-4c08-8f74-238b00b6ba0e"
      },
      "outputs": [
        {
          "data": {
            "image/png": "[encoded data removed]",
            "text/plain": [
              "<Figure size 640x480 with 1 Axes>"
            ]
          },
          "metadata": {},
          "output_type": "display_data"
        }
      ],
      "source": [
        "# Plot a region by region ID\n",
        "r2d.plot(11)"
      ]
    },
    {
      "attachments": {},
      "cell_type": "markdown",
      "id": "0776ed83",
      "metadata": {
        "id": "0776ed83"
      },
      "source": [
        "These regions should be closed polygons, but they are provided as a list of points, and matplotlib does not automatically connect the first and last points. Plotting the closed region can be done by specifying `close_region=True` when calling `plot` or by replacing the data with the one returned by `Regions2D.close_region`."
      ]
    },
    {
      "cell_type": "code",
      "execution_count": 31,
      "id": "6671fb02",
      "metadata": {
        "colab": {
          "base_uri": "https://localhost:8080/",
          "height": 265
        },
        "id": "6671fb02",
        "outputId": "3fd8d142-c540-4408-c1ec-a999bdda051a"
      },
      "outputs": [
        {
          "data": {
            "image/png": "[encoded data removed]",
            "text/plain": [
              "<Figure size 640x480 with 1 Axes>"
            ]
          },
          "metadata": {},
          "output_type": "display_data"
        }
      ],
      "source": [
        "# Plot a closed region without modifying Regions2D.data\n",
        "r2d.plot(11, close_region=True)"
      ]
    },
    {
      "cell_type": "code",
      "execution_count": 32,
      "id": "7253dfef",
      "metadata": {
        "colab": {
          "base_uri": "https://localhost:8080/",
          "height": 265
        },
        "id": "7253dfef",
        "outputId": "15f0c553-860e-4b01-e7f8-447b0b29ad27"
      },
      "outputs": [
        {
          "data": {
            "image/png": "[encoded data removed]",
            "text/plain": [
              "<Figure size 640x480 with 1 Axes>"
            ]
          },
          "metadata": {},
          "output_type": "display_data"
        }
      ],
      "source": [
        "# Plot a closed region without modifying Regions2D.data\n",
        "r2d.data = r2d.close_region()\n",
        "r2d.plot(11)"
      ]
    },
    {
      "attachments": {},
      "cell_type": "markdown",
      "id": "d10b4eb6",
      "metadata": {
        "id": "d10b4eb6"
      },
      "source": [
        "## Subselecting"
      ]
    },
    {
      "attachments": {},
      "cell_type": "markdown",
      "id": "e31656e1",
      "metadata": {
        "id": "e31656e1"
      },
      "source": [
        "The powerful indexing capabilities that Pandas provides allows users to filter out the regions that they are interested in."
      ]
    },
    {
      "attachments": {},
      "cell_type": "markdown",
      "id": "aCQP0626cT0n",
      "metadata": {
        "id": "aCQP0626cT0n"
      },
      "source": [
        "First let's look at what type of regions this file contains. "
      ]
    },
    {
      "cell_type": "code",
      "execution_count": 33,
      "id": "pl8ptCOPcN3m",
      "metadata": {
        "colab": {
          "base_uri": "https://localhost:8080/"
        },
        "id": "pl8ptCOPcN3m",
        "outputId": "13831fe8-da31-445f-afd2-d39e6bc77b7f"
      },
      "outputs": [
        {
          "data": {
            "text/plain": [
              "<StringArray>\n",
              "['Log', 'Side station', 'Off-transect', 'Unknown', 'Unclassified regions']\n",
              "Length: 5, dtype: string"
            ]
          },
          "execution_count": 33,
          "metadata": {},
          "output_type": "execute_result"
        }
      ],
      "source": [
        "r2d.data['region_class'].unique()"
      ]
    },
    {
      "attachments": {},
      "cell_type": "markdown",
      "id": "niBAYB11efIy",
      "metadata": {
        "id": "niBAYB11efIy"
      },
      "source": [
        "Since this is the first transect most of the regions are not so interesting. "
      ]
    },
    {
      "cell_type": "code",
      "execution_count": 34,
      "id": "a005fffd",
      "metadata": {
        "colab": {
          "base_uri": "https://localhost:8080/",
          "height": 179
        },
        "id": "a005fffd",
        "outputId": "130227c5-9e55-49d1-ba22-a56f486bcee5"
      },
      "outputs": [
        {
          "data": {
            "text/html": [
              "<div>\n",
              "<style scoped>\n",
              "    .dataframe tbody tr th:only-of-type {\n",
              "        vertical-align: middle;\n",
              "    }\n",
              "\n",
              "    .dataframe tbody tr th {\n",
              "        vertical-align: top;\n",
              "    }\n",
              "\n",
              "    .dataframe thead th {\n",
              "        text-align: right;\n",
              "    }\n",
              "</style>\n",
              "<table border=\"1\" class=\"dataframe\">\n",
              "  <thead>\n",
              "    <tr style=\"text-align: right;\">\n",
              "      <th></th>\n",
              "      <th>file_name</th>\n",
              "      <th>file_type</th>\n",
              "      <th>evr_file_format_number</th>\n",
              "      <th>echoview_version</th>\n",
              "      <th>region_id</th>\n",
              "      <th>region_structure_version</th>\n",
              "      <th>region_point_count</th>\n",
              "      <th>region_selected</th>\n",
              "      <th>region_creation_type</th>\n",
              "      <th>dummy</th>\n",
              "      <th>region_bbox_calculated</th>\n",
              "      <th>region_bbox_left</th>\n",
              "      <th>region_bbox_right</th>\n",
              "      <th>region_bbox_top</th>\n",
              "      <th>region_bbox_bottom</th>\n",
              "      <th>region_class</th>\n",
              "      <th>region_type</th>\n",
              "      <th>region_name</th>\n",
              "      <th>time</th>\n",
              "      <th>depth</th>\n",
              "      <th>region_notes</th>\n",
              "      <th>region_detection_settings</th>\n",
              "    </tr>\n",
              "  </thead>\n",
              "  <tbody>\n",
              "    <tr>\n",
              "      <th>10</th>\n",
              "      <td>x1</td>\n",
              "      <td>EVRG</td>\n",
              "      <td>7</td>\n",
              "      <td>12.0.341.42620</td>\n",
              "      <td>11</td>\n",
              "      <td>13</td>\n",
              "      <td>10</td>\n",
              "      <td>0</td>\n",
              "      <td>2</td>\n",
              "      <td>-1</td>\n",
              "      <td>1</td>\n",
              "      <td>2017-06-25 20:00:59.180700</td>\n",
              "      <td>2017-06-25 20:02:08.535700</td>\n",
              "      <td>102.255201</td>\n",
              "      <td>127.947603</td>\n",
              "      <td>Unknown</td>\n",
              "      <td>1</td>\n",
              "      <td>Chicken nugget</td>\n",
              "      <td>[2017-06-25T20:01:47.093000000, 2017-06-25T20:...</td>\n",
              "      <td>[102.2552007996, 103.7403107496, 109.532239554...</td>\n",
              "      <td>[]</td>\n",
              "      <td>[]</td>\n",
              "    </tr>\n",
              "  </tbody>\n",
              "</table>\n",
              "</div>"
            ],
            "text/plain": [
              "   file_name file_type evr_file_format_number echoview_version  region_id  \\\n",
              "10        x1      EVRG                      7   12.0.341.42620         11   \n",
              "\n",
              "   region_structure_version region_point_count region_selected  \\\n",
              "10                       13                 10               0   \n",
              "\n",
              "   region_creation_type dummy  region_bbox_calculated  \\\n",
              "10                    2    -1                       1   \n",
              "\n",
              "             region_bbox_left          region_bbox_right  region_bbox_top  \\\n",
              "10 2017-06-25 20:00:59.180700 2017-06-25 20:02:08.535700       102.255201   \n",
              "\n",
              "    region_bbox_bottom region_class region_type     region_name  \\\n",
              "10          127.947603      Unknown           1  Chicken nugget   \n",
              "\n",
              "                                                 time  \\\n",
              "10  [2017-06-25T20:01:47.093000000, 2017-06-25T20:...   \n",
              "\n",
              "                                                depth region_notes  \\\n",
              "10  [102.2552007996, 103.7403107496, 109.532239554...           []   \n",
              "\n",
              "   region_detection_settings  \n",
              "10                        []  "
            ]
          },
          "execution_count": 34,
          "metadata": {},
          "output_type": "execute_result"
        }
      ],
      "source": [
        "# Select by a column value\n",
        "r2d.data.loc[r2d.data['region_class'] == 'Unknown']"
      ]
    },
    {
      "cell_type": "code",
      "execution_count": 35,
      "id": "54d4c937",
      "metadata": {
        "colab": {
          "base_uri": "https://localhost:8080/",
          "height": 378
        },
        "id": "54d4c937",
        "outputId": "5a4d6fbd-8c7b-4197-8585-30e5cff71561"
      },
      "outputs": [
        {
          "data": {
            "text/html": [
              "<div>\n",
              "<style scoped>\n",
              "    .dataframe tbody tr th:only-of-type {\n",
              "        vertical-align: middle;\n",
              "    }\n",
              "\n",
              "    .dataframe tbody tr th {\n",
              "        vertical-align: top;\n",
              "    }\n",
              "\n",
              "    .dataframe thead th {\n",
              "        text-align: right;\n",
              "    }\n",
              "</style>\n",
              "<table border=\"1\" class=\"dataframe\">\n",
              "  <thead>\n",
              "    <tr style=\"text-align: right;\">\n",
              "      <th></th>\n",
              "      <th>file_name</th>\n",
              "      <th>file_type</th>\n",
              "      <th>evr_file_format_number</th>\n",
              "      <th>echoview_version</th>\n",
              "      <th>region_id</th>\n",
              "      <th>region_structure_version</th>\n",
              "      <th>region_point_count</th>\n",
              "      <th>region_selected</th>\n",
              "      <th>region_creation_type</th>\n",
              "      <th>dummy</th>\n",
              "      <th>region_bbox_calculated</th>\n",
              "      <th>region_bbox_left</th>\n",
              "      <th>region_bbox_right</th>\n",
              "      <th>region_bbox_top</th>\n",
              "      <th>region_bbox_bottom</th>\n",
              "      <th>region_class</th>\n",
              "      <th>region_type</th>\n",
              "      <th>region_name</th>\n",
              "      <th>time</th>\n",
              "      <th>depth</th>\n",
              "      <th>region_notes</th>\n",
              "      <th>region_detection_settings</th>\n",
              "    </tr>\n",
              "  </thead>\n",
              "  <tbody>\n",
              "    <tr>\n",
              "      <th>0</th>\n",
              "      <td>x1</td>\n",
              "      <td>EVRG</td>\n",
              "      <td>7</td>\n",
              "      <td>12.0.341.42620</td>\n",
              "      <td>1</td>\n",
              "      <td>13</td>\n",
              "      <td>4</td>\n",
              "      <td>0</td>\n",
              "      <td>6</td>\n",
              "      <td>-1</td>\n",
              "      <td>1</td>\n",
              "      <td>2017-06-25 16:12:34.333500</td>\n",
              "      <td>2017-06-25 16:12:38.288000</td>\n",
              "      <td>-9999.99</td>\n",
              "      <td>9999.99</td>\n",
              "      <td>Log</td>\n",
              "      <td>2</td>\n",
              "      <td>CTD005</td>\n",
              "      <td>[2017-06-25T16:12:34.333500000, 2017-06-25T16:...</td>\n",
              "      <td>[0.0, 1000.0, 1000.0, 0.0, 0.0]</td>\n",
              "      <td>[CTD005 at depth]</td>\n",
              "      <td>[]</td>\n",
              "    </tr>\n",
              "    <tr>\n",
              "      <th>1</th>\n",
              "      <td>x1</td>\n",
              "      <td>EVRG</td>\n",
              "      <td>7</td>\n",
              "      <td>12.0.341.42620</td>\n",
              "      <td>2</td>\n",
              "      <td>13</td>\n",
              "      <td>4</td>\n",
              "      <td>0</td>\n",
              "      <td>6</td>\n",
              "      <td>-1</td>\n",
              "      <td>1</td>\n",
              "      <td>2017-06-25 16:31:36.338500</td>\n",
              "      <td>2017-06-25 16:31:40.211500</td>\n",
              "      <td>-9999.99</td>\n",
              "      <td>9999.99</td>\n",
              "      <td>Log</td>\n",
              "      <td>2</td>\n",
              "      <td>VN001</td>\n",
              "      <td>[2017-06-25T16:31:36.338500000, 2017-06-25T16:...</td>\n",
              "      <td>[0.0, 1000.0, 1000.0, 0.0, 0.0]</td>\n",
              "      <td>[VN001 @ PC1500]</td>\n",
              "      <td>[]</td>\n",
              "    </tr>\n",
              "    <tr>\n",
              "      <th>3</th>\n",
              "      <td>x1</td>\n",
              "      <td>EVRG</td>\n",
              "      <td>7</td>\n",
              "      <td>12.0.341.42620</td>\n",
              "      <td>4</td>\n",
              "      <td>13</td>\n",
              "      <td>4</td>\n",
              "      <td>0</td>\n",
              "      <td>4</td>\n",
              "      <td>-1</td>\n",
              "      <td>1</td>\n",
              "      <td>2017-06-25 15:39:22.332000</td>\n",
              "      <td>2017-06-25 16:58:09.122500</td>\n",
              "      <td>9.244758</td>\n",
              "      <td>758.973217</td>\n",
              "      <td>Side station</td>\n",
              "      <td>0</td>\n",
              "      <td>Region4</td>\n",
              "      <td>[2017-06-25T15:39:22.332000000, 2017-06-25T15:...</td>\n",
              "      <td>[9.2447583998, 758.9732173069, 758.9732173069,...</td>\n",
              "      <td>[]</td>\n",
              "      <td>[]</td>\n",
              "    </tr>\n",
              "    <tr>\n",
              "      <th>4</th>\n",
              "      <td>x1</td>\n",
              "      <td>EVRG</td>\n",
              "      <td>7</td>\n",
              "      <td>12.0.341.42620</td>\n",
              "      <td>5</td>\n",
              "      <td>13</td>\n",
              "      <td>4</td>\n",
              "      <td>0</td>\n",
              "      <td>4</td>\n",
              "      <td>-1</td>\n",
              "      <td>1</td>\n",
              "      <td>2017-06-25 15:04:28.137000</td>\n",
              "      <td>2017-06-25 15:39:26.205000</td>\n",
              "      <td>9.244758</td>\n",
              "      <td>758.973217</td>\n",
              "      <td>Off-transect</td>\n",
              "      <td>0</td>\n",
              "      <td>Region5</td>\n",
              "      <td>[2017-06-25T15:04:28.137000000, 2017-06-25T15:...</td>\n",
              "      <td>[9.2447583998, 758.9732173069, 758.9732173069,...</td>\n",
              "      <td>[]</td>\n",
              "      <td>[]</td>\n",
              "    </tr>\n",
              "  </tbody>\n",
              "</table>\n",
              "</div>"
            ],
            "text/plain": [
              "  file_name file_type evr_file_format_number echoview_version  region_id  \\\n",
              "0        x1      EVRG                      7   12.0.341.42620          1   \n",
              "1        x1      EVRG                      7   12.0.341.42620          2   \n",
              "3        x1      EVRG                      7   12.0.341.42620          4   \n",
              "4        x1      EVRG                      7   12.0.341.42620          5   \n",
              "\n",
              "  region_structure_version region_point_count region_selected  \\\n",
              "0                       13                  4               0   \n",
              "1                       13                  4               0   \n",
              "3                       13                  4               0   \n",
              "4                       13                  4               0   \n",
              "\n",
              "  region_creation_type dummy  region_bbox_calculated  \\\n",
              "0                    6    -1                       1   \n",
              "1                    6    -1                       1   \n",
              "3                    4    -1                       1   \n",
              "4                    4    -1                       1   \n",
              "\n",
              "            region_bbox_left          region_bbox_right  region_bbox_top  \\\n",
              "0 2017-06-25 16:12:34.333500 2017-06-25 16:12:38.288000         -9999.99   \n",
              "1 2017-06-25 16:31:36.338500 2017-06-25 16:31:40.211500         -9999.99   \n",
              "3 2017-06-25 15:39:22.332000 2017-06-25 16:58:09.122500         9.244758   \n",
              "4 2017-06-25 15:04:28.137000 2017-06-25 15:39:26.205000         9.244758   \n",
              "\n",
              "   region_bbox_bottom  region_class region_type region_name  \\\n",
              "0             9999.99           Log           2      CTD005   \n",
              "1             9999.99           Log           2       VN001   \n",
              "3          758.973217  Side station           0     Region4   \n",
              "4          758.973217  Off-transect           0     Region5   \n",
              "\n",
              "                                                time  \\\n",
              "0  [2017-06-25T16:12:34.333500000, 2017-06-25T16:...   \n",
              "1  [2017-06-25T16:31:36.338500000, 2017-06-25T16:...   \n",
              "3  [2017-06-25T15:39:22.332000000, 2017-06-25T15:...   \n",
              "4  [2017-06-25T15:04:28.137000000, 2017-06-25T15:...   \n",
              "\n",
              "                                               depth       region_notes  \\\n",
              "0                    [0.0, 1000.0, 1000.0, 0.0, 0.0]  [CTD005 at depth]   \n",
              "1                    [0.0, 1000.0, 1000.0, 0.0, 0.0]   [VN001 @ PC1500]   \n",
              "3  [9.2447583998, 758.9732173069, 758.9732173069,...                 []   \n",
              "4  [9.2447583998, 758.9732173069, 758.9732173069,...                 []   \n",
              "\n",
              "  region_detection_settings  \n",
              "0                        []  \n",
              "1                        []  \n",
              "3                        []  \n",
              "4                        []  "
            ]
          },
          "execution_count": 35,
          "metadata": {},
          "output_type": "execute_result"
        }
      ],
      "source": [
        "# Selecting regions using a timestamp \n",
        "r2d.data.loc[r2d.data['region_bbox_left'] < '2017-06-25 16:32:00']"
      ]
    },
    {
      "cell_type": "code",
      "execution_count": 36,
      "id": "e28f7151",
      "metadata": {
        "colab": {
          "base_uri": "https://localhost:8080/",
          "height": 237
        },
        "id": "e28f7151",
        "outputId": "6f643f8b-c2db-4704-ac82-eaea78e4809f",
        "scrolled": false
      },
      "outputs": [
        {
          "data": {
            "text/html": [
              "<div>\n",
              "<style scoped>\n",
              "    .dataframe tbody tr th:only-of-type {\n",
              "        vertical-align: middle;\n",
              "    }\n",
              "\n",
              "    .dataframe tbody tr th {\n",
              "        vertical-align: top;\n",
              "    }\n",
              "\n",
              "    .dataframe thead th {\n",
              "        text-align: right;\n",
              "    }\n",
              "</style>\n",
              "<table border=\"1\" class=\"dataframe\">\n",
              "  <thead>\n",
              "    <tr style=\"text-align: right;\">\n",
              "      <th></th>\n",
              "      <th>region_name</th>\n",
              "      <th>region_notes</th>\n",
              "      <th>time</th>\n",
              "      <th>depth</th>\n",
              "    </tr>\n",
              "  </thead>\n",
              "  <tbody>\n",
              "    <tr>\n",
              "      <th>1</th>\n",
              "      <td>VN001</td>\n",
              "      <td>[VN001 @ PC1500]</td>\n",
              "      <td>[2017-06-25T16:31:36.338500000, 2017-06-25T16:...</td>\n",
              "      <td>[0.0, 1000.0, 1000.0, 0.0, 0.0]</td>\n",
              "    </tr>\n",
              "    <tr>\n",
              "      <th>7</th>\n",
              "      <td>VN002</td>\n",
              "      <td>[VN002 @ PC1000 in the water]</td>\n",
              "      <td>[2017-06-25T18:45:16.470500000, 2017-06-25T18:...</td>\n",
              "      <td>[0.0, 1000.0, 1000.0, 0.0, 0.0]</td>\n",
              "    </tr>\n",
              "    <tr>\n",
              "      <th>13</th>\n",
              "      <td>VN003</td>\n",
              "      <td>[Vertical net 003 @ PC500 in the water]</td>\n",
              "      <td>[2017-06-25T20:58:30.235000000, 2017-06-25T20:...</td>\n",
              "      <td>[0.0, 1000.0, 1000.0, 0.0, 0.0]</td>\n",
              "    </tr>\n",
              "    <tr>\n",
              "      <th>18</th>\n",
              "      <td>VN004</td>\n",
              "      <td>[Vertical net 004 @ PC300 in the water]</td>\n",
              "      <td>[2017-06-25T22:28:24.968500000, 2017-06-25T22:...</td>\n",
              "      <td>[0.0, 1000.0, 1000.0, 0.0, 0.0]</td>\n",
              "    </tr>\n",
              "    <tr>\n",
              "      <th>24</th>\n",
              "      <td>VN005</td>\n",
              "      <td>[Vertical net 005 in the water @ PC150]</td>\n",
              "      <td>[2017-06-25T23:39:32.741000000, 2017-06-25T23:...</td>\n",
              "      <td>[0.0, 1000.0, 1000.0, 0.0, 0.0]</td>\n",
              "    </tr>\n",
              "    <tr>\n",
              "      <th>31</th>\n",
              "      <td>VN006</td>\n",
              "      <td>[Vertical net 006 at PC60]</td>\n",
              "      <td>[2017-06-26T01:44:55.408500000, 2017-06-26T01:...</td>\n",
              "      <td>[0.0, 1000.0, 1000.0, 0.0, 0.0]</td>\n",
              "    </tr>\n",
              "  </tbody>\n",
              "</table>\n",
              "</div>"
            ],
            "text/plain": [
              "   region_name                             region_notes  \\\n",
              "1        VN001                         [VN001 @ PC1500]   \n",
              "7        VN002            [VN002 @ PC1000 in the water]   \n",
              "13       VN003  [Vertical net 003 @ PC500 in the water]   \n",
              "18       VN004  [Vertical net 004 @ PC300 in the water]   \n",
              "24       VN005  [Vertical net 005 in the water @ PC150]   \n",
              "31       VN006               [Vertical net 006 at PC60]   \n",
              "\n",
              "                                                 time  \\\n",
              "1   [2017-06-25T16:31:36.338500000, 2017-06-25T16:...   \n",
              "7   [2017-06-25T18:45:16.470500000, 2017-06-25T18:...   \n",
              "13  [2017-06-25T20:58:30.235000000, 2017-06-25T20:...   \n",
              "18  [2017-06-25T22:28:24.968500000, 2017-06-25T22:...   \n",
              "24  [2017-06-25T23:39:32.741000000, 2017-06-25T23:...   \n",
              "31  [2017-06-26T01:44:55.408500000, 2017-06-26T01:...   \n",
              "\n",
              "                              depth  \n",
              "1   [0.0, 1000.0, 1000.0, 0.0, 0.0]  \n",
              "7   [0.0, 1000.0, 1000.0, 0.0, 0.0]  \n",
              "13  [0.0, 1000.0, 1000.0, 0.0, 0.0]  \n",
              "18  [0.0, 1000.0, 1000.0, 0.0, 0.0]  \n",
              "24  [0.0, 1000.0, 1000.0, 0.0, 0.0]  \n",
              "31  [0.0, 1000.0, 1000.0, 0.0, 0.0]  "
            ]
          },
          "execution_count": 36,
          "metadata": {},
          "output_type": "execute_result"
        }
      ],
      "source": [
        "# Selecting regions with notes with a name containing VN (Vertical Net)\n",
        "df = r2d.data[r2d.data['region_notes'].astype(bool) & r2d.data['region_name'].str.contains('VN')]\n",
        "df[['region_name', 'region_notes', 'time', 'depth']]"
      ]
    },
    {
      "cell_type": "code",
      "execution_count": null,
      "id": "d67a6068",
      "metadata": {},
      "outputs": [],
      "source": []
    }
  ],
  "metadata": {
    "colab": {
      "collapsed_sections": [],
      "name": "Regions2D_functions.ipynb",
      "provenance": []
    },
    "kernelspec": {
      "display_name": ".venv",
      "language": "python",
      "name": "python3"
    },
    "language_info": {
      "codemirror_mode": {
        "name": "ipython",
        "version": 3
      },
      "file_extension": ".py",
      "mimetype": "text/x-python",
      "name": "python",
      "nbconvert_exporter": "python",
      "pygments_lexer": "ipython3",
      "version": "3.10.11"
    }
  },
  "nbformat": 4,
  "nbformat_minor": 5
}
