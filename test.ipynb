{
  "cells": [
    {
      "cell_type": "code",
      "execution_count": 1,
      "metadata": {},
      "outputs": [],
      "source": [
        "import os\n",
        "import re\n",
        "from pathlib import Path\n",
        "\n",
        "import numpy as np\n",
        "import pandas as pd\n",
        "import pytest\n",
        "import xarray as xr\n",
        "from xarray import DataArray, Dataset\n",
        "from dask.distributed import Client\n",
        "import dask\n",
        "\n",
        "import echoregions as er\n",
        "from echoregions import write_evr\n",
        "from echoregions.regions2d.regions2d import Regions2D\n"
      ]
    },
    {
      "cell_type": "code",
      "execution_count": 2,
      "metadata": {},
      "outputs": [],
      "source": [
        "client = Client()"
      ]
    },
    {
      "cell_type": "code",
      "execution_count": 3,
      "metadata": {},
      "outputs": [
        {
          "data": {
            "text/plain": [
              "'http://127.0.0.1:8787/status'"
            ]
          },
          "execution_count": 3,
          "metadata": {},
          "output_type": "execute_result"
        }
      ],
      "source": [
        "client.dashboard_link"
      ]
    },
    {
      "cell_type": "code",
      "execution_count": 4,
      "metadata": {},
      "outputs": [],
      "source": [
        "DATA_DIR = Path(\"./echoregions/test_data/\")\n",
        "EVR_PATH = DATA_DIR / \"transect_multi_mask.evr\"\n",
        "ZARR_PATH = DATA_DIR / \"transect.zarr\""
      ]
    },
    {
      "cell_type": "code",
      "execution_count": 5,
      "metadata": {},
      "outputs": [
        {
          "name": "stderr",
          "output_type": "stream",
          "text": [
            "2025-03-06 18:00:52,995 - distributed.nanny - WARNING - Restarting worker\n",
            "2025-03-06 18:00:52,998 - distributed.nanny - WARNING - Restarting worker\n",
            "2025-03-06 18:00:53,003 - distributed.nanny - WARNING - Restarting worker\n",
            "2025-03-06 18:00:53,005 - distributed.nanny - WARNING - Restarting worker\n",
            "2025-03-06 18:00:53,009 - distributed.nanny - WARNING - Restarting worker\n",
            "2025-03-06 18:00:54,886 - distributed.scheduler - WARNING - Detected different `run_spec` for key (\"range_sample-_mask_block-8f80cb99bf7fb6496f85f8534acd7c1a-'open_dataset-range_sample-c1494217d58993633019f70b92fcb1a5'\", 0, 2) between two consecutive calls to `update_graph`. This can cause failures and deadlocks down the line. Please ensure unique key names. If you are using a standard dask collections, consider releasing all the data before resubmitting another computation. More details and help can be found at https://github.com/dask/dask/issues/9888. \n",
            "Debugging information\n",
            "---------------------\n",
            "old task state: released\n",
            "old run_spec: Alias((\"range_sample-_mask_block-8f80cb99bf7fb6496f85f8534acd7c1a-'open_dataset-range_sample-c1494217d58993633019f70b92fcb1a5'\", 0, 2)->(\"open_dataset-original-range_sample-_mask_block-8f80cb99bf7fb6496f85f8534acd7c1a-'open_dataset-range_sample-c1494217-6507\", 0, 2))\n",
            "new run_spec: <Task (\"range_sample-_mask_block-8f80cb99bf7fb6496f85f8534acd7c1a-'open_dataset-range_sample-c1494217d58993633019f70b92fcb1a5'\", 0, 2) tuple(...)>\n",
            "old dependencies: {(\"open_dataset-original-range_sample-_mask_block-8f80cb99bf7fb6496f85f8534acd7c1a-'open_dataset-range_sample-c1494217-6507\", 0, 2)}\n",
            "new dependencies: {('open_dataset-range_sample-c1494217d58993633019f70b92fcb1a5', 0)}\n",
            "\n",
            "2025-03-06 18:00:54,886 - distributed.scheduler - WARNING - Detected different `run_spec` for key (\"Sv-_mask_block-8f80cb99bf7fb6496f85f8534acd7c1a-'getitem-4df367f2a1d10f1cb6de8518bb0de0c4'\", 0, 2) between two consecutive calls to `update_graph`. This can cause failures and deadlocks down the line. Please ensure unique key names. If you are using a standard dask collections, consider releasing all the data before resubmitting another computation. More details and help can be found at https://github.com/dask/dask/issues/9888. \n",
            "Debugging information\n",
            "---------------------\n",
            "old task state: released\n",
            "old run_spec: Alias((\"Sv-_mask_block-8f80cb99bf7fb6496f85f8534acd7c1a-'getitem-4df367f2a1d10f1cb6de8518bb0de0c4'\", 0, 2)->(\"getitem-open_dataset-Sv-original-Sv-_mask_block-8f80cb99bf7fb6496f85f8534acd7c1a-'getitem-4df367f2a1d10f1cb6de8518b--44a\", 0, 2))\n",
            "new run_spec: Alias((\"Sv-_mask_block-8f80cb99bf7fb6496f85f8534acd7c1a-'getitem-4df367f2a1d10f1cb6de8518bb0de0c4'\", 0, 2)->(\"getitem-open_dataset-Sv-Sv-_mask_block-8f80cb99bf7fb6496f85f8534acd7c1a-'getitem-4df367f2a1d10f1cb6de8518bb0de0c4'\", 0, 2))\n",
            "old dependencies: {(\"getitem-open_dataset-Sv-original-Sv-_mask_block-8f80cb99bf7fb6496f85f8534acd7c1a-'getitem-4df367f2a1d10f1cb6de8518b--44a\", 0, 2)}\n",
            "new dependencies: {(\"getitem-open_dataset-Sv-Sv-_mask_block-8f80cb99bf7fb6496f85f8534acd7c1a-'getitem-4df367f2a1d10f1cb6de8518bb0de0c4'\", 0, 2)}\n",
            "\n",
            "2025-03-06 18:00:57,391 - distributed.scheduler - WARNING - Detected different `run_spec` for key (\"Sv-_mask_block-05655d99e5c370a3f5a1f6efb387b886-'getitem-4df367f2a1d10f1cb6de8518bb0de0c4'\", 0, 2) between two consecutive calls to `update_graph`. This can cause failures and deadlocks down the line. Please ensure unique key names. If you are using a standard dask collections, consider releasing all the data before resubmitting another computation. More details and help can be found at https://github.com/dask/dask/issues/9888. \n",
            "Debugging information\n",
            "---------------------\n",
            "old task state: released\n",
            "old run_spec: Alias((\"Sv-_mask_block-05655d99e5c370a3f5a1f6efb387b886-'getitem-4df367f2a1d10f1cb6de8518bb0de0c4'\", 0, 2)->(\"getitem-open_dataset-Sv-original-Sv-_mask_block-05655d99e5c370a3f5a1f6efb387b886-'getitem-4df367f2a1d10f1cb6de8518b--60b\", 0, 2))\n",
            "new run_spec: Alias((\"Sv-_mask_block-05655d99e5c370a3f5a1f6efb387b886-'getitem-4df367f2a1d10f1cb6de8518bb0de0c4'\", 0, 2)->(\"getitem-open_dataset-Sv-Sv-_mask_block-05655d99e5c370a3f5a1f6efb387b886-'getitem-4df367f2a1d10f1cb6de8518bb0de0c4'\", 0, 2))\n",
            "old dependencies: {(\"getitem-open_dataset-Sv-original-Sv-_mask_block-05655d99e5c370a3f5a1f6efb387b886-'getitem-4df367f2a1d10f1cb6de8518b--60b\", 0, 2)}\n",
            "new dependencies: {(\"getitem-open_dataset-Sv-Sv-_mask_block-05655d99e5c370a3f5a1f6efb387b886-'getitem-4df367f2a1d10f1cb6de8518bb0de0c4'\", 0, 2)}\n",
            "\n",
            "2025-03-06 18:00:57,392 - distributed.scheduler - WARNING - Detected different `run_spec` for key (\"range_sample-_mask_block-05655d99e5c370a3f5a1f6efb387b886-'open_dataset-range_sample-c1494217d58993633019f70b92fcb1a5'\", 0, 2) between two consecutive calls to `update_graph`. This can cause failures and deadlocks down the line. Please ensure unique key names. If you are using a standard dask collections, consider releasing all the data before resubmitting another computation. More details and help can be found at https://github.com/dask/dask/issues/9888. \n",
            "Debugging information\n",
            "---------------------\n",
            "old task state: released\n",
            "old run_spec: Alias((\"range_sample-_mask_block-05655d99e5c370a3f5a1f6efb387b886-'open_dataset-range_sample-c1494217d58993633019f70b92fcb1a5'\", 0, 2)->(\"open_dataset-original-range_sample-_mask_block-05655d99e5c370a3f5a1f6efb387b886-'open_dataset-range_sample-c1494217--40c\", 0, 2))\n",
            "new run_spec: <Task (\"range_sample-_mask_block-05655d99e5c370a3f5a1f6efb387b886-'open_dataset-range_sample-c1494217d58993633019f70b92fcb1a5'\", 0, 2) tuple(...)>\n",
            "old dependencies: {(\"open_dataset-original-range_sample-_mask_block-05655d99e5c370a3f5a1f6efb387b886-'open_dataset-range_sample-c1494217--40c\", 0, 2)}\n",
            "new dependencies: {('open_dataset-range_sample-c1494217d58993633019f70b92fcb1a5', 0)}\n",
            "\n",
            "2025-03-06 18:00:59,718 - distributed.scheduler - WARNING - Detected different `run_spec` for key (\"range_sample-_mask_block-740bb575f4fe2b929bdcf5fe687ff127-'open_dataset-range_sample-c1494217d58993633019f70b92fcb1a5'\", 0, 2) between two consecutive calls to `update_graph`. This can cause failures and deadlocks down the line. Please ensure unique key names. If you are using a standard dask collections, consider releasing all the data before resubmitting another computation. More details and help can be found at https://github.com/dask/dask/issues/9888. \n",
            "Debugging information\n",
            "---------------------\n",
            "old task state: released\n",
            "old run_spec: Alias((\"range_sample-_mask_block-740bb575f4fe2b929bdcf5fe687ff127-'open_dataset-range_sample-c1494217d58993633019f70b92fcb1a5'\", 0, 2)->(\"open_dataset-original-range_sample-_mask_block-740bb575f4fe2b929bdcf5fe687ff127-'open_dataset-range_sample-c1494217-6669\", 0, 2))\n",
            "new run_spec: <Task (\"range_sample-_mask_block-740bb575f4fe2b929bdcf5fe687ff127-'open_dataset-range_sample-c1494217d58993633019f70b92fcb1a5'\", 0, 2) tuple(...)>\n",
            "old dependencies: {(\"open_dataset-original-range_sample-_mask_block-740bb575f4fe2b929bdcf5fe687ff127-'open_dataset-range_sample-c1494217-6669\", 0, 2)}\n",
            "new dependencies: {('open_dataset-range_sample-c1494217d58993633019f70b92fcb1a5', 0)}\n",
            "\n",
            "2025-03-06 18:00:59,719 - distributed.scheduler - WARNING - Detected different `run_spec` for key (\"Sv-_mask_block-740bb575f4fe2b929bdcf5fe687ff127-'getitem-4df367f2a1d10f1cb6de8518bb0de0c4'\", 0, 2) between two consecutive calls to `update_graph`. This can cause failures and deadlocks down the line. Please ensure unique key names. If you are using a standard dask collections, consider releasing all the data before resubmitting another computation. More details and help can be found at https://github.com/dask/dask/issues/9888. \n",
            "Debugging information\n",
            "---------------------\n",
            "old task state: released\n",
            "old run_spec: Alias((\"Sv-_mask_block-740bb575f4fe2b929bdcf5fe687ff127-'getitem-4df367f2a1d10f1cb6de8518bb0de0c4'\", 0, 2)->(\"getitem-open_dataset-Sv-original-Sv-_mask_block-740bb575f4fe2b929bdcf5fe687ff127-'getitem-4df367f2a1d10f1cb6de8518b-4378\", 0, 2))\n",
            "new run_spec: Alias((\"Sv-_mask_block-740bb575f4fe2b929bdcf5fe687ff127-'getitem-4df367f2a1d10f1cb6de8518bb0de0c4'\", 0, 2)->(\"getitem-open_dataset-Sv-Sv-_mask_block-740bb575f4fe2b929bdcf5fe687ff127-'getitem-4df367f2a1d10f1cb6de8518bb0de0c4'\", 0, 2))\n",
            "old dependencies: {(\"getitem-open_dataset-Sv-original-Sv-_mask_block-740bb575f4fe2b929bdcf5fe687ff127-'getitem-4df367f2a1d10f1cb6de8518b-4378\", 0, 2)}\n",
            "new dependencies: {(\"getitem-open_dataset-Sv-Sv-_mask_block-740bb575f4fe2b929bdcf5fe687ff127-'getitem-4df367f2a1d10f1cb6de8518bb0de0c4'\", 0, 2)}\n",
            "\n",
            "2025-03-06 18:01:01,888 - distributed.scheduler - WARNING - Detected different `run_spec` for key (\"Sv-_mask_block-899cdaa6a4c3db90dddcfd9596360583-'getitem-4df367f2a1d10f1cb6de8518bb0de0c4'\", 0, 2) between two consecutive calls to `update_graph`. This can cause failures and deadlocks down the line. Please ensure unique key names. If you are using a standard dask collections, consider releasing all the data before resubmitting another computation. More details and help can be found at https://github.com/dask/dask/issues/9888. \n",
            "Debugging information\n",
            "---------------------\n",
            "old task state: released\n",
            "old run_spec: Alias((\"Sv-_mask_block-899cdaa6a4c3db90dddcfd9596360583-'getitem-4df367f2a1d10f1cb6de8518bb0de0c4'\", 0, 2)->(\"getitem-open_dataset-Sv-original-Sv-_mask_block-899cdaa6a4c3db90dddcfd9596360583-'getitem-4df367f2a1d10f1cb6de8518b-4393\", 0, 2))\n",
            "new run_spec: Alias((\"Sv-_mask_block-899cdaa6a4c3db90dddcfd9596360583-'getitem-4df367f2a1d10f1cb6de8518bb0de0c4'\", 0, 2)->(\"getitem-open_dataset-Sv-Sv-_mask_block-899cdaa6a4c3db90dddcfd9596360583-'getitem-4df367f2a1d10f1cb6de8518bb0de0c4'\", 0, 2))\n",
            "old dependencies: {(\"getitem-open_dataset-Sv-original-Sv-_mask_block-899cdaa6a4c3db90dddcfd9596360583-'getitem-4df367f2a1d10f1cb6de8518b-4393\", 0, 2)}\n",
            "new dependencies: {(\"getitem-open_dataset-Sv-Sv-_mask_block-899cdaa6a4c3db90dddcfd9596360583-'getitem-4df367f2a1d10f1cb6de8518bb0de0c4'\", 0, 2)}\n",
            "\n",
            "2025-03-06 18:01:01,889 - distributed.scheduler - WARNING - Detected different `run_spec` for key (\"range_sample-_mask_block-899cdaa6a4c3db90dddcfd9596360583-'open_dataset-range_sample-c1494217d58993633019f70b92fcb1a5'\", 0, 2) between two consecutive calls to `update_graph`. This can cause failures and deadlocks down the line. Please ensure unique key names. If you are using a standard dask collections, consider releasing all the data before resubmitting another computation. More details and help can be found at https://github.com/dask/dask/issues/9888. \n",
            "Debugging information\n",
            "---------------------\n",
            "old task state: released\n",
            "old run_spec: Alias((\"range_sample-_mask_block-899cdaa6a4c3db90dddcfd9596360583-'open_dataset-range_sample-c1494217d58993633019f70b92fcb1a5'\", 0, 2)->(\"open_dataset-original-range_sample-_mask_block-899cdaa6a4c3db90dddcfd9596360583-'open_dataset-range_sample-c1494217-1d4f\", 0, 2))\n",
            "new run_spec: <Task (\"range_sample-_mask_block-899cdaa6a4c3db90dddcfd9596360583-'open_dataset-range_sample-c1494217d58993633019f70b92fcb1a5'\", 0, 2) tuple(...)>\n",
            "old dependencies: {(\"open_dataset-original-range_sample-_mask_block-899cdaa6a4c3db90dddcfd9596360583-'open_dataset-range_sample-c1494217-1d4f\", 0, 2)}\n",
            "new dependencies: {('open_dataset-range_sample-c1494217d58993633019f70b92fcb1a5', 0)}\n",
            "\n",
            "2025-03-06 18:01:04,052 - distributed.scheduler - WARNING - Detected different `run_spec` for key (\"Sv-_mask_block-7d84f9f629d6f4853dbf444e63c13862-'getitem-4df367f2a1d10f1cb6de8518bb0de0c4'\", 0, 2) between two consecutive calls to `update_graph`. This can cause failures and deadlocks down the line. Please ensure unique key names. If you are using a standard dask collections, consider releasing all the data before resubmitting another computation. More details and help can be found at https://github.com/dask/dask/issues/9888. \n",
            "Debugging information\n",
            "---------------------\n",
            "old task state: released\n",
            "old run_spec: Alias((\"Sv-_mask_block-7d84f9f629d6f4853dbf444e63c13862-'getitem-4df367f2a1d10f1cb6de8518bb0de0c4'\", 0, 2)->(\"getitem-open_dataset-Sv-original-Sv-_mask_block-7d84f9f629d6f4853dbf444e63c13862-'getitem-4df367f2a1d10f1cb6de8518b-769c\", 0, 2))\n",
            "new run_spec: Alias((\"Sv-_mask_block-7d84f9f629d6f4853dbf444e63c13862-'getitem-4df367f2a1d10f1cb6de8518bb0de0c4'\", 0, 2)->(\"getitem-open_dataset-Sv-Sv-_mask_block-7d84f9f629d6f4853dbf444e63c13862-'getitem-4df367f2a1d10f1cb6de8518bb0de0c4'\", 0, 2))\n",
            "old dependencies: {(\"getitem-open_dataset-Sv-original-Sv-_mask_block-7d84f9f629d6f4853dbf444e63c13862-'getitem-4df367f2a1d10f1cb6de8518b-769c\", 0, 2)}\n",
            "new dependencies: {(\"getitem-open_dataset-Sv-Sv-_mask_block-7d84f9f629d6f4853dbf444e63c13862-'getitem-4df367f2a1d10f1cb6de8518bb0de0c4'\", 0, 2)}\n",
            "\n",
            "2025-03-06 18:01:04,052 - distributed.scheduler - WARNING - Detected different `run_spec` for key (\"range_sample-_mask_block-7d84f9f629d6f4853dbf444e63c13862-'open_dataset-range_sample-c1494217d58993633019f70b92fcb1a5'\", 0, 2) between two consecutive calls to `update_graph`. This can cause failures and deadlocks down the line. Please ensure unique key names. If you are using a standard dask collections, consider releasing all the data before resubmitting another computation. More details and help can be found at https://github.com/dask/dask/issues/9888. \n",
            "Debugging information\n",
            "---------------------\n",
            "old task state: released\n",
            "old run_spec: Alias((\"range_sample-_mask_block-7d84f9f629d6f4853dbf444e63c13862-'open_dataset-range_sample-c1494217d58993633019f70b92fcb1a5'\", 0, 2)->(\"open_dataset-original-range_sample-_mask_block-7d84f9f629d6f4853dbf444e63c13862-'open_dataset-range_sample-c1494217--4de\", 0, 2))\n",
            "new run_spec: <Task (\"range_sample-_mask_block-7d84f9f629d6f4853dbf444e63c13862-'open_dataset-range_sample-c1494217d58993633019f70b92fcb1a5'\", 0, 2) tuple(...)>\n",
            "old dependencies: {(\"open_dataset-original-range_sample-_mask_block-7d84f9f629d6f4853dbf444e63c13862-'open_dataset-range_sample-c1494217--4de\", 0, 2)}\n",
            "new dependencies: {('open_dataset-range_sample-c1494217d58993633019f70b92fcb1a5', 0)}\n",
            "\n"
          ]
        }
      ],
      "source": [
        "client.restart()"
      ]
    },
    {
      "cell_type": "code",
      "execution_count": 6,
      "metadata": {},
      "outputs": [],
      "source": [
        "r2d = er.read_evr(EVR_PATH)\n",
        "da_Sv = xr.open_zarr(ZARR_PATH, chunks={})[\"Sv\"]"
      ]
    },
    {
      "cell_type": "code",
      "execution_count": 7,
      "metadata": {},
      "outputs": [],
      "source": [
        "#da_Sv = da_Sv.chunk({\"ping_time\": 500, \"depth\": 500})"
      ]
    },
    {
      "cell_type": "code",
      "execution_count": 8,
      "metadata": {},
      "outputs": [
        {
          "name": "stderr",
          "output_type": "stream",
          "text": [
            "/home/ctuguinay/miniforge3/envs/echoregions/lib/python3.12/site-packages/zarr/codecs/vlen_utf8.py:44: UserWarning: The codec `vlen-utf8` is currently not part in the Zarr format 3 specification. It may not be supported by other zarr implementations and may change in the future.\n",
            "  return cls(**configuration_parsed)\n",
            "/home/ctuguinay/miniforge3/envs/echoregions/lib/python3.12/site-packages/zarr/core/array.py:3991: UserWarning: The dtype `<U21` is currently not part in the Zarr format 3 specification. It may not be supported by other zarr implementations and may change in the future.\n",
            "  meta = AsyncArray._create_metadata_v3(\n",
            "/home/ctuguinay/miniforge3/envs/echoregions/lib/python3.12/site-packages/zarr/codecs/vlen_utf8.py:44: UserWarning: The codec `vlen-utf8` is currently not part in the Zarr format 3 specification. It may not be supported by other zarr implementations and may change in the future.\n",
            "  return cls(**configuration_parsed)\n",
            "/home/ctuguinay/miniforge3/envs/echoregions/lib/python3.12/site-packages/zarr/api/asynchronous.py:203: UserWarning: Consolidated metadata is currently not part in the Zarr format 3 specification. It may not be supported by other zarr implementations and may change in the future.\n",
            "  warnings.warn(\n"
          ]
        },
        {
          "data": {
            "text/plain": [
              "<xarray.backends.zarr.ZarrStore at 0x7273dc7d9510>"
            ]
          },
          "execution_count": 8,
          "metadata": {},
          "output_type": "execute_result"
        }
      ],
      "source": [
        "region_id = r2d.data.region_id.astype(int).to_list()\n",
        "mask_labels = {key: idx for idx, key in enumerate(region_id)}\n",
        "mask_labels[13] = \"Mask1\"\n",
        "\n",
        "# Create mask\n",
        "mask_3d_ds, contours = r2d.region_mask(\n",
        "    da_Sv, mask_labels=mask_labels,\n",
        ")\n",
        "mask_3d_ds.to_zarr('test.zarr', compute=True, mode=\"w\")"
      ]
    },
    {
      "cell_type": "code",
      "execution_count": 9,
      "metadata": {},
      "outputs": [
        {
          "data": {
            "text/html": [
              "<div>\n",
              "<style scoped>\n",
              "    .dataframe tbody tr th:only-of-type {\n",
              "        vertical-align: middle;\n",
              "    }\n",
              "\n",
              "    .dataframe tbody tr th {\n",
              "        vertical-align: top;\n",
              "    }\n",
              "\n",
              "    .dataframe thead th {\n",
              "        text-align: right;\n",
              "    }\n",
              "</style>\n",
              "<table border=\"1\" class=\"dataframe\">\n",
              "  <thead>\n",
              "    <tr style=\"text-align: right;\">\n",
              "      <th></th>\n",
              "      <th>region_id</th>\n",
              "      <th>depth</th>\n",
              "      <th>time</th>\n",
              "    </tr>\n",
              "  </thead>\n",
              "  <tbody>\n",
              "    <tr>\n",
              "      <th>12</th>\n",
              "      <td>13</td>\n",
              "      <td>[100.0, 200.0, 100.0, 200.0]</td>\n",
              "      <td>[2019-07-02T19:57:21.531000000, 2019-07-02T19:...</td>\n",
              "    </tr>\n",
              "    <tr>\n",
              "      <th>17</th>\n",
              "      <td>18</td>\n",
              "      <td>[9.2447583998, 700.0, 700.0, 9.2447583998]</td>\n",
              "      <td>[2019-07-02T18:40:51.809700000, 2019-07-02T18:...</td>\n",
              "    </tr>\n",
              "  </tbody>\n",
              "</table>\n",
              "</div>"
            ],
            "text/plain": [
              "    region_id                                       depth  \\\n",
              "12         13                [100.0, 200.0, 100.0, 200.0]   \n",
              "17         18  [9.2447583998, 700.0, 700.0, 9.2447583998]   \n",
              "\n",
              "                                                 time  \n",
              "12  [2019-07-02T19:57:21.531000000, 2019-07-02T19:...  \n",
              "17  [2019-07-02T18:40:51.809700000, 2019-07-02T18:...  "
            ]
          },
          "execution_count": 9,
          "metadata": {},
          "output_type": "execute_result"
        }
      ],
      "source": [
        "contours"
      ]
    },
    {
      "cell_type": "code",
      "execution_count": 10,
      "metadata": {},
      "outputs": [
        {
          "name": "stderr",
          "output_type": "stream",
          "text": [
            "/home/ctuguinay/miniforge3/envs/echoregions/lib/python3.12/site-packages/distributed/client.py:3370: UserWarning: Sending large graph of size 38.26 MiB.\n",
            "This may cause some slowdown.\n",
            "Consider loading the data with Dask directly\n",
            " or using futures or delayed objects to embed the data into the graph without repetition.\n",
            "See also https://docs.dask.org/en/stable/best-practices.html#load-data-with-dask for more information.\n",
            "  warnings.warn(\n"
          ]
        },
        {
          "data": {
            "text/plain": [
              "<matplotlib.collections.QuadMesh at 0x7273d071a060>"
            ]
          },
          "execution_count": 10,
          "metadata": {},
          "output_type": "execute_result"
        },
        {
          "data": {
            "image/png": "[encoded data removed]",
            "text/plain": [
              "<Figure size 640x480 with 2 Axes>"
            ]
          },
          "metadata": {},
          "output_type": "display_data"
        }
      ],
      "source": [
        "mask_3d_ds[\"mask_3d\"].isel(region_id=1).plot(yincrease=False, y=\"depth\")"
      ]
    },
    {
      "cell_type": "code",
      "execution_count": 11,
      "metadata": {},
      "outputs": [],
      "source": [
        "mask_3d_ds_computed, _ = r2d.region_mask(\n",
        "    da_Sv.compute(), mask_labels=mask_labels,\n",
        ")"
      ]
    },
    {
      "cell_type": "code",
      "execution_count": 12,
      "metadata": {},
      "outputs": [
        {
          "name": "stderr",
          "output_type": "stream",
          "text": [
            "/home/ctuguinay/miniforge3/envs/echoregions/lib/python3.12/site-packages/distributed/client.py:3370: UserWarning: Sending large graph of size 114.26 MiB.\n",
            "This may cause some slowdown.\n",
            "Consider loading the data with Dask directly\n",
            " or using futures or delayed objects to embed the data into the graph without repetition.\n",
            "See also https://docs.dask.org/en/stable/best-practices.html#load-data-with-dask for more information.\n",
            "  warnings.warn(\n",
            "/home/ctuguinay/miniforge3/envs/echoregions/lib/python3.12/site-packages/distributed/client.py:3370: UserWarning: Sending large graph of size 35.55 MiB.\n",
            "This may cause some slowdown.\n",
            "Consider loading the data with Dask directly\n",
            " or using futures or delayed objects to embed the data into the graph without repetition.\n",
            "See also https://docs.dask.org/en/stable/best-practices.html#load-data-with-dask for more information.\n",
            "  warnings.warn(\n"
          ]
        },
        {
          "data": {
            "text/plain": [
              "True"
            ]
          },
          "execution_count": 12,
          "metadata": {},
          "output_type": "execute_result"
        }
      ],
      "source": [
        "mask_3d_ds_computed.equals(mask_3d_ds)"
      ]
    }
  ],
  "metadata": {
    "kernelspec": {
      "display_name": "echoregions",
      "language": "python",
      "name": "python3"
    },
    "language_info": {
      "codemirror_mode": {
        "name": "ipython",
        "version": 3
      },
      "file_extension": ".py",
      "mimetype": "text/x-python",
      "name": "python",
      "nbconvert_exporter": "python",
      "pygments_lexer": "ipython3",
      "version": "3.12.9"
    }
  },
  "nbformat": 4,
  "nbformat_minor": 2
}
